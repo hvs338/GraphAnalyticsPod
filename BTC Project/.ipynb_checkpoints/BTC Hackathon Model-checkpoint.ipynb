{
 "cells": [
  {
   "cell_type": "code",
   "execution_count": 4,
   "metadata": {},
   "outputs": [
    {
     "name": "stdout",
     "output_type": "stream",
     "text": [
      "Requirement already satisfied: lightgbm in c:\\users\\harsmith\\anaconda3\\lib\\site-packages (3.3.3)\n",
      "Requirement already satisfied: scikit-learn!=0.22.0 in c:\\users\\harsmith\\anaconda3\\lib\\site-packages (from lightgbm) (1.0.2)\n",
      "Requirement already satisfied: scipy in c:\\users\\harsmith\\anaconda3\\lib\\site-packages (from lightgbm) (1.7.3)\n",
      "Requirement already satisfied: wheel in c:\\users\\harsmith\\anaconda3\\lib\\site-packages (from lightgbm) (0.37.1)\n",
      "Requirement already satisfied: numpy in c:\\users\\harsmith\\anaconda3\\lib\\site-packages (from lightgbm) (1.21.5)\n",
      "Requirement already satisfied: threadpoolctl>=2.0.0 in c:\\users\\harsmith\\anaconda3\\lib\\site-packages (from scikit-learn!=0.22.0->lightgbm) (2.2.0)\n",
      "Requirement already satisfied: joblib>=0.11 in c:\\users\\harsmith\\anaconda3\\lib\\site-packages (from scikit-learn!=0.22.0->lightgbm) (1.1.0)\n",
      "Requirement already satisfied: spark in c:\\users\\harsmith\\anaconda3\\lib\\site-packages (0.2.1)\n"
     ]
    }
   ],
   "source": [
    "!pip install lightgbm\n",
    "!pip install spark"
   ]
  },
  {
   "cell_type": "code",
   "execution_count": 5,
   "metadata": {},
   "outputs": [
    {
     "ename": "NameError",
     "evalue": "name 'spark' is not defined",
     "output_type": "error",
     "traceback": [
      "\u001b[1;31m---------------------------------------------------------------------------\u001b[0m",
      "\u001b[1;31mNameError\u001b[0m                                 Traceback (most recent call last)",
      "Input \u001b[1;32mIn [5]\u001b[0m, in \u001b[0;36m<cell line: 1>\u001b[1;34m()\u001b[0m\n\u001b[1;32m----> 1\u001b[0m \u001b[43mspark\u001b[49m\u001b[38;5;241m.\u001b[39mstop()\n",
      "\u001b[1;31mNameError\u001b[0m: name 'spark' is not defined"
     ]
    }
   ],
   "source": [
    "spark.stop()"
   ]
  },
  {
   "cell_type": "code",
   "execution_count": 6,
   "metadata": {},
   "outputs": [],
   "source": [
    "from pyspark.sql.functions import col, explode, year, month\n",
    "from pyspark.sql import SparkSession"
   ]
  },
  {
   "cell_type": "code",
   "execution_count": 7,
   "metadata": {},
   "outputs": [
    {
     "ename": "RuntimeError",
     "evalue": "Java gateway process exited before sending its port number",
     "output_type": "error",
     "traceback": [
      "\u001b[1;31m---------------------------------------------------------------------------\u001b[0m",
      "\u001b[1;31mRuntimeError\u001b[0m                              Traceback (most recent call last)",
      "Input \u001b[1;32mIn [7]\u001b[0m, in \u001b[0;36m<cell line: 1>\u001b[1;34m()\u001b[0m\n\u001b[1;32m----> 1\u001b[0m spark \u001b[38;5;241m=\u001b[39m \u001b[43mSparkSession\u001b[49m\u001b[43m \u001b[49m\u001b[43m\\\u001b[49m\n\u001b[0;32m      2\u001b[0m \u001b[43m    \u001b[49m\u001b[38;5;241;43m.\u001b[39;49m\u001b[43mbuilder\u001b[49m\u001b[43m \u001b[49m\u001b[43m\\\u001b[49m\n\u001b[0;32m      3\u001b[0m \u001b[43m    \u001b[49m\u001b[38;5;241;43m.\u001b[39;49m\u001b[43mmaster\u001b[49m\u001b[43m(\u001b[49m\u001b[38;5;124;43m'\u001b[39;49m\u001b[38;5;124;43myarn\u001b[39;49m\u001b[38;5;124;43m'\u001b[39;49m\u001b[43m)\u001b[49m\u001b[43m \u001b[49m\u001b[43m\\\u001b[49m\n\u001b[0;32m      4\u001b[0m \u001b[43m    \u001b[49m\u001b[38;5;241;43m.\u001b[39;49m\u001b[43mappName\u001b[49m\u001b[43m(\u001b[49m\u001b[38;5;124;43m'\u001b[39;49m\u001b[38;5;124;43mChainAnalysis_v0\u001b[39;49m\u001b[38;5;124;43m'\u001b[39;49m\u001b[43m)\u001b[49m\u001b[43m \u001b[49m\u001b[43m\\\u001b[49m\n\u001b[0;32m      5\u001b[0m \u001b[43m    \u001b[49m\u001b[38;5;241;43m.\u001b[39;49m\u001b[43mconfig\u001b[49m\u001b[43m(\u001b[49m\u001b[38;5;124;43m'\u001b[39;49m\u001b[38;5;124;43mspark.jars\u001b[39;49m\u001b[38;5;124;43m'\u001b[39;49m\u001b[43m,\u001b[49m\u001b[43m \u001b[49m\u001b[38;5;124;43m'\u001b[39;49m\u001b[38;5;124;43mgs://spark-lib/bigquery/spark-bigquery-latest.jar\u001b[39;49m\u001b[38;5;124;43m'\u001b[39;49m\u001b[43m)\u001b[49m\u001b[43m \u001b[49m\u001b[43m\\\u001b[49m\n\u001b[0;32m      6\u001b[0m \u001b[43m    \u001b[49m\u001b[38;5;241;43m.\u001b[39;49m\u001b[43mconfig\u001b[49m\u001b[43m(\u001b[49m\u001b[38;5;124;43m'\u001b[39;49m\u001b[38;5;124;43mspark.executor.cores\u001b[39;49m\u001b[38;5;124;43m'\u001b[39;49m\u001b[43m,\u001b[49m\u001b[43m \u001b[49m\u001b[38;5;124;43m'\u001b[39;49m\u001b[38;5;124;43m3\u001b[39;49m\u001b[38;5;124;43m'\u001b[39;49m\u001b[43m)\u001b[49m\u001b[43m \u001b[49m\u001b[43m\\\u001b[49m\n\u001b[0;32m      7\u001b[0m \u001b[43m    \u001b[49m\u001b[38;5;241;43m.\u001b[39;49m\u001b[43mconfig\u001b[49m\u001b[43m(\u001b[49m\u001b[38;5;124;43m'\u001b[39;49m\u001b[38;5;124;43mspark.executor.memory\u001b[39;49m\u001b[38;5;124;43m'\u001b[39;49m\u001b[43m,\u001b[49m\u001b[43m \u001b[49m\u001b[38;5;124;43m'\u001b[39;49m\u001b[38;5;124;43m5g\u001b[39;49m\u001b[38;5;124;43m'\u001b[39;49m\u001b[43m)\u001b[49m\u001b[43m \u001b[49m\u001b[43m\\\u001b[49m\n\u001b[0;32m      8\u001b[0m \u001b[43m    \u001b[49m\u001b[38;5;241;43m.\u001b[39;49m\u001b[43mconfig\u001b[49m\u001b[43m(\u001b[49m\u001b[38;5;124;43m\"\u001b[39;49m\u001b[38;5;124;43mspark.sql.broadcastTimeout\u001b[39;49m\u001b[38;5;124;43m\"\u001b[39;49m\u001b[43m,\u001b[49m\u001b[43m \u001b[49m\u001b[38;5;124;43m\"\u001b[39;49m\u001b[38;5;124;43m36000\u001b[39;49m\u001b[38;5;124;43m\"\u001b[39;49m\u001b[43m)\u001b[49m\u001b[43m\\\u001b[49m\n\u001b[0;32m      9\u001b[0m \u001b[43m    \u001b[49m\u001b[38;5;241;43m.\u001b[39;49m\u001b[43mgetOrCreate\u001b[49m\u001b[43m(\u001b[49m\u001b[43m)\u001b[49m\n",
      "File \u001b[1;32m~\\Anaconda3\\lib\\site-packages\\pyspark\\sql\\session.py:269\u001b[0m, in \u001b[0;36mSparkSession.Builder.getOrCreate\u001b[1;34m(self)\u001b[0m\n\u001b[0;32m    267\u001b[0m     sparkConf\u001b[38;5;241m.\u001b[39mset(key, value)\n\u001b[0;32m    268\u001b[0m \u001b[38;5;66;03m# This SparkContext may be an existing one.\u001b[39;00m\n\u001b[1;32m--> 269\u001b[0m sc \u001b[38;5;241m=\u001b[39m \u001b[43mSparkContext\u001b[49m\u001b[38;5;241;43m.\u001b[39;49m\u001b[43mgetOrCreate\u001b[49m\u001b[43m(\u001b[49m\u001b[43msparkConf\u001b[49m\u001b[43m)\u001b[49m\n\u001b[0;32m    270\u001b[0m \u001b[38;5;66;03m# Do not update `SparkConf` for existing `SparkContext`, as it's shared\u001b[39;00m\n\u001b[0;32m    271\u001b[0m \u001b[38;5;66;03m# by all sessions.\u001b[39;00m\n\u001b[0;32m    272\u001b[0m session \u001b[38;5;241m=\u001b[39m SparkSession(sc, options\u001b[38;5;241m=\u001b[39m\u001b[38;5;28mself\u001b[39m\u001b[38;5;241m.\u001b[39m_options)\n",
      "File \u001b[1;32m~\\Anaconda3\\lib\\site-packages\\pyspark\\context.py:483\u001b[0m, in \u001b[0;36mSparkContext.getOrCreate\u001b[1;34m(cls, conf)\u001b[0m\n\u001b[0;32m    481\u001b[0m \u001b[38;5;28;01mwith\u001b[39;00m SparkContext\u001b[38;5;241m.\u001b[39m_lock:\n\u001b[0;32m    482\u001b[0m     \u001b[38;5;28;01mif\u001b[39;00m SparkContext\u001b[38;5;241m.\u001b[39m_active_spark_context \u001b[38;5;129;01mis\u001b[39;00m \u001b[38;5;28;01mNone\u001b[39;00m:\n\u001b[1;32m--> 483\u001b[0m         \u001b[43mSparkContext\u001b[49m\u001b[43m(\u001b[49m\u001b[43mconf\u001b[49m\u001b[38;5;241;43m=\u001b[39;49m\u001b[43mconf\u001b[49m\u001b[43m \u001b[49m\u001b[38;5;129;43;01mor\u001b[39;49;00m\u001b[43m \u001b[49m\u001b[43mSparkConf\u001b[49m\u001b[43m(\u001b[49m\u001b[43m)\u001b[49m\u001b[43m)\u001b[49m\n\u001b[0;32m    484\u001b[0m     \u001b[38;5;28;01massert\u001b[39;00m SparkContext\u001b[38;5;241m.\u001b[39m_active_spark_context \u001b[38;5;129;01mis\u001b[39;00m \u001b[38;5;129;01mnot\u001b[39;00m \u001b[38;5;28;01mNone\u001b[39;00m\n\u001b[0;32m    485\u001b[0m     \u001b[38;5;28;01mreturn\u001b[39;00m SparkContext\u001b[38;5;241m.\u001b[39m_active_spark_context\n",
      "File \u001b[1;32m~\\Anaconda3\\lib\\site-packages\\pyspark\\context.py:195\u001b[0m, in \u001b[0;36mSparkContext.__init__\u001b[1;34m(self, master, appName, sparkHome, pyFiles, environment, batchSize, serializer, conf, gateway, jsc, profiler_cls, udf_profiler_cls)\u001b[0m\n\u001b[0;32m    189\u001b[0m \u001b[38;5;28;01mif\u001b[39;00m gateway \u001b[38;5;129;01mis\u001b[39;00m \u001b[38;5;129;01mnot\u001b[39;00m \u001b[38;5;28;01mNone\u001b[39;00m \u001b[38;5;129;01mand\u001b[39;00m gateway\u001b[38;5;241m.\u001b[39mgateway_parameters\u001b[38;5;241m.\u001b[39mauth_token \u001b[38;5;129;01mis\u001b[39;00m \u001b[38;5;28;01mNone\u001b[39;00m:\n\u001b[0;32m    190\u001b[0m     \u001b[38;5;28;01mraise\u001b[39;00m \u001b[38;5;167;01mValueError\u001b[39;00m(\n\u001b[0;32m    191\u001b[0m         \u001b[38;5;124m\"\u001b[39m\u001b[38;5;124mYou are trying to pass an insecure Py4j gateway to Spark. This\u001b[39m\u001b[38;5;124m\"\u001b[39m\n\u001b[0;32m    192\u001b[0m         \u001b[38;5;124m\"\u001b[39m\u001b[38;5;124m is not allowed as it is a security risk.\u001b[39m\u001b[38;5;124m\"\u001b[39m\n\u001b[0;32m    193\u001b[0m     )\n\u001b[1;32m--> 195\u001b[0m \u001b[43mSparkContext\u001b[49m\u001b[38;5;241;43m.\u001b[39;49m\u001b[43m_ensure_initialized\u001b[49m\u001b[43m(\u001b[49m\u001b[38;5;28;43mself\u001b[39;49m\u001b[43m,\u001b[49m\u001b[43m \u001b[49m\u001b[43mgateway\u001b[49m\u001b[38;5;241;43m=\u001b[39;49m\u001b[43mgateway\u001b[49m\u001b[43m,\u001b[49m\u001b[43m \u001b[49m\u001b[43mconf\u001b[49m\u001b[38;5;241;43m=\u001b[39;49m\u001b[43mconf\u001b[49m\u001b[43m)\u001b[49m\n\u001b[0;32m    196\u001b[0m \u001b[38;5;28;01mtry\u001b[39;00m:\n\u001b[0;32m    197\u001b[0m     \u001b[38;5;28mself\u001b[39m\u001b[38;5;241m.\u001b[39m_do_init(\n\u001b[0;32m    198\u001b[0m         master,\n\u001b[0;32m    199\u001b[0m         appName,\n\u001b[1;32m   (...)\u001b[0m\n\u001b[0;32m    208\u001b[0m         udf_profiler_cls,\n\u001b[0;32m    209\u001b[0m     )\n",
      "File \u001b[1;32m~\\Anaconda3\\lib\\site-packages\\pyspark\\context.py:417\u001b[0m, in \u001b[0;36mSparkContext._ensure_initialized\u001b[1;34m(cls, instance, gateway, conf)\u001b[0m\n\u001b[0;32m    415\u001b[0m \u001b[38;5;28;01mwith\u001b[39;00m SparkContext\u001b[38;5;241m.\u001b[39m_lock:\n\u001b[0;32m    416\u001b[0m     \u001b[38;5;28;01mif\u001b[39;00m \u001b[38;5;129;01mnot\u001b[39;00m SparkContext\u001b[38;5;241m.\u001b[39m_gateway:\n\u001b[1;32m--> 417\u001b[0m         SparkContext\u001b[38;5;241m.\u001b[39m_gateway \u001b[38;5;241m=\u001b[39m gateway \u001b[38;5;129;01mor\u001b[39;00m \u001b[43mlaunch_gateway\u001b[49m\u001b[43m(\u001b[49m\u001b[43mconf\u001b[49m\u001b[43m)\u001b[49m\n\u001b[0;32m    418\u001b[0m         SparkContext\u001b[38;5;241m.\u001b[39m_jvm \u001b[38;5;241m=\u001b[39m SparkContext\u001b[38;5;241m.\u001b[39m_gateway\u001b[38;5;241m.\u001b[39mjvm\n\u001b[0;32m    420\u001b[0m     \u001b[38;5;28;01mif\u001b[39;00m instance:\n",
      "File \u001b[1;32m~\\Anaconda3\\lib\\site-packages\\pyspark\\java_gateway.py:106\u001b[0m, in \u001b[0;36mlaunch_gateway\u001b[1;34m(conf, popen_kwargs)\u001b[0m\n\u001b[0;32m    103\u001b[0m     time\u001b[38;5;241m.\u001b[39msleep(\u001b[38;5;241m0.1\u001b[39m)\n\u001b[0;32m    105\u001b[0m \u001b[38;5;28;01mif\u001b[39;00m \u001b[38;5;129;01mnot\u001b[39;00m os\u001b[38;5;241m.\u001b[39mpath\u001b[38;5;241m.\u001b[39misfile(conn_info_file):\n\u001b[1;32m--> 106\u001b[0m     \u001b[38;5;28;01mraise\u001b[39;00m \u001b[38;5;167;01mRuntimeError\u001b[39;00m(\u001b[38;5;124m\"\u001b[39m\u001b[38;5;124mJava gateway process exited before sending its port number\u001b[39m\u001b[38;5;124m\"\u001b[39m)\n\u001b[0;32m    108\u001b[0m \u001b[38;5;28;01mwith\u001b[39;00m \u001b[38;5;28mopen\u001b[39m(conn_info_file, \u001b[38;5;124m\"\u001b[39m\u001b[38;5;124mrb\u001b[39m\u001b[38;5;124m\"\u001b[39m) \u001b[38;5;28;01mas\u001b[39;00m info:\n\u001b[0;32m    109\u001b[0m     gateway_port \u001b[38;5;241m=\u001b[39m read_int(info)\n",
      "\u001b[1;31mRuntimeError\u001b[0m: Java gateway process exited before sending its port number"
     ]
    }
   ],
   "source": [
    "spark = SparkSession \\\n",
    "    .builder \\\n",
    "    .master('yarn') \\\n",
    "    .appName('ChainAnalysis_v0') \\\n",
    "    .config('spark.jars', 'gs://spark-lib/bigquery/spark-bigquery-latest.jar') \\\n",
    "    .config('spark.executor.cores', '3') \\\n",
    "    .config('spark.executor.memory', '5g') \\\n",
    "    .config(\"spark.sql.broadcastTimeout\", \"36000\")\\\n",
    "    .getOrCreate()"
   ]
  },
  {
   "cell_type": "markdown",
   "metadata": {},
   "source": [
    "# Fraud Detection ML Section"
   ]
  },
  {
   "cell_type": "code",
   "execution_count": 2,
   "metadata": {},
   "outputs": [
    {
     "data": {
      "text/html": [
       "<div>\n",
       "<style scoped>\n",
       "    .dataframe tbody tr th:only-of-type {\n",
       "        vertical-align: middle;\n",
       "    }\n",
       "\n",
       "    .dataframe tbody tr th {\n",
       "        vertical-align: top;\n",
       "    }\n",
       "\n",
       "    .dataframe thead th {\n",
       "        text-align: right;\n",
       "    }\n",
       "</style>\n",
       "<table border=\"1\" class=\"dataframe\">\n",
       "  <thead>\n",
       "    <tr style=\"text-align: right;\">\n",
       "      <th></th>\n",
       "      <th>Month</th>\n",
       "      <th>Day</th>\n",
       "      <th>Time</th>\n",
       "      <th>DayOfWeek</th>\n",
       "      <th>TransactionID</th>\n",
       "      <th>InputAddress</th>\n",
       "      <th>OutputAddress</th>\n",
       "      <th>BTC</th>\n",
       "      <th>Illicit</th>\n",
       "    </tr>\n",
       "  </thead>\n",
       "  <tbody>\n",
       "    <tr>\n",
       "      <th>0</th>\n",
       "      <td>4</td>\n",
       "      <td>27</td>\n",
       "      <td>12:38:19</td>\n",
       "      <td>6</td>\n",
       "      <td>4b585ab8815f189d18922b1866cb4f86743f3d305f0316...</td>\n",
       "      <td>19WNHovTv17jAihMuj9wvmLzpKv6s9gHad</td>\n",
       "      <td>1VayNert3x1KzbpzMGt2qdqrAThiRovi8</td>\n",
       "      <td>50.000000</td>\n",
       "      <td>0</td>\n",
       "    </tr>\n",
       "    <tr>\n",
       "      <th>1</th>\n",
       "      <td>12</td>\n",
       "      <td>5</td>\n",
       "      <td>20:35:41</td>\n",
       "      <td>5</td>\n",
       "      <td>081c88ecc74eab23318b7bddec8db4c78429573d4acd57...</td>\n",
       "      <td>3BXMABa8Yxcq9JvPEdizBdbZCvqbMMp6ao</td>\n",
       "      <td>3Qg6fRqQZuH8e2RRwcf6cMHrtkyEBEpfUX</td>\n",
       "      <td>0.002116</td>\n",
       "      <td>1</td>\n",
       "    </tr>\n",
       "    <tr>\n",
       "      <th>2</th>\n",
       "      <td>12</td>\n",
       "      <td>13</td>\n",
       "      <td>02:30:22</td>\n",
       "      <td>6</td>\n",
       "      <td>1835eb794ef4e3909f25d3f11f794a93ff5e2db84004b8...</td>\n",
       "      <td>1PZtVNDMzH4GjDjvzzJ6xNkMVshdqf6rbc</td>\n",
       "      <td>19iVyH1qUxgywY8LJSbpV4VavjZmyuEyxV</td>\n",
       "      <td>29.653250</td>\n",
       "      <td>1</td>\n",
       "    </tr>\n",
       "    <tr>\n",
       "      <th>3</th>\n",
       "      <td>12</td>\n",
       "      <td>5</td>\n",
       "      <td>14:55:39</td>\n",
       "      <td>5</td>\n",
       "      <td>cfa2d9e29726f0a0940204aab2ecd0e920d75867a73dc1...</td>\n",
       "      <td>1NzfRfu5Pc1PHBP13iFNkq8FEiSPCA1Dk6</td>\n",
       "      <td>15VkKWoCNqxnNAUFZzfSuhjkvw1L7CqgtA</td>\n",
       "      <td>0.000137</td>\n",
       "      <td>1</td>\n",
       "    </tr>\n",
       "    <tr>\n",
       "      <th>4</th>\n",
       "      <td>11</td>\n",
       "      <td>19</td>\n",
       "      <td>05:46:16</td>\n",
       "      <td>3</td>\n",
       "      <td>30098ef68574c7e727dab520e9623ee91e90625b937fca...</td>\n",
       "      <td>1Gw1CxCosujMQv8fgDfahctrtdcMmkyXZh</td>\n",
       "      <td>16oShVdj75jxmmEj66yGqYQNmTJhoCYQMw</td>\n",
       "      <td>2.426779</td>\n",
       "      <td>1</td>\n",
       "    </tr>\n",
       "    <tr>\n",
       "      <th>...</th>\n",
       "      <td>...</td>\n",
       "      <td>...</td>\n",
       "      <td>...</td>\n",
       "      <td>...</td>\n",
       "      <td>...</td>\n",
       "      <td>...</td>\n",
       "      <td>...</td>\n",
       "      <td>...</td>\n",
       "      <td>...</td>\n",
       "    </tr>\n",
       "    <tr>\n",
       "      <th>40820</th>\n",
       "      <td>11</td>\n",
       "      <td>25</td>\n",
       "      <td>11:43:19</td>\n",
       "      <td>1</td>\n",
       "      <td>8e530147a819941f715ebde2d4ce2fc3f89c411c9a18c7...</td>\n",
       "      <td>1BmMiNjbHgiahBrtcMjNwg8Urxv2VbrEvf</td>\n",
       "      <td>1VayNert3x1KzbpzMGt2qdqrAThiRovi8</td>\n",
       "      <td>50.277000</td>\n",
       "      <td>0</td>\n",
       "    </tr>\n",
       "    <tr>\n",
       "      <th>40821</th>\n",
       "      <td>4</td>\n",
       "      <td>13</td>\n",
       "      <td>03:28:56</td>\n",
       "      <td>6</td>\n",
       "      <td>92e5192b5c34df327f4805999f4fa254a8fc93e6319c30...</td>\n",
       "      <td>1CYniGNxPuec1w9KCmRtZaDmaLCBWWYPD1</td>\n",
       "      <td>133K4dfRXbp2gpjBszm7U2y3sWMJa3xpAu</td>\n",
       "      <td>50.000000</td>\n",
       "      <td>0</td>\n",
       "    </tr>\n",
       "    <tr>\n",
       "      <th>40822</th>\n",
       "      <td>6</td>\n",
       "      <td>20</td>\n",
       "      <td>22:46:51</td>\n",
       "      <td>4</td>\n",
       "      <td>5bab77e462190c224fcda02348145d89187d7e52cc0213...</td>\n",
       "      <td>1Fnra5i6xBFmWVH5RXahat8TDtsk8Y6fpk</td>\n",
       "      <td>1NNEFF5HYW8tZAXNLoj298mLVR8qXJAjC3</td>\n",
       "      <td>0.472150</td>\n",
       "      <td>0</td>\n",
       "    </tr>\n",
       "    <tr>\n",
       "      <th>40823</th>\n",
       "      <td>7</td>\n",
       "      <td>30</td>\n",
       "      <td>03:52:38</td>\n",
       "      <td>2</td>\n",
       "      <td>8e0827a0c7039058be9870f4f28e8b24f22fe58eab64fc...</td>\n",
       "      <td>1B968tmP1VgKLueXhwTgiAg2AEEPwyHExz</td>\n",
       "      <td>13seCEjLFzDbnZxxH9KfFNHs5ETqdhfUYU</td>\n",
       "      <td>50.000000</td>\n",
       "      <td>0</td>\n",
       "    </tr>\n",
       "    <tr>\n",
       "      <th>40824</th>\n",
       "      <td>11</td>\n",
       "      <td>14</td>\n",
       "      <td>05:21:47</td>\n",
       "      <td>5</td>\n",
       "      <td>016c1c6ad48b18b3521b0b69050f4feea592d934a1d83f...</td>\n",
       "      <td>115md8GZ5S8CmvUj8a8cW58YcKvv2SekYf</td>\n",
       "      <td>Unable to decode output address</td>\n",
       "      <td>0.000000</td>\n",
       "      <td>1</td>\n",
       "    </tr>\n",
       "  </tbody>\n",
       "</table>\n",
       "<p>40825 rows × 9 columns</p>\n",
       "</div>"
      ],
      "text/plain": [
       "       Month  Day      Time  DayOfWeek  \\\n",
       "0          4   27  12:38:19          6   \n",
       "1         12    5  20:35:41          5   \n",
       "2         12   13  02:30:22          6   \n",
       "3         12    5  14:55:39          5   \n",
       "4         11   19  05:46:16          3   \n",
       "...      ...  ...       ...        ...   \n",
       "40820     11   25  11:43:19          1   \n",
       "40821      4   13  03:28:56          6   \n",
       "40822      6   20  22:46:51          4   \n",
       "40823      7   30  03:52:38          2   \n",
       "40824     11   14  05:21:47          5   \n",
       "\n",
       "                                           TransactionID  \\\n",
       "0      4b585ab8815f189d18922b1866cb4f86743f3d305f0316...   \n",
       "1      081c88ecc74eab23318b7bddec8db4c78429573d4acd57...   \n",
       "2      1835eb794ef4e3909f25d3f11f794a93ff5e2db84004b8...   \n",
       "3      cfa2d9e29726f0a0940204aab2ecd0e920d75867a73dc1...   \n",
       "4      30098ef68574c7e727dab520e9623ee91e90625b937fca...   \n",
       "...                                                  ...   \n",
       "40820  8e530147a819941f715ebde2d4ce2fc3f89c411c9a18c7...   \n",
       "40821  92e5192b5c34df327f4805999f4fa254a8fc93e6319c30...   \n",
       "40822  5bab77e462190c224fcda02348145d89187d7e52cc0213...   \n",
       "40823  8e0827a0c7039058be9870f4f28e8b24f22fe58eab64fc...   \n",
       "40824  016c1c6ad48b18b3521b0b69050f4feea592d934a1d83f...   \n",
       "\n",
       "                             InputAddress                       OutputAddress  \\\n",
       "0      19WNHovTv17jAihMuj9wvmLzpKv6s9gHad   1VayNert3x1KzbpzMGt2qdqrAThiRovi8   \n",
       "1      3BXMABa8Yxcq9JvPEdizBdbZCvqbMMp6ao  3Qg6fRqQZuH8e2RRwcf6cMHrtkyEBEpfUX   \n",
       "2      1PZtVNDMzH4GjDjvzzJ6xNkMVshdqf6rbc  19iVyH1qUxgywY8LJSbpV4VavjZmyuEyxV   \n",
       "3      1NzfRfu5Pc1PHBP13iFNkq8FEiSPCA1Dk6  15VkKWoCNqxnNAUFZzfSuhjkvw1L7CqgtA   \n",
       "4      1Gw1CxCosujMQv8fgDfahctrtdcMmkyXZh  16oShVdj75jxmmEj66yGqYQNmTJhoCYQMw   \n",
       "...                                   ...                                 ...   \n",
       "40820  1BmMiNjbHgiahBrtcMjNwg8Urxv2VbrEvf   1VayNert3x1KzbpzMGt2qdqrAThiRovi8   \n",
       "40821  1CYniGNxPuec1w9KCmRtZaDmaLCBWWYPD1  133K4dfRXbp2gpjBszm7U2y3sWMJa3xpAu   \n",
       "40822  1Fnra5i6xBFmWVH5RXahat8TDtsk8Y6fpk  1NNEFF5HYW8tZAXNLoj298mLVR8qXJAjC3   \n",
       "40823  1B968tmP1VgKLueXhwTgiAg2AEEPwyHExz  13seCEjLFzDbnZxxH9KfFNHs5ETqdhfUYU   \n",
       "40824  115md8GZ5S8CmvUj8a8cW58YcKvv2SekYf     Unable to decode output address   \n",
       "\n",
       "             BTC  Illicit  \n",
       "0      50.000000        0  \n",
       "1       0.002116        1  \n",
       "2      29.653250        1  \n",
       "3       0.000137        1  \n",
       "4       2.426779        1  \n",
       "...          ...      ...  \n",
       "40820  50.277000        0  \n",
       "40821  50.000000        0  \n",
       "40822   0.472150        0  \n",
       "40823  50.000000        0  \n",
       "40824   0.000000        1  \n",
       "\n",
       "[40825 rows x 9 columns]"
      ]
     },
     "execution_count": 2,
     "metadata": {},
     "output_type": "execute_result"
    }
   ],
   "source": [
    "import lightgbm as lgb\n",
    "import seaborn as sns\n",
    "import matplotlib.pyplot as plt\n",
    "from sklearn.model_selection import train_test_split, GridSearchCV\n",
    "from sklearn.metrics import confusion_matrix,accuracy_score, roc_curve, auc\n",
    "from sklearn.preprocessing import StandardScaler as stdsc\n",
    "from sklearn.preprocessing import binarize\n",
    "from sklearn.preprocessing import LabelEncoder\n",
    "from sklearn.metrics import f1_score\n",
    "import numpy as np\n",
    "import pandas as pd\n",
    "\n",
    "df = pd.read_csv('Blockchain Competition Data.csv')\n",
    "df"
   ]
  },
  {
   "cell_type": "code",
   "execution_count": 3,
   "metadata": {},
   "outputs": [
    {
     "data": {
      "text/plain": [
       "0    27825\n",
       "1    13000\n",
       "Name: Illicit, dtype: int64"
      ]
     },
     "execution_count": 3,
     "metadata": {},
     "output_type": "execute_result"
    }
   ],
   "source": [
    "df['Illicit'].value_counts()"
   ]
  },
  {
   "cell_type": "code",
   "execution_count": null,
   "metadata": {},
   "outputs": [],
   "source": [
    "####Feature Engineering"
   ]
  },
  {
   "cell_type": "markdown",
   "metadata": {},
   "source": [
    "#### Graph Features"
   ]
  },
  {
   "cell_type": "code",
   "execution_count": 4,
   "metadata": {},
   "outputs": [],
   "source": [
    "import pandas as pd\n",
    "kdf = df"
   ]
  },
  {
   "cell_type": "code",
   "execution_count": 6,
   "metadata": {},
   "outputs": [
    {
     "name": "stdout",
     "output_type": "stream",
     "text": [
      "CPU times: user 12.4 s, sys: 40.3 ms, total: 12.4 s\n",
      "Wall time: 12.6 s\n"
     ]
    }
   ],
   "source": [
    "%%time\n",
    "unique_ids_list = kdf[\"InputAddress\"].to_list() + kdf[\"OutputAddress\"].to_list()\n",
    "unique_ids_list = list(dict.fromkeys(unique_ids_list))\n",
    "kdf[\"src\"] = kdf['InputAddress'].apply(lambda x: unique_ids_list.index(x))\n",
    "kdf[\"dst\"] = kdf['OutputAddress'].apply(lambda x: unique_ids_list.index(x))"
   ]
  },
  {
   "cell_type": "code",
   "execution_count": 7,
   "metadata": {},
   "outputs": [
    {
     "data": {
      "text/html": [
       "<div>\n",
       "<style scoped>\n",
       "    .dataframe tbody tr th:only-of-type {\n",
       "        vertical-align: middle;\n",
       "    }\n",
       "\n",
       "    .dataframe tbody tr th {\n",
       "        vertical-align: top;\n",
       "    }\n",
       "\n",
       "    .dataframe thead th {\n",
       "        text-align: right;\n",
       "    }\n",
       "</style>\n",
       "<table border=\"1\" class=\"dataframe\">\n",
       "  <thead>\n",
       "    <tr style=\"text-align: right;\">\n",
       "      <th></th>\n",
       "      <th>Unique_ID</th>\n",
       "      <th>id</th>\n",
       "    </tr>\n",
       "  </thead>\n",
       "  <tbody>\n",
       "    <tr>\n",
       "      <th>0</th>\n",
       "      <td>19WNHovTv17jAihMuj9wvmLzpKv6s9gHad</td>\n",
       "      <td>0</td>\n",
       "    </tr>\n",
       "    <tr>\n",
       "      <th>1</th>\n",
       "      <td>3BXMABa8Yxcq9JvPEdizBdbZCvqbMMp6ao</td>\n",
       "      <td>1</td>\n",
       "    </tr>\n",
       "    <tr>\n",
       "      <th>2</th>\n",
       "      <td>1PZtVNDMzH4GjDjvzzJ6xNkMVshdqf6rbc</td>\n",
       "      <td>2</td>\n",
       "    </tr>\n",
       "    <tr>\n",
       "      <th>3</th>\n",
       "      <td>1NzfRfu5Pc1PHBP13iFNkq8FEiSPCA1Dk6</td>\n",
       "      <td>3</td>\n",
       "    </tr>\n",
       "    <tr>\n",
       "      <th>4</th>\n",
       "      <td>1Gw1CxCosujMQv8fgDfahctrtdcMmkyXZh</td>\n",
       "      <td>4</td>\n",
       "    </tr>\n",
       "    <tr>\n",
       "      <th>...</th>\n",
       "      <td>...</td>\n",
       "      <td>...</td>\n",
       "    </tr>\n",
       "    <tr>\n",
       "      <th>35234</th>\n",
       "      <td>161o3vQg6wWmnb8LeEkqhuxtte5uFdjmQy</td>\n",
       "      <td>35234</td>\n",
       "    </tr>\n",
       "    <tr>\n",
       "      <th>35235</th>\n",
       "      <td>3AqBUd57txxxdf1ocsjnfNeUjNYaNYmmPm</td>\n",
       "      <td>35235</td>\n",
       "    </tr>\n",
       "    <tr>\n",
       "      <th>35236</th>\n",
       "      <td>16gypkSY2f3t3QzMZqLm8uEtFEP3k5eQwB</td>\n",
       "      <td>35236</td>\n",
       "    </tr>\n",
       "    <tr>\n",
       "      <th>35237</th>\n",
       "      <td>3LHbo7N2bCZPXNcwc8JvaBwgTznGkUeB3d</td>\n",
       "      <td>35237</td>\n",
       "    </tr>\n",
       "    <tr>\n",
       "      <th>35238</th>\n",
       "      <td>1NNEFF5HYW8tZAXNLoj298mLVR8qXJAjC3</td>\n",
       "      <td>35238</td>\n",
       "    </tr>\n",
       "  </tbody>\n",
       "</table>\n",
       "<p>35239 rows × 2 columns</p>\n",
       "</div>"
      ],
      "text/plain": [
       "                                Unique_ID     id\n",
       "0      19WNHovTv17jAihMuj9wvmLzpKv6s9gHad      0\n",
       "1      3BXMABa8Yxcq9JvPEdizBdbZCvqbMMp6ao      1\n",
       "2      1PZtVNDMzH4GjDjvzzJ6xNkMVshdqf6rbc      2\n",
       "3      1NzfRfu5Pc1PHBP13iFNkq8FEiSPCA1Dk6      3\n",
       "4      1Gw1CxCosujMQv8fgDfahctrtdcMmkyXZh      4\n",
       "...                                   ...    ...\n",
       "35234  161o3vQg6wWmnb8LeEkqhuxtte5uFdjmQy  35234\n",
       "35235  3AqBUd57txxxdf1ocsjnfNeUjNYaNYmmPm  35235\n",
       "35236  16gypkSY2f3t3QzMZqLm8uEtFEP3k5eQwB  35236\n",
       "35237  3LHbo7N2bCZPXNcwc8JvaBwgTznGkUeB3d  35237\n",
       "35238  1NNEFF5HYW8tZAXNLoj298mLVR8qXJAjC3  35238\n",
       "\n",
       "[35239 rows x 2 columns]"
      ]
     },
     "execution_count": 7,
     "metadata": {},
     "output_type": "execute_result"
    }
   ],
   "source": [
    "vertices = pd.DataFrame(unique_ids_list, columns = ['Unique_ID'])\n",
    "vertices['id'] = vertices['Unique_ID'].index\n",
    "vertices"
   ]
  },
  {
   "cell_type": "code",
   "execution_count": null,
   "metadata": {
    "scrolled": true
   },
   "outputs": [],
   "source": [
    "# kdf"
   ]
  },
  {
   "cell_type": "code",
   "execution_count": 21,
   "metadata": {},
   "outputs": [],
   "source": [
    "#Load data into graphframes for spark feature engineering using graph created\n",
    "from graphframes import *\n",
    "vertices_sdf = spark.createDataFrame(vertices)\n",
    "edges_sdf = spark.createDataFrame(kdf[['src','dst']])\n",
    "g = GraphFrame(vertices_sdf, edges_sdf)"
   ]
  },
  {
   "cell_type": "code",
   "execution_count": 22,
   "metadata": {},
   "outputs": [
    {
     "name": "stdout",
     "output_type": "stream",
     "text": [
      "+--------------------+---+\n",
      "|           Unique_ID| id|\n",
      "+--------------------+---+\n",
      "|1MdumyKTRrUPjE2AV...|  0|\n",
      "|bc1q30wzpx4r5tqpd...|  1|\n",
      "|bc1q3p5puy7rlzxzw...|  2|\n",
      "|bc1qly32hyz4xna7e...|  3|\n",
      "|32Mf4hkRXAxhrkY2E...|  4|\n",
      "|3EASjUPPCjKKTBc58...|  5|\n",
      "|1A7eTfHzr7Xy8S7s4...|  6|\n",
      "|3JT1PReLT6Hes3DAA...|  7|\n",
      "|bc1q34c8jdz5smp7n...|  8|\n",
      "|bc1q0dd724j7gnx3a...|  9|\n",
      "|bc1qgpsd7efycl0wc...| 10|\n",
      "|bc1qg2h48hf7mhsd8...| 11|\n",
      "|bc1q3qyk7xyvn5ky3...| 12|\n",
      "|bc1q25hu39p36yfve...| 13|\n",
      "|bc1qw8j6ze3cu8x9h...| 14|\n",
      "|bc1q4jzte5ejkxr9y...| 15|\n",
      "|1HCPiV664p4EEm8jK...| 16|\n",
      "|3NHKtLykHRVgYkTVK...| 17|\n",
      "|3GvwgcfPyQqizkWD5...| 18|\n",
      "|1LZZJZPTLYcWSgwfm...| 19|\n",
      "+--------------------+---+\n",
      "only showing top 20 rows\n",
      "\n",
      "+---+------+\n",
      "|src|   dst|\n",
      "+---+------+\n",
      "|  0|121082|\n",
      "|  1|121083|\n",
      "|  1| 51674|\n",
      "|  1| 62956|\n",
      "|  1| 56555|\n",
      "|  1|119749|\n",
      "|  2|121083|\n",
      "|  2| 51674|\n",
      "|  2| 62956|\n",
      "|  2| 56555|\n",
      "|  2|119749|\n",
      "|  3|121083|\n",
      "|  3| 51674|\n",
      "|  3| 62956|\n",
      "|  3| 56555|\n",
      "|  3|119749|\n",
      "|  4|121084|\n",
      "|  5|121085|\n",
      "|  6|     6|\n",
      "|  7|121086|\n",
      "+---+------+\n",
      "only showing top 20 rows\n",
      "\n"
     ]
    }
   ],
   "source": [
    "g.vertices.show()\n",
    "g.edges.show()"
   ]
  },
  {
   "cell_type": "code",
   "execution_count": 23,
   "metadata": {},
   "outputs": [
    {
     "name": "stdout",
     "output_type": "stream",
     "text": [
      "+----+--------------------+------+--------+---------+------------------+-----+------+\n",
      "|  id|           Unique_ID|degree|inDegree|outDegree|          pagerank|count| label|\n",
      "+----+--------------------+------+--------+---------+------------------+-----+------+\n",
      "|  19|1LZZJZPTLYcWSgwfm...|     1|    null|        1|0.5938015640928558|    0|121100|\n",
      "|  73|bc1qxcv2rw7aqw2ty...|     8|       3|        5|1.1416426021001738|    0|  2590|\n",
      "| 526|13DfcmSA9t14QTFH7...|     4|       2|        2|1.3130437086003275|    0|121652|\n",
      "| 706|bc1qgd7t8t6mg8es5...|     8|       3|        5|1.4458578646886737|    0| 55390|\n",
      "| 858|12hGxiUuKPkYSD7Sf...|     4|       2|        2|3.9586770939523723|    0|   858|\n",
      "|1025|M 1 of 16h1kgopsV...|     2|       1|        1|3.9586770939523723|    0| 53330|\n",
      "|1218|18mggwFtmaYaN3M6X...|     1|    null|        1|0.5938015640928558|    0|122267|\n",
      "|1296|1E4ZTum7JX6bGLpfg...|     2|    null|        2|0.5938015640928558|    0|122385|\n",
      "|1298|1PznsAWdVvg5zNRP6...|     1|    null|        1|0.5938015640928558|    0|122387|\n",
      "|1519|1dcVsq5Um5E2nwJkK...|     1|    null|        1|0.5938015640928558|    0|121393|\n",
      "|1526|bc1q6rlyw5d9jk7r8...|     8|       3|        5| 1.361550786907169|    0|122606|\n",
      "|1773|bc1q0m52s8u04j2jd...|     5|    null|        5|0.5938015640928558|    0|122910|\n",
      "|1931|131MTdfpqhx2JTex3...|     2|    null|        2|0.5938015640928558|    1|  8475|\n",
      "|2212|1L1GHr3GhgBvra6fL...|     1|    null|        1|0.5938015640928558|    0|123453|\n",
      "|2805|1E3AsGci4M66tTqWb...|     1|    null|        1|0.5938015640928558|    0|   399|\n",
      "|2941|bc1qftklzsex2acs5...|     8|       3|        5|0.9568749986402276|    0|124273|\n",
      "|3088|1NjXHjkT2yobst5E8...|    30|    null|       30|0.5938015640928558|    0|124430|\n",
      "|3104|1H3sZXUdX9hvvMjKG...|    12|       6|        6| 4.020923348041262|    3|  6738|\n",
      "|3440|bc1qmfxyyv7dkz7kh...|     8|       3|        5| 1.110501380647872|    0|124804|\n",
      "|3682|bc1qetw9pf67p58lr...|     8|       3|        5|1.4153798037014391|    0|125028|\n",
      "+----+--------------------+------+--------+---------+------------------+-----+------+\n",
      "only showing top 20 rows\n",
      "\n"
     ]
    }
   ],
   "source": [
    "vertices_df = g.vertices\n",
    "\n",
    "def features(input_graph,vdf):\n",
    "    results_pr = input_graph.pageRank(resetProbability=0.15, maxIter= 5)#, tol=0.01)\n",
    "    df_pr = results_pr.vertices\n",
    "    df_g = input_graph.degrees\n",
    "    df_in = input_graph.inDegrees\n",
    "    df_out = input_graph.outDegrees\n",
    "    df_tr = input_graph.triangleCount()\n",
    "    communities = input_graph.labelPropagation(maxIter=5)\n",
    "    \n",
    "    data = vdf.join(df_g, on=['id'],how='left')\n",
    "    data = data.join(df_in, on=['id'],how='left')\n",
    "    data = data.join(df_out, on=['id'],how='left')\n",
    "    data = data.join(df_pr, on=['id','Unique_ID'],how='left')\n",
    "    data = data.join(df_tr, on=['id', 'Unique_ID'],how='left')\n",
    "    data = data.join(communities, on=['id', 'Unique_ID'],how='left')\n",
    "\n",
    "    return data\n",
    "\n",
    "features(g,vertices_df).show()"
   ]
  },
  {
   "cell_type": "code",
   "execution_count": 24,
   "metadata": {},
   "outputs": [
    {
     "data": {
      "text/plain": [
       "249000"
      ]
     },
     "execution_count": 24,
     "metadata": {},
     "output_type": "execute_result"
    }
   ],
   "source": [
    "g.vertices.count()"
   ]
  },
  {
   "cell_type": "markdown",
   "metadata": {},
   "source": [
    "#### Temporal Features"
   ]
  },
  {
   "cell_type": "code",
   "execution_count": 25,
   "metadata": {},
   "outputs": [],
   "source": [
    "df_features = df "
   ]
  },
  {
   "cell_type": "code",
   "execution_count": 26,
   "metadata": {},
   "outputs": [
    {
     "data": {
      "text/html": [
       "<div>\n",
       "<style scoped>\n",
       "    .dataframe tbody tr th:only-of-type {\n",
       "        vertical-align: middle;\n",
       "    }\n",
       "\n",
       "    .dataframe tbody tr th {\n",
       "        vertical-align: top;\n",
       "    }\n",
       "\n",
       "    .dataframe thead th {\n",
       "        text-align: right;\n",
       "    }\n",
       "</style>\n",
       "<table border=\"1\" class=\"dataframe\">\n",
       "  <thead>\n",
       "    <tr style=\"text-align: right;\">\n",
       "      <th></th>\n",
       "      <th>tx_hash</th>\n",
       "      <th>block_hash</th>\n",
       "      <th>value</th>\n",
       "      <th>input_address</th>\n",
       "      <th>input_category</th>\n",
       "      <th>time</th>\n",
       "      <th>output_address</th>\n",
       "      <th>output_category</th>\n",
       "      <th>BTC</th>\n",
       "      <th>isIllicit</th>\n",
       "      <th>src</th>\n",
       "      <th>dst</th>\n",
       "    </tr>\n",
       "  </thead>\n",
       "  <tbody>\n",
       "    <tr>\n",
       "      <th>0</th>\n",
       "      <td>003198e5a0e529a4e65ce7b9168ed37ee22604f08fc2b8...</td>\n",
       "      <td>00000000000000000013ad02fd2c271ef4c4316bcdf602...</td>\n",
       "      <td>1100000</td>\n",
       "      <td>1MdumyKTRrUPjE2AV7pUcWebrHvMxfBpfp</td>\n",
       "      <td></td>\n",
       "      <td>2020-06-10 15:20:59</td>\n",
       "      <td>3KuTwN2kuhshiGnvzGqtSJujetWkT6J5B7</td>\n",
       "      <td>merchant services</td>\n",
       "      <td>0.011000</td>\n",
       "      <td>0</td>\n",
       "      <td>0</td>\n",
       "      <td>121082</td>\n",
       "    </tr>\n",
       "    <tr>\n",
       "      <th>1</th>\n",
       "      <td>007494477d72cbfba3a574798f30bcdbb94f1db6bc485e...</td>\n",
       "      <td>0000000000000000001254a78569406425300d17ad8279...</td>\n",
       "      <td>1000000</td>\n",
       "      <td>bc1q30wzpx4r5tqpd6hd606f25u2p8vpkxaf0qtclv</td>\n",
       "      <td></td>\n",
       "      <td>2020-06-12 17:44:50</td>\n",
       "      <td>bc1qjgwckdgl3h5ds2ktznrfuvvvzxyw6zpwklxmmu</td>\n",
       "      <td></td>\n",
       "      <td>0.010000</td>\n",
       "      <td>2</td>\n",
       "      <td>1</td>\n",
       "      <td>121083</td>\n",
       "    </tr>\n",
       "    <tr>\n",
       "      <th>2</th>\n",
       "      <td>007494477d72cbfba3a574798f30bcdbb94f1db6bc485e...</td>\n",
       "      <td>0000000000000000001254a78569406425300d17ad8279...</td>\n",
       "      <td>1000000</td>\n",
       "      <td>bc1q30wzpx4r5tqpd6hd606f25u2p8vpkxaf0qtclv</td>\n",
       "      <td></td>\n",
       "      <td>2020-06-12 17:44:50</td>\n",
       "      <td>bc1qe803ewe2zs4vrzak5dwwkfrs6usftz7ra9ak5j</td>\n",
       "      <td></td>\n",
       "      <td>0.010000</td>\n",
       "      <td>2</td>\n",
       "      <td>1</td>\n",
       "      <td>51674</td>\n",
       "    </tr>\n",
       "    <tr>\n",
       "      <th>3</th>\n",
       "      <td>007494477d72cbfba3a574798f30bcdbb94f1db6bc485e...</td>\n",
       "      <td>0000000000000000001254a78569406425300d17ad8279...</td>\n",
       "      <td>1000000</td>\n",
       "      <td>bc1q30wzpx4r5tqpd6hd606f25u2p8vpkxaf0qtclv</td>\n",
       "      <td></td>\n",
       "      <td>2020-06-12 17:44:50</td>\n",
       "      <td>bc1q7lyme6jzs5za5auxye9y9jzx2tjrj5vz8kx0uc</td>\n",
       "      <td></td>\n",
       "      <td>0.010000</td>\n",
       "      <td>2</td>\n",
       "      <td>1</td>\n",
       "      <td>62956</td>\n",
       "    </tr>\n",
       "    <tr>\n",
       "      <th>4</th>\n",
       "      <td>007494477d72cbfba3a574798f30bcdbb94f1db6bc485e...</td>\n",
       "      <td>0000000000000000001254a78569406425300d17ad8279...</td>\n",
       "      <td>1000000</td>\n",
       "      <td>bc1q30wzpx4r5tqpd6hd606f25u2p8vpkxaf0qtclv</td>\n",
       "      <td></td>\n",
       "      <td>2020-06-12 17:44:50</td>\n",
       "      <td>bc1qn99sglwpa0qk783e7mzhzjhwwufzmuhvr50s92</td>\n",
       "      <td></td>\n",
       "      <td>0.010000</td>\n",
       "      <td>2</td>\n",
       "      <td>1</td>\n",
       "      <td>56555</td>\n",
       "    </tr>\n",
       "    <tr>\n",
       "      <th>...</th>\n",
       "      <td>...</td>\n",
       "      <td>...</td>\n",
       "      <td>...</td>\n",
       "      <td>...</td>\n",
       "      <td>...</td>\n",
       "      <td>...</td>\n",
       "      <td>...</td>\n",
       "      <td>...</td>\n",
       "      <td>...</td>\n",
       "      <td>...</td>\n",
       "      <td>...</td>\n",
       "      <td>...</td>\n",
       "    </tr>\n",
       "    <tr>\n",
       "      <th>548870</th>\n",
       "      <td>fbc5ff4626a94cc7edb46140077cd77ebd129f34c2732e...</td>\n",
       "      <td>000000000000000000059297baa85b225ed84e75dbdda2...</td>\n",
       "      <td>50000000</td>\n",
       "      <td>bc1q3rdh4qcq3rkmhxgn6t89xtwcmgv84lh29y6yy3</td>\n",
       "      <td></td>\n",
       "      <td>2020-06-12 12:08:23</td>\n",
       "      <td>bc1q8tzjzqng7vj9j2t0dxypw0zhw2pxjfzcak6urp</td>\n",
       "      <td></td>\n",
       "      <td>0.500000</td>\n",
       "      <td>2</td>\n",
       "      <td>121081</td>\n",
       "      <td>6876</td>\n",
       "    </tr>\n",
       "    <tr>\n",
       "      <th>548871</th>\n",
       "      <td>fbc5ff4626a94cc7edb46140077cd77ebd129f34c2732e...</td>\n",
       "      <td>000000000000000000059297baa85b225ed84e75dbdda2...</td>\n",
       "      <td>50000000</td>\n",
       "      <td>bc1q3rdh4qcq3rkmhxgn6t89xtwcmgv84lh29y6yy3</td>\n",
       "      <td></td>\n",
       "      <td>2020-06-12 12:08:23</td>\n",
       "      <td>bc1qk4vw42dvyjmx0plfpwsz6f2nmq94pyuvdazye2</td>\n",
       "      <td></td>\n",
       "      <td>0.500000</td>\n",
       "      <td>2</td>\n",
       "      <td>121081</td>\n",
       "      <td>95783</td>\n",
       "    </tr>\n",
       "    <tr>\n",
       "      <th>548872</th>\n",
       "      <td>fbfe6b8e9244991ce462223bd232c14924f260d953a823...</td>\n",
       "      <td>0000000000000000035b8cc5f41e0e8377b77bad569ade...</td>\n",
       "      <td>5430</td>\n",
       "      <td>1DJbpvLn6x1AEqxnct684y6BTdzQKMWTxX</td>\n",
       "      <td></td>\n",
       "      <td>2016-01-24 20:07:16</td>\n",
       "      <td>1NjAhYcXPC7qsLi8hryiHgtnx4mZgaCa18</td>\n",
       "      <td></td>\n",
       "      <td>0.000054</td>\n",
       "      <td>2</td>\n",
       "      <td>21746</td>\n",
       "      <td>213888</td>\n",
       "    </tr>\n",
       "    <tr>\n",
       "      <th>548873</th>\n",
       "      <td>fc42bc2bbb0ceeeab782fa1919425657ad81a0d7d089ae...</td>\n",
       "      <td>00000000000000000009136638bc15a43e44ca591bd1fd...</td>\n",
       "      <td>2487300</td>\n",
       "      <td>18cKMds7HQfgpNm3EKNKdTzuGbnge7QeDW</td>\n",
       "      <td></td>\n",
       "      <td>2018-12-23 00:24:11</td>\n",
       "      <td>18cKMds7HQfgpNm3EKNKdTzuGbnge7QeDW</td>\n",
       "      <td></td>\n",
       "      <td>0.024873</td>\n",
       "      <td>2</td>\n",
       "      <td>22933</td>\n",
       "      <td>22933</td>\n",
       "    </tr>\n",
       "    <tr>\n",
       "      <th>548874</th>\n",
       "      <td>fd08a5591ae3bf7b10f39c586c36020848958f31678f4c...</td>\n",
       "      <td>0000000000000000000bfd456a79eb18ab19c1cb7c84a1...</td>\n",
       "      <td>546</td>\n",
       "      <td>1Jum5476xTGRkgWVZbXM6u7tLvxNWUxgHS</td>\n",
       "      <td></td>\n",
       "      <td>2020-06-28 11:29:32</td>\n",
       "      <td>1Awk95Rxtmxya99oCCHEQqEbGcg3mHAESv</td>\n",
       "      <td>exchange</td>\n",
       "      <td>0.000005</td>\n",
       "      <td>0</td>\n",
       "      <td>2728</td>\n",
       "      <td>248999</td>\n",
       "    </tr>\n",
       "  </tbody>\n",
       "</table>\n",
       "<p>548875 rows × 12 columns</p>\n",
       "</div>"
      ],
      "text/plain": [
       "                                                  tx_hash  \\\n",
       "0       003198e5a0e529a4e65ce7b9168ed37ee22604f08fc2b8...   \n",
       "1       007494477d72cbfba3a574798f30bcdbb94f1db6bc485e...   \n",
       "2       007494477d72cbfba3a574798f30bcdbb94f1db6bc485e...   \n",
       "3       007494477d72cbfba3a574798f30bcdbb94f1db6bc485e...   \n",
       "4       007494477d72cbfba3a574798f30bcdbb94f1db6bc485e...   \n",
       "...                                                   ...   \n",
       "548870  fbc5ff4626a94cc7edb46140077cd77ebd129f34c2732e...   \n",
       "548871  fbc5ff4626a94cc7edb46140077cd77ebd129f34c2732e...   \n",
       "548872  fbfe6b8e9244991ce462223bd232c14924f260d953a823...   \n",
       "548873  fc42bc2bbb0ceeeab782fa1919425657ad81a0d7d089ae...   \n",
       "548874  fd08a5591ae3bf7b10f39c586c36020848958f31678f4c...   \n",
       "\n",
       "                                               block_hash     value  \\\n",
       "0       00000000000000000013ad02fd2c271ef4c4316bcdf602...   1100000   \n",
       "1       0000000000000000001254a78569406425300d17ad8279...   1000000   \n",
       "2       0000000000000000001254a78569406425300d17ad8279...   1000000   \n",
       "3       0000000000000000001254a78569406425300d17ad8279...   1000000   \n",
       "4       0000000000000000001254a78569406425300d17ad8279...   1000000   \n",
       "...                                                   ...       ...   \n",
       "548870  000000000000000000059297baa85b225ed84e75dbdda2...  50000000   \n",
       "548871  000000000000000000059297baa85b225ed84e75dbdda2...  50000000   \n",
       "548872  0000000000000000035b8cc5f41e0e8377b77bad569ade...      5430   \n",
       "548873  00000000000000000009136638bc15a43e44ca591bd1fd...   2487300   \n",
       "548874  0000000000000000000bfd456a79eb18ab19c1cb7c84a1...       546   \n",
       "\n",
       "                                     input_address input_category  \\\n",
       "0               1MdumyKTRrUPjE2AV7pUcWebrHvMxfBpfp                  \n",
       "1       bc1q30wzpx4r5tqpd6hd606f25u2p8vpkxaf0qtclv                  \n",
       "2       bc1q30wzpx4r5tqpd6hd606f25u2p8vpkxaf0qtclv                  \n",
       "3       bc1q30wzpx4r5tqpd6hd606f25u2p8vpkxaf0qtclv                  \n",
       "4       bc1q30wzpx4r5tqpd6hd606f25u2p8vpkxaf0qtclv                  \n",
       "...                                            ...            ...   \n",
       "548870  bc1q3rdh4qcq3rkmhxgn6t89xtwcmgv84lh29y6yy3                  \n",
       "548871  bc1q3rdh4qcq3rkmhxgn6t89xtwcmgv84lh29y6yy3                  \n",
       "548872          1DJbpvLn6x1AEqxnct684y6BTdzQKMWTxX                  \n",
       "548873          18cKMds7HQfgpNm3EKNKdTzuGbnge7QeDW                  \n",
       "548874          1Jum5476xTGRkgWVZbXM6u7tLvxNWUxgHS                  \n",
       "\n",
       "                      time                              output_address  \\\n",
       "0      2020-06-10 15:20:59          3KuTwN2kuhshiGnvzGqtSJujetWkT6J5B7   \n",
       "1      2020-06-12 17:44:50  bc1qjgwckdgl3h5ds2ktznrfuvvvzxyw6zpwklxmmu   \n",
       "2      2020-06-12 17:44:50  bc1qe803ewe2zs4vrzak5dwwkfrs6usftz7ra9ak5j   \n",
       "3      2020-06-12 17:44:50  bc1q7lyme6jzs5za5auxye9y9jzx2tjrj5vz8kx0uc   \n",
       "4      2020-06-12 17:44:50  bc1qn99sglwpa0qk783e7mzhzjhwwufzmuhvr50s92   \n",
       "...                    ...                                         ...   \n",
       "548870 2020-06-12 12:08:23  bc1q8tzjzqng7vj9j2t0dxypw0zhw2pxjfzcak6urp   \n",
       "548871 2020-06-12 12:08:23  bc1qk4vw42dvyjmx0plfpwsz6f2nmq94pyuvdazye2   \n",
       "548872 2016-01-24 20:07:16          1NjAhYcXPC7qsLi8hryiHgtnx4mZgaCa18   \n",
       "548873 2018-12-23 00:24:11          18cKMds7HQfgpNm3EKNKdTzuGbnge7QeDW   \n",
       "548874 2020-06-28 11:29:32          1Awk95Rxtmxya99oCCHEQqEbGcg3mHAESv   \n",
       "\n",
       "          output_category       BTC  isIllicit     src     dst  \n",
       "0       merchant services  0.011000          0       0  121082  \n",
       "1                          0.010000          2       1  121083  \n",
       "2                          0.010000          2       1   51674  \n",
       "3                          0.010000          2       1   62956  \n",
       "4                          0.010000          2       1   56555  \n",
       "...                   ...       ...        ...     ...     ...  \n",
       "548870                     0.500000          2  121081    6876  \n",
       "548871                     0.500000          2  121081   95783  \n",
       "548872                     0.000054          2   21746  213888  \n",
       "548873                     0.024873          2   22933   22933  \n",
       "548874           exchange  0.000005          0    2728  248999  \n",
       "\n",
       "[548875 rows x 12 columns]"
      ]
     },
     "execution_count": 26,
     "metadata": {},
     "output_type": "execute_result"
    }
   ],
   "source": [
    "df_features"
   ]
  },
  {
   "cell_type": "code",
   "execution_count": 27,
   "metadata": {},
   "outputs": [],
   "source": [
    "#df_features['transactionDateTime'] = pd.to_datetime(df_features['time'])\n",
    "#df_features['transactionMonth'] = pd.to_datetime(df_features['transactionDateTime']).dt.month\n",
    "#df_features['transactionDayOfWeek'] = pd.to_datetime(df_features['transactionDateTime']).dt.dayofweek\n",
    "#df_features['transactionYear'] = pd.to_datetime(df_features['transactionDateTime']).dt.year\n",
    "#df_features['transactionHour'] = pd.to_datetime(df_features['transactionDateTime']).dt.hour"
   ]
  },
  {
   "cell_type": "code",
   "execution_count": 28,
   "metadata": {},
   "outputs": [],
   "source": [
    "df_features.sort_values(['InputAddress', 'Month','Day', 'Time'], inplace=True)\n",
    "df_features.reset_index(inplace=True,drop=True)\n",
    "df_features['inputMax'] = df_features.groupby('InputAddress')['BTC'].cummax()\n",
    "df_features['inputMin'] = df_features.groupby('InputAddress')['BTC'].cummin()\n",
    "df_features['inputSum'] = df_features.groupby('InputAddress')['BTC'].cumsum()\n",
    "df_features.sort_values(['OutputAddress', 'Month','Day', 'Time'], inplace=True)\n",
    "df_features.reset_index(inplace=True,drop=True)\n",
    "df_features['outputMax'] = df_features.groupby('OutputAddress')['BTC'].cummax()\n",
    "df_features['outputMin'] = df_features.groupby('OutputAddress')['BTC'].cummin()\n",
    "df_features['outputSum'] = df_features.groupby('OutputAddress')['BTC'].cumsum()"
   ]
  },
  {
   "cell_type": "code",
   "execution_count": 29,
   "metadata": {},
   "outputs": [],
   "source": [
    "#df_features.sort_values(['InputAddress', 'Month','Day', 'Time'], inplace=True)\n",
    "#df_features.reset_index(inplace=True,drop=True)\n",
    "#df_features['Duration_Inputs'] = (df_features['transactionDateTime'] - df_features.groupby('input_address')['transactionDateTime'].cummin()).dt.days\n",
    "\n",
    "#df_features.sort_values(['output_address', 'transactionDateTime'], inplace=True)\n",
    "#df_features.reset_index(inplace=True,drop=True)\n",
    "#df_features['Duration_Outputs'] = (df_features['transactionDateTime'] - df_features.groupby('output_address')['transactionDateTime'].cummin()).dt.days\n"
   ]
  },
  {
   "cell_type": "code",
   "execution_count": 30,
   "metadata": {},
   "outputs": [],
   "source": [
    "df_final = df_features"
   ]
  },
  {
   "cell_type": "code",
   "execution_count": 31,
   "metadata": {},
   "outputs": [
    {
     "data": {
      "text/plain": [
       "Index(['tx_hash', 'block_hash', 'value', 'input_address', 'input_category',\n",
       "       'time', 'output_address', 'output_category', 'BTC', 'isIllicit', 'src',\n",
       "       'dst', 'transactionDateTime', 'transactionMonth',\n",
       "       'transactionDayOfWeek', 'transactionYear', 'transactionHour',\n",
       "       'inputMax', 'inputMin', 'inputSum', 'outputMax', 'outputMin',\n",
       "       'outputSum', 'Duration_Inputs', 'Duration_Outputs'],\n",
       "      dtype='object')"
      ]
     },
     "execution_count": 31,
     "metadata": {},
     "output_type": "execute_result"
    }
   ],
   "source": [
    "df_final.columns"
   ]
  },
  {
   "cell_type": "code",
   "execution_count": 32,
   "metadata": {},
   "outputs": [],
   "source": [
    "features_pandas = features(g,vertices_df).toPandas()"
   ]
  },
  {
   "cell_type": "code",
   "execution_count": 33,
   "metadata": {},
   "outputs": [
    {
     "data": {
      "text/html": [
       "<div>\n",
       "<style scoped>\n",
       "    .dataframe tbody tr th:only-of-type {\n",
       "        vertical-align: middle;\n",
       "    }\n",
       "\n",
       "    .dataframe tbody tr th {\n",
       "        vertical-align: top;\n",
       "    }\n",
       "\n",
       "    .dataframe thead th {\n",
       "        text-align: right;\n",
       "    }\n",
       "</style>\n",
       "<table border=\"1\" class=\"dataframe\">\n",
       "  <thead>\n",
       "    <tr style=\"text-align: right;\">\n",
       "      <th></th>\n",
       "      <th>id</th>\n",
       "      <th>Unique_ID</th>\n",
       "      <th>degree</th>\n",
       "      <th>inDegree</th>\n",
       "      <th>outDegree</th>\n",
       "      <th>pagerank</th>\n",
       "      <th>count</th>\n",
       "      <th>label</th>\n",
       "    </tr>\n",
       "  </thead>\n",
       "  <tbody>\n",
       "    <tr>\n",
       "      <th>0</th>\n",
       "      <td>19</td>\n",
       "      <td>1LZZJZPTLYcWSgwfmLY4Ryqdd3pjqBBaH3</td>\n",
       "      <td>1</td>\n",
       "      <td>NaN</td>\n",
       "      <td>1.0</td>\n",
       "      <td>0.593802</td>\n",
       "      <td>0</td>\n",
       "      <td>121100</td>\n",
       "    </tr>\n",
       "    <tr>\n",
       "      <th>1</th>\n",
       "      <td>73</td>\n",
       "      <td>bc1qxcv2rw7aqw2ty34eev06v5g5xhpvkjfcktlk2m</td>\n",
       "      <td>8</td>\n",
       "      <td>3.0</td>\n",
       "      <td>5.0</td>\n",
       "      <td>1.141643</td>\n",
       "      <td>0</td>\n",
       "      <td>2590</td>\n",
       "    </tr>\n",
       "    <tr>\n",
       "      <th>2</th>\n",
       "      <td>526</td>\n",
       "      <td>13DfcmSA9t14QTFH7o6ENR2cms9phGZzkT</td>\n",
       "      <td>4</td>\n",
       "      <td>2.0</td>\n",
       "      <td>2.0</td>\n",
       "      <td>1.313044</td>\n",
       "      <td>0</td>\n",
       "      <td>121652</td>\n",
       "    </tr>\n",
       "    <tr>\n",
       "      <th>3</th>\n",
       "      <td>706</td>\n",
       "      <td>bc1qgd7t8t6mg8es5r4lgsdu0t9mtxk3yx3dm26lh9</td>\n",
       "      <td>8</td>\n",
       "      <td>3.0</td>\n",
       "      <td>5.0</td>\n",
       "      <td>1.445858</td>\n",
       "      <td>0</td>\n",
       "      <td>55390</td>\n",
       "    </tr>\n",
       "    <tr>\n",
       "      <th>4</th>\n",
       "      <td>858</td>\n",
       "      <td>12hGxiUuKPkYSD7SfMf5exaWAyi7p98oNk</td>\n",
       "      <td>4</td>\n",
       "      <td>2.0</td>\n",
       "      <td>2.0</td>\n",
       "      <td>3.958677</td>\n",
       "      <td>0</td>\n",
       "      <td>858</td>\n",
       "    </tr>\n",
       "    <tr>\n",
       "      <th>...</th>\n",
       "      <td>...</td>\n",
       "      <td>...</td>\n",
       "      <td>...</td>\n",
       "      <td>...</td>\n",
       "      <td>...</td>\n",
       "      <td>...</td>\n",
       "      <td>...</td>\n",
       "      <td>...</td>\n",
       "    </tr>\n",
       "    <tr>\n",
       "      <th>248995</th>\n",
       "      <td>247479</td>\n",
       "      <td>1Em2Hgajd8VegYYpFpEeg4ZXsdacUxjQF</td>\n",
       "      <td>16</td>\n",
       "      <td>16.0</td>\n",
       "      <td>NaN</td>\n",
       "      <td>0.872274</td>\n",
       "      <td>0</td>\n",
       "      <td>119812</td>\n",
       "    </tr>\n",
       "    <tr>\n",
       "      <th>248996</th>\n",
       "      <td>247841</td>\n",
       "      <td>34i8EUcWW5uUoquT7nHDh5vXhAXQxyKkxP</td>\n",
       "      <td>1</td>\n",
       "      <td>1.0</td>\n",
       "      <td>NaN</td>\n",
       "      <td>1.098533</td>\n",
       "      <td>0</td>\n",
       "      <td>120098</td>\n",
       "    </tr>\n",
       "    <tr>\n",
       "      <th>248997</th>\n",
       "      <td>248487</td>\n",
       "      <td>bc1q0qq7uvqz9zdy6kv2atnegvptumdwayp50lp6dk</td>\n",
       "      <td>2</td>\n",
       "      <td>2.0</td>\n",
       "      <td>NaN</td>\n",
       "      <td>0.795694</td>\n",
       "      <td>0</td>\n",
       "      <td>120623</td>\n",
       "    </tr>\n",
       "    <tr>\n",
       "      <th>248998</th>\n",
       "      <td>248578</td>\n",
       "      <td>37ZrYBSye3wbugBFxnCKZ1CwomcZALXRSq</td>\n",
       "      <td>1</td>\n",
       "      <td>1.0</td>\n",
       "      <td>NaN</td>\n",
       "      <td>1.098533</td>\n",
       "      <td>0</td>\n",
       "      <td>120717</td>\n",
       "    </tr>\n",
       "    <tr>\n",
       "      <th>248999</th>\n",
       "      <td>248790</td>\n",
       "      <td>bc1qyywwuz5qkgr7pjsjgr2zyuzhl0fdh6x0qcfqyx</td>\n",
       "      <td>1</td>\n",
       "      <td>1.0</td>\n",
       "      <td>NaN</td>\n",
       "      <td>0.621842</td>\n",
       "      <td>0</td>\n",
       "      <td>120917</td>\n",
       "    </tr>\n",
       "  </tbody>\n",
       "</table>\n",
       "<p>249000 rows × 8 columns</p>\n",
       "</div>"
      ],
      "text/plain": [
       "            id                                   Unique_ID  degree  inDegree  \\\n",
       "0           19          1LZZJZPTLYcWSgwfmLY4Ryqdd3pjqBBaH3       1       NaN   \n",
       "1           73  bc1qxcv2rw7aqw2ty34eev06v5g5xhpvkjfcktlk2m       8       3.0   \n",
       "2          526          13DfcmSA9t14QTFH7o6ENR2cms9phGZzkT       4       2.0   \n",
       "3          706  bc1qgd7t8t6mg8es5r4lgsdu0t9mtxk3yx3dm26lh9       8       3.0   \n",
       "4          858          12hGxiUuKPkYSD7SfMf5exaWAyi7p98oNk       4       2.0   \n",
       "...        ...                                         ...     ...       ...   \n",
       "248995  247479           1Em2Hgajd8VegYYpFpEeg4ZXsdacUxjQF      16      16.0   \n",
       "248996  247841          34i8EUcWW5uUoquT7nHDh5vXhAXQxyKkxP       1       1.0   \n",
       "248997  248487  bc1q0qq7uvqz9zdy6kv2atnegvptumdwayp50lp6dk       2       2.0   \n",
       "248998  248578          37ZrYBSye3wbugBFxnCKZ1CwomcZALXRSq       1       1.0   \n",
       "248999  248790  bc1qyywwuz5qkgr7pjsjgr2zyuzhl0fdh6x0qcfqyx       1       1.0   \n",
       "\n",
       "        outDegree  pagerank  count   label  \n",
       "0             1.0  0.593802      0  121100  \n",
       "1             5.0  1.141643      0    2590  \n",
       "2             2.0  1.313044      0  121652  \n",
       "3             5.0  1.445858      0   55390  \n",
       "4             2.0  3.958677      0     858  \n",
       "...           ...       ...    ...     ...  \n",
       "248995        NaN  0.872274      0  119812  \n",
       "248996        NaN  1.098533      0  120098  \n",
       "248997        NaN  0.795694      0  120623  \n",
       "248998        NaN  1.098533      0  120717  \n",
       "248999        NaN  0.621842      0  120917  \n",
       "\n",
       "[249000 rows x 8 columns]"
      ]
     },
     "execution_count": 33,
     "metadata": {},
     "output_type": "execute_result"
    }
   ],
   "source": [
    "features_pandas"
   ]
  },
  {
   "cell_type": "code",
   "execution_count": 34,
   "metadata": {},
   "outputs": [],
   "source": [
    "ft = features_pandas\n",
    "#ft.columns =new_cols\n",
    "old_cols = ['id','Unique_ID','degree','inDegree','outDegree','pagerank','count','label']\n",
    "new_cols_input = ['id_input','Unique_ID_input','degree_input','inDegree_input','outDegree_input','pagerank_input','tricount_input', 'label_input']\n",
    "new_cols_output = ['id_output','Unique_ID_output','degree_output','inDegree_output','outDegree_output','pagerank_output','tricount_output', 'label_output']\n",
    "ft.columns =new_cols_input\n",
    "df_final_feats = pd.merge(df_final,ft,how='left', left_on='InputAddress', right_on='Unique_ID_input')\n",
    "ft.columns =new_cols_output\n",
    "df_final_feats = pd.merge(df_final_feats,ft,how='left', left_on='OutputAddress', right_on='Unique_ID_output')"
   ]
  },
  {
   "cell_type": "code",
   "execution_count": 35,
   "metadata": {},
   "outputs": [
    {
     "data": {
      "text/html": [
       "<div>\n",
       "<style scoped>\n",
       "    .dataframe tbody tr th:only-of-type {\n",
       "        vertical-align: middle;\n",
       "    }\n",
       "\n",
       "    .dataframe tbody tr th {\n",
       "        vertical-align: top;\n",
       "    }\n",
       "\n",
       "    .dataframe thead th {\n",
       "        text-align: right;\n",
       "    }\n",
       "</style>\n",
       "<table border=\"1\" class=\"dataframe\">\n",
       "  <thead>\n",
       "    <tr style=\"text-align: right;\">\n",
       "      <th></th>\n",
       "      <th>tx_hash</th>\n",
       "      <th>block_hash</th>\n",
       "      <th>value</th>\n",
       "      <th>input_address</th>\n",
       "      <th>input_category</th>\n",
       "      <th>time</th>\n",
       "      <th>output_address</th>\n",
       "      <th>output_category</th>\n",
       "      <th>BTC</th>\n",
       "      <th>isIllicit</th>\n",
       "      <th>...</th>\n",
       "      <th>tricount_input</th>\n",
       "      <th>label_input</th>\n",
       "      <th>id_output</th>\n",
       "      <th>Unique_ID_output</th>\n",
       "      <th>degree_output</th>\n",
       "      <th>inDegree_output</th>\n",
       "      <th>outDegree_output</th>\n",
       "      <th>pagerank_output</th>\n",
       "      <th>tricount_output</th>\n",
       "      <th>label_output</th>\n",
       "    </tr>\n",
       "  </thead>\n",
       "  <tbody>\n",
       "    <tr>\n",
       "      <th>0</th>\n",
       "      <td>2e734b698a3f8b1ad31ac91fe604acdd3c05cbbfa4319b...</td>\n",
       "      <td>000000000000000000092d2f4a28ba4316f5c18a937a34...</td>\n",
       "      <td>483000000</td>\n",
       "      <td>1BxYtatoXNyECVEP6ypvLEu9WGkWyquXiG</td>\n",
       "      <td></td>\n",
       "      <td>2020-06-24 06:52:06</td>\n",
       "      <td>1121gWGLDLVfJnZxQA58K6bmc3Jrp3ZS41</td>\n",
       "      <td>exchange</td>\n",
       "      <td>4.830000</td>\n",
       "      <td>0</td>\n",
       "      <td>...</td>\n",
       "      <td>1</td>\n",
       "      <td>89858</td>\n",
       "      <td>129641</td>\n",
       "      <td>1121gWGLDLVfJnZxQA58K6bmc3Jrp3ZS41</td>\n",
       "      <td>3</td>\n",
       "      <td>3.0</td>\n",
       "      <td>NaN</td>\n",
       "      <td>0.726140</td>\n",
       "      <td>0</td>\n",
       "      <td>603</td>\n",
       "    </tr>\n",
       "    <tr>\n",
       "      <th>1</th>\n",
       "      <td>edefff68359073414cb7c0095ccca9b3a9ad4c2d19925f...</td>\n",
       "      <td>0000000000000000000cf18be3587eca2ca8155d256f54...</td>\n",
       "      <td>1000000000</td>\n",
       "      <td>1KvG63bhwKDY3X6YDCdSsotrjBdiEtQqfU</td>\n",
       "      <td></td>\n",
       "      <td>2020-06-29 04:56:17</td>\n",
       "      <td>1121gWGLDLVfJnZxQA58K6bmc3Jrp3ZS41</td>\n",
       "      <td>exchange</td>\n",
       "      <td>10.000000</td>\n",
       "      <td>0</td>\n",
       "      <td>...</td>\n",
       "      <td>0</td>\n",
       "      <td>2657</td>\n",
       "      <td>129641</td>\n",
       "      <td>1121gWGLDLVfJnZxQA58K6bmc3Jrp3ZS41</td>\n",
       "      <td>3</td>\n",
       "      <td>3.0</td>\n",
       "      <td>NaN</td>\n",
       "      <td>0.726140</td>\n",
       "      <td>0</td>\n",
       "      <td>603</td>\n",
       "    </tr>\n",
       "    <tr>\n",
       "      <th>2</th>\n",
       "      <td>0103bf594230968411c2d722f36bc39e30c9572cb95943...</td>\n",
       "      <td>000000000000000000074ae09b4a75bc8c13d2f93a53f1...</td>\n",
       "      <td>793000000</td>\n",
       "      <td>1BxYtatoXNyECVEP6ypvLEu9WGkWyquXiG</td>\n",
       "      <td></td>\n",
       "      <td>2020-06-29 10:11:42</td>\n",
       "      <td>1121gWGLDLVfJnZxQA58K6bmc3Jrp3ZS41</td>\n",
       "      <td>exchange</td>\n",
       "      <td>7.930000</td>\n",
       "      <td>0</td>\n",
       "      <td>...</td>\n",
       "      <td>1</td>\n",
       "      <td>89858</td>\n",
       "      <td>129641</td>\n",
       "      <td>1121gWGLDLVfJnZxQA58K6bmc3Jrp3ZS41</td>\n",
       "      <td>3</td>\n",
       "      <td>3.0</td>\n",
       "      <td>NaN</td>\n",
       "      <td>0.726140</td>\n",
       "      <td>0</td>\n",
       "      <td>603</td>\n",
       "    </tr>\n",
       "    <tr>\n",
       "      <th>3</th>\n",
       "      <td>3419454b67ebc40874cf8f0a60777b177b72a0dd2fb4b1...</td>\n",
       "      <td>0000000000000000000187d97c48494f97cb3647ec70c2...</td>\n",
       "      <td>250000</td>\n",
       "      <td>1DmARnYTnJJZnns42JXf3QcoV6QSdKdz59</td>\n",
       "      <td></td>\n",
       "      <td>2020-06-26 17:39:05</td>\n",
       "      <td>1123Kn2Q91Wec9xjwcb63wHhcUr5cXWMR5</td>\n",
       "      <td></td>\n",
       "      <td>0.002500</td>\n",
       "      <td>2</td>\n",
       "      <td>...</td>\n",
       "      <td>0</td>\n",
       "      <td>141200</td>\n",
       "      <td>210084</td>\n",
       "      <td>1123Kn2Q91Wec9xjwcb63wHhcUr5cXWMR5</td>\n",
       "      <td>1</td>\n",
       "      <td>1.0</td>\n",
       "      <td>NaN</td>\n",
       "      <td>0.762045</td>\n",
       "      <td>0</td>\n",
       "      <td>19591</td>\n",
       "    </tr>\n",
       "    <tr>\n",
       "      <th>4</th>\n",
       "      <td>25648011439b876059c9fbe6e4cca0d9cc52368dbe2ce6...</td>\n",
       "      <td>00000000000000000006e71e344bbb8f7876d7a0250426...</td>\n",
       "      <td>1322000</td>\n",
       "      <td>3FrhAmzT8SegoY3xXTBoyhhCi4cqhTrrQa</td>\n",
       "      <td>merchant services</td>\n",
       "      <td>2020-01-24 12:55:08</td>\n",
       "      <td>1123yniHbGV1KjQnj6Hd3Vx2vXcRH8LtGD</td>\n",
       "      <td></td>\n",
       "      <td>0.013220</td>\n",
       "      <td>0</td>\n",
       "      <td>...</td>\n",
       "      <td>0</td>\n",
       "      <td>124948</td>\n",
       "      <td>124948</td>\n",
       "      <td>1123yniHbGV1KjQnj6Hd3Vx2vXcRH8LtGD</td>\n",
       "      <td>2</td>\n",
       "      <td>2.0</td>\n",
       "      <td>NaN</td>\n",
       "      <td>1.603264</td>\n",
       "      <td>0</td>\n",
       "      <td>3592</td>\n",
       "    </tr>\n",
       "    <tr>\n",
       "      <th>...</th>\n",
       "      <td>...</td>\n",
       "      <td>...</td>\n",
       "      <td>...</td>\n",
       "      <td>...</td>\n",
       "      <td>...</td>\n",
       "      <td>...</td>\n",
       "      <td>...</td>\n",
       "      <td>...</td>\n",
       "      <td>...</td>\n",
       "      <td>...</td>\n",
       "      <td>...</td>\n",
       "      <td>...</td>\n",
       "      <td>...</td>\n",
       "      <td>...</td>\n",
       "      <td>...</td>\n",
       "      <td>...</td>\n",
       "      <td>...</td>\n",
       "      <td>...</td>\n",
       "      <td>...</td>\n",
       "      <td>...</td>\n",
       "      <td>...</td>\n",
       "    </tr>\n",
       "    <tr>\n",
       "      <th>548870</th>\n",
       "      <td>110df02c24e6ceb6cd9d7e7a53ec0661f0f0eeef0e3f3f...</td>\n",
       "      <td>0000000000000000000130f57eea19e5e69d4dd9673a66...</td>\n",
       "      <td>5000000</td>\n",
       "      <td>bc1q7qkn43p7lzxjqwns3jh88zpnwn5haetc6ty425</td>\n",
       "      <td></td>\n",
       "      <td>2020-04-05 16:47:17</td>\n",
       "      <td>bc1qzzz9gg330zg7zc3aywvuwntap958ntz5tqlfyc</td>\n",
       "      <td></td>\n",
       "      <td>0.050000</td>\n",
       "      <td>2</td>\n",
       "      <td>...</td>\n",
       "      <td>0</td>\n",
       "      <td>98377</td>\n",
       "      <td>171238</td>\n",
       "      <td>bc1qzzz9gg330zg7zc3aywvuwntap958ntz5tqlfyc</td>\n",
       "      <td>3</td>\n",
       "      <td>3.0</td>\n",
       "      <td>NaN</td>\n",
       "      <td>1.079605</td>\n",
       "      <td>0</td>\n",
       "      <td>48253</td>\n",
       "    </tr>\n",
       "    <tr>\n",
       "      <th>548871</th>\n",
       "      <td>37c3c503318f600be020d398ce7ef21b6005feedfbfabd...</td>\n",
       "      <td>00000000000000000006a51ca7431b1e876e8a221f658b...</td>\n",
       "      <td>20920668</td>\n",
       "      <td>bc1q804xfnlc5wxgt5m5gukh757a737nmncwy962fp</td>\n",
       "      <td>mixing</td>\n",
       "      <td>2020-07-19 01:50:04</td>\n",
       "      <td>bc1qzzzjdkjaplcg390z2kyqgsqmpu3mws0ej5ladv</td>\n",
       "      <td></td>\n",
       "      <td>0.209207</td>\n",
       "      <td>1</td>\n",
       "      <td>...</td>\n",
       "      <td>0</td>\n",
       "      <td>244137</td>\n",
       "      <td>244134</td>\n",
       "      <td>bc1qzzzjdkjaplcg390z2kyqgsqmpu3mws0ej5ladv</td>\n",
       "      <td>1</td>\n",
       "      <td>1.0</td>\n",
       "      <td>NaN</td>\n",
       "      <td>0.639686</td>\n",
       "      <td>0</td>\n",
       "      <td>116531</td>\n",
       "    </tr>\n",
       "    <tr>\n",
       "      <th>548872</th>\n",
       "      <td>11ffe496d80769205c34f7374119c2086c42ba870f7fe7...</td>\n",
       "      <td>00000000000000000002604e267f814c2b8f180aa14521...</td>\n",
       "      <td>1000000</td>\n",
       "      <td>bc1q4ul7grx9s8a8ekfnfhgw059h03j8edche92maw</td>\n",
       "      <td></td>\n",
       "      <td>2020-06-23 03:43:22</td>\n",
       "      <td>bc1qzzzr65stzqa8rl4pwwr5dapycrraqhg8t26l7c</td>\n",
       "      <td></td>\n",
       "      <td>0.010000</td>\n",
       "      <td>2</td>\n",
       "      <td>...</td>\n",
       "      <td>0</td>\n",
       "      <td>18316</td>\n",
       "      <td>147675</td>\n",
       "      <td>bc1qzzzr65stzqa8rl4pwwr5dapycrraqhg8t26l7c</td>\n",
       "      <td>3</td>\n",
       "      <td>3.0</td>\n",
       "      <td>NaN</td>\n",
       "      <td>1.276971</td>\n",
       "      <td>0</td>\n",
       "      <td>26408</td>\n",
       "    </tr>\n",
       "    <tr>\n",
       "      <th>548873</th>\n",
       "      <td>11ffe496d80769205c34f7374119c2086c42ba870f7fe7...</td>\n",
       "      <td>00000000000000000002604e267f814c2b8f180aa14521...</td>\n",
       "      <td>1000000</td>\n",
       "      <td>bc1q9wrpt7eqrny64ggjydjw8k8n5zkettzxkpsknd</td>\n",
       "      <td></td>\n",
       "      <td>2020-06-23 03:43:22</td>\n",
       "      <td>bc1qzzzr65stzqa8rl4pwwr5dapycrraqhg8t26l7c</td>\n",
       "      <td></td>\n",
       "      <td>0.010000</td>\n",
       "      <td>2</td>\n",
       "      <td>...</td>\n",
       "      <td>0</td>\n",
       "      <td>18316</td>\n",
       "      <td>147675</td>\n",
       "      <td>bc1qzzzr65stzqa8rl4pwwr5dapycrraqhg8t26l7c</td>\n",
       "      <td>3</td>\n",
       "      <td>3.0</td>\n",
       "      <td>NaN</td>\n",
       "      <td>1.276971</td>\n",
       "      <td>0</td>\n",
       "      <td>26408</td>\n",
       "    </tr>\n",
       "    <tr>\n",
       "      <th>548874</th>\n",
       "      <td>11ffe496d80769205c34f7374119c2086c42ba870f7fe7...</td>\n",
       "      <td>00000000000000000002604e267f814c2b8f180aa14521...</td>\n",
       "      <td>1000000</td>\n",
       "      <td>bc1qp9cmtwkyggvn5p6j26j8ugqx8294476hd5xg6q</td>\n",
       "      <td></td>\n",
       "      <td>2020-06-23 03:43:22</td>\n",
       "      <td>bc1qzzzr65stzqa8rl4pwwr5dapycrraqhg8t26l7c</td>\n",
       "      <td></td>\n",
       "      <td>0.010000</td>\n",
       "      <td>2</td>\n",
       "      <td>...</td>\n",
       "      <td>0</td>\n",
       "      <td>18316</td>\n",
       "      <td>147675</td>\n",
       "      <td>bc1qzzzr65stzqa8rl4pwwr5dapycrraqhg8t26l7c</td>\n",
       "      <td>3</td>\n",
       "      <td>3.0</td>\n",
       "      <td>NaN</td>\n",
       "      <td>1.276971</td>\n",
       "      <td>0</td>\n",
       "      <td>26408</td>\n",
       "    </tr>\n",
       "  </tbody>\n",
       "</table>\n",
       "<p>548875 rows × 41 columns</p>\n",
       "</div>"
      ],
      "text/plain": [
       "                                                  tx_hash  \\\n",
       "0       2e734b698a3f8b1ad31ac91fe604acdd3c05cbbfa4319b...   \n",
       "1       edefff68359073414cb7c0095ccca9b3a9ad4c2d19925f...   \n",
       "2       0103bf594230968411c2d722f36bc39e30c9572cb95943...   \n",
       "3       3419454b67ebc40874cf8f0a60777b177b72a0dd2fb4b1...   \n",
       "4       25648011439b876059c9fbe6e4cca0d9cc52368dbe2ce6...   \n",
       "...                                                   ...   \n",
       "548870  110df02c24e6ceb6cd9d7e7a53ec0661f0f0eeef0e3f3f...   \n",
       "548871  37c3c503318f600be020d398ce7ef21b6005feedfbfabd...   \n",
       "548872  11ffe496d80769205c34f7374119c2086c42ba870f7fe7...   \n",
       "548873  11ffe496d80769205c34f7374119c2086c42ba870f7fe7...   \n",
       "548874  11ffe496d80769205c34f7374119c2086c42ba870f7fe7...   \n",
       "\n",
       "                                               block_hash       value  \\\n",
       "0       000000000000000000092d2f4a28ba4316f5c18a937a34...   483000000   \n",
       "1       0000000000000000000cf18be3587eca2ca8155d256f54...  1000000000   \n",
       "2       000000000000000000074ae09b4a75bc8c13d2f93a53f1...   793000000   \n",
       "3       0000000000000000000187d97c48494f97cb3647ec70c2...      250000   \n",
       "4       00000000000000000006e71e344bbb8f7876d7a0250426...     1322000   \n",
       "...                                                   ...         ...   \n",
       "548870  0000000000000000000130f57eea19e5e69d4dd9673a66...     5000000   \n",
       "548871  00000000000000000006a51ca7431b1e876e8a221f658b...    20920668   \n",
       "548872  00000000000000000002604e267f814c2b8f180aa14521...     1000000   \n",
       "548873  00000000000000000002604e267f814c2b8f180aa14521...     1000000   \n",
       "548874  00000000000000000002604e267f814c2b8f180aa14521...     1000000   \n",
       "\n",
       "                                     input_address     input_category  \\\n",
       "0               1BxYtatoXNyECVEP6ypvLEu9WGkWyquXiG                      \n",
       "1               1KvG63bhwKDY3X6YDCdSsotrjBdiEtQqfU                      \n",
       "2               1BxYtatoXNyECVEP6ypvLEu9WGkWyquXiG                      \n",
       "3               1DmARnYTnJJZnns42JXf3QcoV6QSdKdz59                      \n",
       "4               3FrhAmzT8SegoY3xXTBoyhhCi4cqhTrrQa  merchant services   \n",
       "...                                            ...                ...   \n",
       "548870  bc1q7qkn43p7lzxjqwns3jh88zpnwn5haetc6ty425                      \n",
       "548871  bc1q804xfnlc5wxgt5m5gukh757a737nmncwy962fp             mixing   \n",
       "548872  bc1q4ul7grx9s8a8ekfnfhgw059h03j8edche92maw                      \n",
       "548873  bc1q9wrpt7eqrny64ggjydjw8k8n5zkettzxkpsknd                      \n",
       "548874  bc1qp9cmtwkyggvn5p6j26j8ugqx8294476hd5xg6q                      \n",
       "\n",
       "                      time                              output_address  \\\n",
       "0      2020-06-24 06:52:06          1121gWGLDLVfJnZxQA58K6bmc3Jrp3ZS41   \n",
       "1      2020-06-29 04:56:17          1121gWGLDLVfJnZxQA58K6bmc3Jrp3ZS41   \n",
       "2      2020-06-29 10:11:42          1121gWGLDLVfJnZxQA58K6bmc3Jrp3ZS41   \n",
       "3      2020-06-26 17:39:05          1123Kn2Q91Wec9xjwcb63wHhcUr5cXWMR5   \n",
       "4      2020-01-24 12:55:08          1123yniHbGV1KjQnj6Hd3Vx2vXcRH8LtGD   \n",
       "...                    ...                                         ...   \n",
       "548870 2020-04-05 16:47:17  bc1qzzz9gg330zg7zc3aywvuwntap958ntz5tqlfyc   \n",
       "548871 2020-07-19 01:50:04  bc1qzzzjdkjaplcg390z2kyqgsqmpu3mws0ej5ladv   \n",
       "548872 2020-06-23 03:43:22  bc1qzzzr65stzqa8rl4pwwr5dapycrraqhg8t26l7c   \n",
       "548873 2020-06-23 03:43:22  bc1qzzzr65stzqa8rl4pwwr5dapycrraqhg8t26l7c   \n",
       "548874 2020-06-23 03:43:22  bc1qzzzr65stzqa8rl4pwwr5dapycrraqhg8t26l7c   \n",
       "\n",
       "       output_category        BTC  isIllicit  ...  tricount_input  \\\n",
       "0             exchange   4.830000          0  ...               1   \n",
       "1             exchange  10.000000          0  ...               0   \n",
       "2             exchange   7.930000          0  ...               1   \n",
       "3                        0.002500          2  ...               0   \n",
       "4                        0.013220          0  ...               0   \n",
       "...                ...        ...        ...  ...             ...   \n",
       "548870                   0.050000          2  ...               0   \n",
       "548871                   0.209207          1  ...               0   \n",
       "548872                   0.010000          2  ...               0   \n",
       "548873                   0.010000          2  ...               0   \n",
       "548874                   0.010000          2  ...               0   \n",
       "\n",
       "        label_input id_output                            Unique_ID_output  \\\n",
       "0             89858    129641          1121gWGLDLVfJnZxQA58K6bmc3Jrp3ZS41   \n",
       "1              2657    129641          1121gWGLDLVfJnZxQA58K6bmc3Jrp3ZS41   \n",
       "2             89858    129641          1121gWGLDLVfJnZxQA58K6bmc3Jrp3ZS41   \n",
       "3            141200    210084          1123Kn2Q91Wec9xjwcb63wHhcUr5cXWMR5   \n",
       "4            124948    124948          1123yniHbGV1KjQnj6Hd3Vx2vXcRH8LtGD   \n",
       "...             ...       ...                                         ...   \n",
       "548870        98377    171238  bc1qzzz9gg330zg7zc3aywvuwntap958ntz5tqlfyc   \n",
       "548871       244137    244134  bc1qzzzjdkjaplcg390z2kyqgsqmpu3mws0ej5ladv   \n",
       "548872        18316    147675  bc1qzzzr65stzqa8rl4pwwr5dapycrraqhg8t26l7c   \n",
       "548873        18316    147675  bc1qzzzr65stzqa8rl4pwwr5dapycrraqhg8t26l7c   \n",
       "548874        18316    147675  bc1qzzzr65stzqa8rl4pwwr5dapycrraqhg8t26l7c   \n",
       "\n",
       "        degree_output  inDegree_output  outDegree_output  pagerank_output  \\\n",
       "0                   3              3.0               NaN         0.726140   \n",
       "1                   3              3.0               NaN         0.726140   \n",
       "2                   3              3.0               NaN         0.726140   \n",
       "3                   1              1.0               NaN         0.762045   \n",
       "4                   2              2.0               NaN         1.603264   \n",
       "...               ...              ...               ...              ...   \n",
       "548870              3              3.0               NaN         1.079605   \n",
       "548871              1              1.0               NaN         0.639686   \n",
       "548872              3              3.0               NaN         1.276971   \n",
       "548873              3              3.0               NaN         1.276971   \n",
       "548874              3              3.0               NaN         1.276971   \n",
       "\n",
       "        tricount_output  label_output  \n",
       "0                     0           603  \n",
       "1                     0           603  \n",
       "2                     0           603  \n",
       "3                     0         19591  \n",
       "4                     0          3592  \n",
       "...                 ...           ...  \n",
       "548870                0         48253  \n",
       "548871                0        116531  \n",
       "548872                0         26408  \n",
       "548873                0         26408  \n",
       "548874                0         26408  \n",
       "\n",
       "[548875 rows x 41 columns]"
      ]
     },
     "execution_count": 35,
     "metadata": {},
     "output_type": "execute_result"
    }
   ],
   "source": [
    "df_final_feats"
   ]
  },
  {
   "cell_type": "code",
   "execution_count": 36,
   "metadata": {},
   "outputs": [
    {
     "data": {
      "text/plain": [
       "Index(['tx_hash', 'block_hash', 'value', 'input_address', 'input_category',\n",
       "       'time', 'output_address', 'output_category', 'BTC', 'isIllicit', 'src',\n",
       "       'dst', 'transactionDateTime', 'transactionMonth',\n",
       "       'transactionDayOfWeek', 'transactionYear', 'transactionHour',\n",
       "       'inputMax', 'inputMin', 'inputSum', 'outputMax', 'outputMin',\n",
       "       'outputSum', 'Duration_Inputs', 'Duration_Outputs', 'id_input',\n",
       "       'Unique_ID_input', 'degree_input', 'inDegree_input', 'outDegree_input',\n",
       "       'pagerank_input', 'tricount_input', 'label_input', 'id_output',\n",
       "       'Unique_ID_output', 'degree_output', 'inDegree_output',\n",
       "       'outDegree_output', 'pagerank_output', 'tricount_output',\n",
       "       'label_output'],\n",
       "      dtype='object')"
      ]
     },
     "execution_count": 36,
     "metadata": {},
     "output_type": "execute_result"
    }
   ],
   "source": [
    "df_final_feats.columns"
   ]
  },
  {
   "cell_type": "code",
   "execution_count": 37,
   "metadata": {},
   "outputs": [
    {
     "name": "stdout",
     "output_type": "stream",
     "text": [
      "<class 'pandas.core.frame.DataFrame'>\n",
      "Int64Index: 548875 entries, 0 to 548874\n",
      "Data columns (total 27 columns):\n",
      "input_address           548875 non-null object\n",
      "output_address          548875 non-null object\n",
      "BTC                     548875 non-null float32\n",
      "transactionMonth        548875 non-null int64\n",
      "transactionDayOfWeek    548875 non-null int64\n",
      "transactionHour         548875 non-null int64\n",
      "inputMax                548875 non-null float32\n",
      "inputMin                548875 non-null float32\n",
      "inputSum                548875 non-null float32\n",
      "outputMax               548875 non-null float32\n",
      "outputMin               548875 non-null float32\n",
      "outputSum               548875 non-null float32\n",
      "isIllicit               548875 non-null int64\n",
      "Duration_Inputs         548875 non-null int64\n",
      "Duration_Outputs        548875 non-null int64\n",
      "degree_input            548875 non-null int32\n",
      "inDegree_input          548875 non-null float64\n",
      "outDegree_input         548875 non-null float64\n",
      "pagerank_input          548875 non-null float64\n",
      "tricount_input          548875 non-null int64\n",
      "degree_output           548875 non-null int32\n",
      "inDegree_output         548875 non-null float64\n",
      "outDegree_output        548875 non-null float64\n",
      "pagerank_output         548875 non-null float64\n",
      "tricount_output         548875 non-null int64\n",
      "label_input             548875 non-null int64\n",
      "label_output            548875 non-null int64\n",
      "dtypes: float32(7), float64(6), int32(2), int64(10), object(2)\n",
      "memory usage: 98.4+ MB\n"
     ]
    }
   ],
   "source": [
    "dataset = df_final_feats[['InputAddress','OutputAddress','BTC','Month', 'DayOfWeek', 'Hour', 'inputMax', 'inputMin',\n",
    " 'inputSum', 'outputMax', 'outputMin', 'outputSum', 'Illicit','degree_input', 'inDegree_input', 'outDegree_input', 'pagerank_input','tricount_input','degree_output',\n",
    " 'inDegree_output', 'outDegree_output', 'pagerank_output','tricount_output','label_input', 'label_output']]\n",
    "dataset_clean =dataset.fillna(0)\n",
    "dataset_clean.info()"
   ]
  },
  {
   "cell_type": "code",
   "execution_count": 38,
   "metadata": {},
   "outputs": [],
   "source": [
    "communities = g.labelPropagation(maxIter=5)"
   ]
  },
  {
   "cell_type": "code",
   "execution_count": 39,
   "metadata": {},
   "outputs": [
    {
     "name": "stdout",
     "output_type": "stream",
     "text": [
      "+--------------------+----+------+\n",
      "|           Unique_ID|  id| label|\n",
      "+--------------------+----+------+\n",
      "|1MS7ce3wJse11PNq8...|  26|121102|\n",
      "|3BMEXuzRbzAiznjeF...|  29|121104|\n",
      "|3QKxhzdfVbaoQK9x9...| 474|121182|\n",
      "|bc1qfxsqa5u6pxq4n...| 964|122024|\n",
      "|bc1q0g73gklywszc4...|1677|122815|\n",
      "|bc1qhn0equ5jsserd...|1697|122856|\n",
      "|1FtJtCP5RjHHc5Mod...|1806|122946|\n",
      "|32HW4qoQkNYJ2kisE...|1950|123205|\n",
      "|bc1qnyhd6cuwhfmh6...|2040| 71692|\n",
      "|1AnXbYeedzFHYJ1Hx...|2214|  2214|\n",
      "+--------------------+----+------+\n",
      "only showing top 10 rows\n",
      "\n"
     ]
    }
   ],
   "source": [
    "communities.persist().show(10)"
   ]
  },
  {
   "cell_type": "code",
   "execution_count": 40,
   "metadata": {},
   "outputs": [
    {
     "data": {
      "text/plain": [
       "Index(['BTC', 'transactionMonth', 'transactionDayOfWeek', 'transactionHour',\n",
       "       'inputMax', 'inputMin', 'inputSum', 'outputMax', 'outputMin',\n",
       "       'outputSum', 'isIllicit', 'Duration_Inputs', 'Duration_Outputs',\n",
       "       'degree_input', 'inDegree_input', 'outDegree_input', 'pagerank_input',\n",
       "       'tricount_input', 'degree_output', 'inDegree_output',\n",
       "       'outDegree_output', 'pagerank_output', 'tricount_output', 'label_input',\n",
       "       'label_output'],\n",
       "      dtype='object')"
      ]
     },
     "execution_count": 40,
     "metadata": {},
     "output_type": "execute_result"
    }
   ],
   "source": [
    "dataset[(dataset.select_dtypes('number').columns)].columns"
   ]
  },
  {
   "cell_type": "code",
   "execution_count": 270,
   "metadata": {},
   "outputs": [
    {
     "name": "stderr",
     "output_type": "stream",
     "text": [
      "/opt/conda/anaconda/lib/python3.6/site-packages/ipykernel_launcher.py:2: RuntimeWarning: More than 20 figures have been opened. Figures created through the pyplot interface (`matplotlib.pyplot.figure`) are retained until explicitly closed and may consume too much memory. (To control this warning, see the rcParam `figure.max_open_warning`).\n",
      "  \n"
     ]
    },
    {
     "data": {
      "image/png": "[encoded data removed]",
      "text/plain": [
       "<Figure size 216x216 with 1 Axes>"
      ]
     },
     "metadata": {
      "needs_background": "light"
     },
     "output_type": "display_data"
    },
    {
     "data": {
      "image/png": "[encoded data removed]",
      "text/plain": [
       "<Figure size 216x216 with 1 Axes>"
      ]
     },
     "metadata": {
      "needs_background": "light"
     },
     "output_type": "display_data"
    },
    {
     "data": {
      "image/png": "[encoded data removed]",
      "text/plain": [
       "<Figure size 216x216 with 1 Axes>"
      ]
     },
     "metadata": {
      "needs_background": "light"
     },
     "output_type": "display_data"
    },
    {
     "data": {
      "image/png": "[encoded data removed]",
      "text/plain": [
       "<Figure size 216x216 with 1 Axes>"
      ]
     },
     "metadata": {
      "needs_background": "light"
     },
     "output_type": "display_data"
    },
    {
     "data": {
      "image/png": "[encoded data removed]",
      "text/plain": [
       "<Figure size 216x216 with 1 Axes>"
      ]
     },
     "metadata": {
      "needs_background": "light"
     },
     "output_type": "display_data"
    },
    {
     "data": {
      "image/png": "[encoded data removed]",
      "text/plain": [
       "<Figure size 216x216 with 1 Axes>"
      ]
     },
     "metadata": {
      "needs_background": "light"
     },
     "output_type": "display_data"
    },
    {
     "data": {
      "image/png": "[encoded data removed]",
      "text/plain": [
       "<Figure size 216x216 with 1 Axes>"
      ]
     },
     "metadata": {
      "needs_background": "light"
     },
     "output_type": "display_data"
    },
    {
     "data": {
      "image/png": "[encoded data removed]",
      "text/plain": [
       "<Figure size 216x216 with 1 Axes>"
      ]
     },
     "metadata": {
      "needs_background": "light"
     },
     "output_type": "display_data"
    },
    {
     "data": {
      "image/png": "[encoded data removed]",
      "text/plain": [
       "<Figure size 216x216 with 1 Axes>"
      ]
     },
     "metadata": {
      "needs_background": "light"
     },
     "output_type": "display_data"
    },
    {
     "data": {
      "image/png": "[encoded data removed]",
      "text/plain": [
       "<Figure size 216x216 with 1 Axes>"
      ]
     },
     "metadata": {
      "needs_background": "light"
     },
     "output_type": "display_data"
    },
    {
     "data": {
      "image/png": "[encoded data removed]",
      "text/plain": [
       "<Figure size 216x216 with 1 Axes>"
      ]
     },
     "metadata": {
      "needs_background": "light"
     },
     "output_type": "display_data"
    },
    {
     "data": {
      "image/png": "[encoded data removed]",
      "text/plain": [
       "<Figure size 216x216 with 1 Axes>"
      ]
     },
     "metadata": {
      "needs_background": "light"
     },
     "output_type": "display_data"
    },
    {
     "data": {
      "image/png": "[encoded data removed]",
      "text/plain": [
       "<Figure size 216x216 with 1 Axes>"
      ]
     },
     "metadata": {
      "needs_background": "light"
     },
     "output_type": "display_data"
    },
    {
     "data": {
      "image/png": "[encoded data removed]",
      "text/plain": [
       "<Figure size 216x216 with 1 Axes>"
      ]
     },
     "metadata": {
      "needs_background": "light"
     },
     "output_type": "display_data"
    },
    {
     "data": {
      "image/png": "[encoded data removed]",
      "text/plain": [
       "<Figure size 216x216 with 1 Axes>"
      ]
     },
     "metadata": {
      "needs_background": "light"
     },
     "output_type": "display_data"
    },
    {
     "data": {
      "image/png": "[encoded data removed]",
      "text/plain": [
       "<Figure size 216x216 with 1 Axes>"
      ]
     },
     "metadata": {
      "needs_background": "light"
     },
     "output_type": "display_data"
    },
    {
     "data": {
      "image/png": "[encoded data removed]",
      "text/plain": [
       "<Figure size 216x216 with 1 Axes>"
      ]
     },
     "metadata": {
      "needs_background": "light"
     },
     "output_type": "display_data"
    },
    {
     "data": {
      "image/png": "[encoded data removed]",
      "text/plain": [
       "<Figure size 216x216 with 1 Axes>"
      ]
     },
     "metadata": {
      "needs_background": "light"
     },
     "output_type": "display_data"
    },
    {
     "data": {
      "image/png": "[encoded data removed]",
      "text/plain": [
       "<Figure size 216x216 with 1 Axes>"
      ]
     },
     "metadata": {
      "needs_background": "light"
     },
     "output_type": "display_data"
    },
    {
     "data": {
      "image/png": "[encoded data removed]",
      "text/plain": [
       "<Figure size 216x216 with 1 Axes>"
      ]
     },
     "metadata": {
      "needs_background": "light"
     },
     "output_type": "display_data"
    },
    {
     "data": {
      "image/png": "[encoded data removed]",
      "text/plain": [
       "<Figure size 216x216 with 1 Axes>"
      ]
     },
     "metadata": {
      "needs_background": "light"
     },
     "output_type": "display_data"
    },
    {
     "data": {
      "image/png": "[encoded data removed]",
      "text/plain": [
       "<Figure size 216x216 with 1 Axes>"
      ]
     },
     "metadata": {
      "needs_background": "light"
     },
     "output_type": "display_data"
    },
    {
     "data": {
      "image/png": "[encoded data removed]",
      "text/plain": [
       "<Figure size 216x216 with 1 Axes>"
      ]
     },
     "metadata": {
      "needs_background": "light"
     },
     "output_type": "display_data"
    },
    {
     "data": {
      "image/png": "[encoded data removed]",
      "text/plain": [
       "<Figure size 216x216 with 1 Axes>"
      ]
     },
     "metadata": {
      "needs_background": "light"
     },
     "output_type": "display_data"
    },
    {
     "data": {
      "image/png": "[encoded data removed]",
      "text/plain": [
       "<Figure size 216x216 with 1 Axes>"
      ]
     },
     "metadata": {
      "needs_background": "light"
     },
     "output_type": "display_data"
    }
   ],
   "source": [
    "for col in dataset_clean[(dataset_clean.select_dtypes('number').columns)]:\n",
    "    plt.figure(figsize = (3, 3))\n",
    "    ax = sns.boxplot(x='Illicit', y=col, data=dataset_clean[(dataset_clean.select_dtypes('number').columns)])\n",
    "    plt.setp(ax.artists, alpha=.5, linewidth=2, edgecolor=\"k\")\n",
    "    plt.xticks(rotation=45)"
   ]
  },
  {
   "cell_type": "code",
   "execution_count": 41,
   "metadata": {},
   "outputs": [
    {
     "name": "stderr",
     "output_type": "stream",
     "text": [
      "/opt/conda/anaconda/lib/python3.6/site-packages/ipykernel_launcher.py:2: SettingWithCopyWarning: \n",
      "A value is trying to be set on a copy of a slice from a DataFrame.\n",
      "Try using .loc[row_indexer,col_indexer] = value instead\n",
      "\n",
      "See the caveats in the documentation: http://pandas.pydata.org/pandas-docs/stable/user_guide/indexing.html#returning-a-view-versus-a-copy\n",
      "  \n"
     ]
    },
    {
     "data": {
      "text/plain": [
       "False    139001\n",
       "True      69823\n",
       "Name: isIllicit, dtype: int64"
      ]
     },
     "execution_count": 41,
     "metadata": {},
     "output_type": "execute_result"
    }
   ],
   "source": [
    "dataset_final = dataset_clean[dataset_clean['Illicit']!= 2]\n",
    "dataset_final['Illicit'] = dataset_final['Illicit'].astype('bool')\n",
    "dataset_final['Illicit'].value_counts()"
   ]
  },
  {
   "cell_type": "code",
   "execution_count": 42,
   "metadata": {},
   "outputs": [],
   "source": [
    "#Split data into variables and test & train\n",
    "\n",
    "to_drop = ['Illicit']\n",
    "y, x = dataset_final['Illicit'], dataset_final.drop(columns = to_drop)\n",
    "x_train, x_test, y_train, y_test = train_test_split(x, y, test_size=0.1, random_state=0, stratify=y)\n",
    "uniq = x_test['InputAddress'].append(x_test['OutputAddress'])\n",
    "uniq_list = uniq.unique()\n",
    "x_train_mod = x_train[(x_train['InputAddress'].isin(uniq_list) | x_train['OutputAddress'].isin(uniq_list))==False].drop(columns=['InputAddress','OutputAddress'])\n",
    "y_train_mod = y_train[y_train.index.isin(x_train_mod.index)]\n",
    "x_test_mod = x_test.drop(columns=['InputAddress','OutputAddress'] )"
   ]
  },
  {
   "cell_type": "code",
   "execution_count": 43,
   "metadata": {},
   "outputs": [
    {
     "name": "stdout",
     "output_type": "stream",
     "text": [
      "Fitting 5 folds for each of 4 candidates, totalling 20 fits\n",
      "[CV] boosting_type=gbdt, learning_rate=0.01, num_leaves=30, objective=binary \n",
      "[CV] boosting_type=gbdt, learning_rate=0.01, num_leaves=30, objective=binary \n",
      "[CV] boosting_type=gbdt, learning_rate=0.01, num_leaves=30, objective=binary \n"
     ]
    },
    {
     "name": "stderr",
     "output_type": "stream",
     "text": [
      "/opt/conda/anaconda/lib/python3.6/site-packages/sklearn/externals/joblib/numpy_pickle.py:93: DeprecationWarning: tostring() is deprecated. Use tobytes() instead.\n",
      "  pickler.file_handle.write(chunk.tostring('C'))\n",
      "/opt/conda/anaconda/lib/python3.6/site-packages/sklearn/externals/joblib/numpy_pickle.py:93: DeprecationWarning: tostring() is deprecated. Use tobytes() instead.\n",
      "  pickler.file_handle.write(chunk.tostring('C'))\n",
      "/opt/conda/anaconda/lib/python3.6/site-packages/sklearn/externals/joblib/numpy_pickle.py:93: DeprecationWarning: tostring() is deprecated. Use tobytes() instead.\n",
      "  pickler.file_handle.write(chunk.tostring('C'))\n"
     ]
    },
    {
     "name": "stdout",
     "output_type": "stream",
     "text": [
      "[CV] boosting_type=gbdt, learning_rate=0.01, num_leaves=30, objective=binary \n",
      "[CV] boosting_type=gbdt, learning_rate=0.01, num_leaves=30, objective=binary \n",
      "[CV] boosting_type=gbdt, learning_rate=0.01, num_leaves=64, objective=binary \n",
      "[CV] boosting_type=gbdt, learning_rate=0.01, num_leaves=64, objective=binary \n",
      "[CV] boosting_type=gbdt, learning_rate=0.01, num_leaves=64, objective=binary \n",
      "[CV] boosting_type=gbdt, learning_rate=0.01, num_leaves=64, objective=binary \n",
      "[CV] boosting_type=gbdt, learning_rate=0.01, num_leaves=64, objective=binary \n",
      "[CV] boosting_type=gbdt, learning_rate=0.08, num_leaves=30, objective=binary \n",
      "[CV] boosting_type=gbdt, learning_rate=0.08, num_leaves=30, objective=binary \n",
      "[CV] boosting_type=gbdt, learning_rate=0.08, num_leaves=30, objective=binary \n",
      "[CV] boosting_type=gbdt, learning_rate=0.08, num_leaves=30, objective=binary \n",
      "[CV] boosting_type=gbdt, learning_rate=0.08, num_leaves=30, objective=binary \n",
      "[CV] boosting_type=gbdt, learning_rate=0.08, num_leaves=64, objective=binary \n"
     ]
    },
    {
     "name": "stderr",
     "output_type": "stream",
     "text": [
      "/opt/conda/anaconda/lib/python3.6/site-packages/sklearn/preprocessing/label.py:151: DeprecationWarning: The truth value of an empty array is ambiguous. Returning False, but in future this will result in an error. Use `array.size > 0` to check that an array is not empty.\n",
      "  if diff:\n",
      "/opt/conda/anaconda/lib/python3.6/site-packages/sklearn/preprocessing/label.py:151: DeprecationWarning: The truth value of an empty array is ambiguous. Returning False, but in future this will result in an error. Use `array.size > 0` to check that an array is not empty.\n",
      "  if diff:\n"
     ]
    },
    {
     "name": "stdout",
     "output_type": "stream",
     "text": [
      "[CV]  boosting_type=gbdt, learning_rate=0.01, num_leaves=30, objective=binary, total=   5.0s\n",
      "[CV] boosting_type=gbdt, learning_rate=0.08, num_leaves=64, objective=binary \n"
     ]
    },
    {
     "name": "stderr",
     "output_type": "stream",
     "text": [
      "/opt/conda/anaconda/lib/python3.6/site-packages/sklearn/preprocessing/label.py:151: DeprecationWarning: The truth value of an empty array is ambiguous. Returning False, but in future this will result in an error. Use `array.size > 0` to check that an array is not empty.\n",
      "  if diff:\n",
      "/opt/conda/anaconda/lib/python3.6/site-packages/sklearn/preprocessing/label.py:151: DeprecationWarning: The truth value of an empty array is ambiguous. Returning False, but in future this will result in an error. Use `array.size > 0` to check that an array is not empty.\n",
      "  if diff:\n",
      "/opt/conda/anaconda/lib/python3.6/site-packages/sklearn/preprocessing/label.py:151: DeprecationWarning: The truth value of an empty array is ambiguous. Returning False, but in future this will result in an error. Use `array.size > 0` to check that an array is not empty.\n",
      "  if diff:\n",
      "/opt/conda/anaconda/lib/python3.6/site-packages/sklearn/preprocessing/label.py:151: DeprecationWarning: The truth value of an empty array is ambiguous. Returning False, but in future this will result in an error. Use `array.size > 0` to check that an array is not empty.\n",
      "  if diff:\n",
      "/opt/conda/anaconda/lib/python3.6/site-packages/sklearn/preprocessing/label.py:151: DeprecationWarning: The truth value of an empty array is ambiguous. Returning False, but in future this will result in an error. Use `array.size > 0` to check that an array is not empty.\n",
      "  if diff:\n",
      "/opt/conda/anaconda/lib/python3.6/site-packages/sklearn/preprocessing/label.py:151: DeprecationWarning: The truth value of an empty array is ambiguous. Returning False, but in future this will result in an error. Use `array.size > 0` to check that an array is not empty.\n",
      "  if diff:\n"
     ]
    },
    {
     "name": "stdout",
     "output_type": "stream",
     "text": [
      "[CV]  boosting_type=gbdt, learning_rate=0.01, num_leaves=30, objective=binary, total=   6.0s[CV]  boosting_type=gbdt, learning_rate=0.01, num_leaves=30, objective=binary, total=   6.0s[CV]  boosting_type=gbdt, learning_rate=0.01, num_leaves=30, objective=binary, total=   5.9s\n",
      "\n",
      "\n",
      "[CV] boosting_type=gbdt, learning_rate=0.08, num_leaves=64, objective=binary \n",
      "[CV] boosting_type=gbdt, learning_rate=0.08, num_leaves=64, objective=binary \n",
      "[CV] boosting_type=gbdt, learning_rate=0.08, num_leaves=64, objective=binary \n"
     ]
    },
    {
     "name": "stderr",
     "output_type": "stream",
     "text": [
      "/opt/conda/anaconda/lib/python3.6/site-packages/sklearn/preprocessing/label.py:151: DeprecationWarning: The truth value of an empty array is ambiguous. Returning False, but in future this will result in an error. Use `array.size > 0` to check that an array is not empty.\n",
      "  if diff:\n",
      "/opt/conda/anaconda/lib/python3.6/site-packages/sklearn/preprocessing/label.py:151: DeprecationWarning: The truth value of an empty array is ambiguous. Returning False, but in future this will result in an error. Use `array.size > 0` to check that an array is not empty.\n",
      "  if diff:\n",
      "/opt/conda/anaconda/lib/python3.6/site-packages/sklearn/preprocessing/label.py:151: DeprecationWarning: The truth value of an empty array is ambiguous. Returning False, but in future this will result in an error. Use `array.size > 0` to check that an array is not empty.\n",
      "  if diff:\n"
     ]
    },
    {
     "name": "stdout",
     "output_type": "stream",
     "text": [
      "[CV]  boosting_type=gbdt, learning_rate=0.01, num_leaves=30, objective=binary, total=   6.7s\n"
     ]
    },
    {
     "name": "stderr",
     "output_type": "stream",
     "text": [
      "/opt/conda/anaconda/lib/python3.6/site-packages/sklearn/preprocessing/label.py:151: DeprecationWarning: The truth value of an empty array is ambiguous. Returning False, but in future this will result in an error. Use `array.size > 0` to check that an array is not empty.\n",
      "  if diff:\n"
     ]
    },
    {
     "name": "stdout",
     "output_type": "stream",
     "text": [
      "[CV]  boosting_type=gbdt, learning_rate=0.08, num_leaves=30, objective=binary, total=   6.5s\n"
     ]
    },
    {
     "name": "stderr",
     "output_type": "stream",
     "text": [
      "/opt/conda/anaconda/lib/python3.6/site-packages/sklearn/preprocessing/label.py:151: DeprecationWarning: The truth value of an empty array is ambiguous. Returning False, but in future this will result in an error. Use `array.size > 0` to check that an array is not empty.\n",
      "  if diff:\n",
      "/opt/conda/anaconda/lib/python3.6/site-packages/sklearn/preprocessing/label.py:151: DeprecationWarning: The truth value of an empty array is ambiguous. Returning False, but in future this will result in an error. Use `array.size > 0` to check that an array is not empty.\n",
      "  if diff:\n"
     ]
    },
    {
     "name": "stdout",
     "output_type": "stream",
     "text": [
      "[CV]  boosting_type=gbdt, learning_rate=0.08, num_leaves=30, objective=binary, total=   7.2s\n"
     ]
    },
    {
     "name": "stderr",
     "output_type": "stream",
     "text": [
      "/opt/conda/anaconda/lib/python3.6/site-packages/sklearn/preprocessing/label.py:151: DeprecationWarning: The truth value of an empty array is ambiguous. Returning False, but in future this will result in an error. Use `array.size > 0` to check that an array is not empty.\n",
      "  if diff:\n",
      "/opt/conda/anaconda/lib/python3.6/site-packages/sklearn/preprocessing/label.py:151: DeprecationWarning: The truth value of an empty array is ambiguous. Returning False, but in future this will result in an error. Use `array.size > 0` to check that an array is not empty.\n",
      "  if diff:\n",
      "/opt/conda/anaconda/lib/python3.6/site-packages/sklearn/preprocessing/label.py:151: DeprecationWarning: The truth value of an empty array is ambiguous. Returning False, but in future this will result in an error. Use `array.size > 0` to check that an array is not empty.\n",
      "  if diff:\n",
      "/opt/conda/anaconda/lib/python3.6/site-packages/sklearn/preprocessing/label.py:151: DeprecationWarning: The truth value of an empty array is ambiguous. Returning False, but in future this will result in an error. Use `array.size > 0` to check that an array is not empty.\n",
      "  if diff:\n"
     ]
    },
    {
     "name": "stdout",
     "output_type": "stream",
     "text": [
      "[CV]  boosting_type=gbdt, learning_rate=0.08, num_leaves=30, objective=binary, total=   7.6s\n",
      "[CV]  boosting_type=gbdt, learning_rate=0.08, num_leaves=30, objective=binary, total=   7.7s\n"
     ]
    },
    {
     "name": "stderr",
     "output_type": "stream",
     "text": [
      "/opt/conda/anaconda/lib/python3.6/site-packages/sklearn/preprocessing/label.py:151: DeprecationWarning: The truth value of an empty array is ambiguous. Returning False, but in future this will result in an error. Use `array.size > 0` to check that an array is not empty.\n",
      "  if diff:\n",
      "/opt/conda/anaconda/lib/python3.6/site-packages/sklearn/preprocessing/label.py:151: DeprecationWarning: The truth value of an empty array is ambiguous. Returning False, but in future this will result in an error. Use `array.size > 0` to check that an array is not empty.\n",
      "  if diff:\n"
     ]
    },
    {
     "name": "stdout",
     "output_type": "stream",
     "text": [
      "[CV]  boosting_type=gbdt, learning_rate=0.08, num_leaves=30, objective=binary, total=   8.3s\n"
     ]
    },
    {
     "name": "stderr",
     "output_type": "stream",
     "text": [
      "/opt/conda/anaconda/lib/python3.6/site-packages/sklearn/preprocessing/label.py:151: DeprecationWarning: The truth value of an empty array is ambiguous. Returning False, but in future this will result in an error. Use `array.size > 0` to check that an array is not empty.\n",
      "  if diff:\n",
      "/opt/conda/anaconda/lib/python3.6/site-packages/sklearn/preprocessing/label.py:151: DeprecationWarning: The truth value of an empty array is ambiguous. Returning False, but in future this will result in an error. Use `array.size > 0` to check that an array is not empty.\n",
      "  if diff:\n",
      "/opt/conda/anaconda/lib/python3.6/site-packages/sklearn/preprocessing/label.py:151: DeprecationWarning: The truth value of an empty array is ambiguous. Returning False, but in future this will result in an error. Use `array.size > 0` to check that an array is not empty.\n",
      "  if diff:\n",
      "/opt/conda/anaconda/lib/python3.6/site-packages/sklearn/preprocessing/label.py:151: DeprecationWarning: The truth value of an empty array is ambiguous. Returning False, but in future this will result in an error. Use `array.size > 0` to check that an array is not empty.\n",
      "  if diff:\n",
      "/opt/conda/anaconda/lib/python3.6/site-packages/sklearn/preprocessing/label.py:151: DeprecationWarning: The truth value of an empty array is ambiguous. Returning False, but in future this will result in an error. Use `array.size > 0` to check that an array is not empty.\n",
      "  if diff:\n"
     ]
    },
    {
     "name": "stdout",
     "output_type": "stream",
     "text": [
      "[CV]  boosting_type=gbdt, learning_rate=0.01, num_leaves=64, objective=binary, total=  10.4s\n"
     ]
    },
    {
     "name": "stderr",
     "output_type": "stream",
     "text": [
      "/opt/conda/anaconda/lib/python3.6/site-packages/sklearn/preprocessing/label.py:151: DeprecationWarning: The truth value of an empty array is ambiguous. Returning False, but in future this will result in an error. Use `array.size > 0` to check that an array is not empty.\n",
      "  if diff:\n",
      "/opt/conda/anaconda/lib/python3.6/site-packages/sklearn/preprocessing/label.py:151: DeprecationWarning: The truth value of an empty array is ambiguous. Returning False, but in future this will result in an error. Use `array.size > 0` to check that an array is not empty.\n",
      "  if diff:\n"
     ]
    },
    {
     "name": "stdout",
     "output_type": "stream",
     "text": [
      "[CV]  boosting_type=gbdt, learning_rate=0.01, num_leaves=64, objective=binary, total=  10.3s[CV]  boosting_type=gbdt, learning_rate=0.01, num_leaves=64, objective=binary, total=  10.4s\n",
      "\n"
     ]
    },
    {
     "name": "stderr",
     "output_type": "stream",
     "text": [
      "/opt/conda/anaconda/lib/python3.6/site-packages/sklearn/preprocessing/label.py:151: DeprecationWarning: The truth value of an empty array is ambiguous. Returning False, but in future this will result in an error. Use `array.size > 0` to check that an array is not empty.\n",
      "  if diff:\n"
     ]
    },
    {
     "name": "stdout",
     "output_type": "stream",
     "text": [
      "[CV]  boosting_type=gbdt, learning_rate=0.01, num_leaves=64, objective=binary, total=  10.6s\n"
     ]
    },
    {
     "name": "stderr",
     "output_type": "stream",
     "text": [
      "[Parallel(n_jobs=-1)]: Done  11 out of  20 | elapsed:   11.1s remaining:    9.1s\n",
      "/opt/conda/anaconda/lib/python3.6/site-packages/sklearn/preprocessing/label.py:151: DeprecationWarning: The truth value of an empty array is ambiguous. Returning False, but in future this will result in an error. Use `array.size > 0` to check that an array is not empty.\n",
      "  if diff:\n",
      "/opt/conda/anaconda/lib/python3.6/site-packages/sklearn/preprocessing/label.py:151: DeprecationWarning: The truth value of an empty array is ambiguous. Returning False, but in future this will result in an error. Use `array.size > 0` to check that an array is not empty.\n",
      "  if diff:\n"
     ]
    },
    {
     "name": "stdout",
     "output_type": "stream",
     "text": [
      "[CV]  boosting_type=gbdt, learning_rate=0.01, num_leaves=64, objective=binary, total=  10.9s\n"
     ]
    },
    {
     "name": "stderr",
     "output_type": "stream",
     "text": [
      "/opt/conda/anaconda/lib/python3.6/site-packages/sklearn/preprocessing/label.py:151: DeprecationWarning: The truth value of an empty array is ambiguous. Returning False, but in future this will result in an error. Use `array.size > 0` to check that an array is not empty.\n",
      "  if diff:\n",
      "/opt/conda/anaconda/lib/python3.6/site-packages/sklearn/preprocessing/label.py:151: DeprecationWarning: The truth value of an empty array is ambiguous. Returning False, but in future this will result in an error. Use `array.size > 0` to check that an array is not empty.\n",
      "  if diff:\n"
     ]
    },
    {
     "name": "stdout",
     "output_type": "stream",
     "text": [
      "[CV]  boosting_type=gbdt, learning_rate=0.08, num_leaves=64, objective=binary, total=  10.7s\n"
     ]
    },
    {
     "name": "stderr",
     "output_type": "stream",
     "text": [
      "/opt/conda/anaconda/lib/python3.6/site-packages/sklearn/preprocessing/label.py:151: DeprecationWarning: The truth value of an empty array is ambiguous. Returning False, but in future this will result in an error. Use `array.size > 0` to check that an array is not empty.\n",
      "  if diff:\n",
      "/opt/conda/anaconda/lib/python3.6/site-packages/sklearn/preprocessing/label.py:151: DeprecationWarning: The truth value of an empty array is ambiguous. Returning False, but in future this will result in an error. Use `array.size > 0` to check that an array is not empty.\n",
      "  if diff:\n"
     ]
    },
    {
     "name": "stdout",
     "output_type": "stream",
     "text": [
      "[CV]  boosting_type=gbdt, learning_rate=0.08, num_leaves=64, objective=binary, total=   6.5s\n"
     ]
    },
    {
     "name": "stderr",
     "output_type": "stream",
     "text": [
      "/opt/conda/anaconda/lib/python3.6/site-packages/sklearn/preprocessing/label.py:151: DeprecationWarning: The truth value of an empty array is ambiguous. Returning False, but in future this will result in an error. Use `array.size > 0` to check that an array is not empty.\n",
      "  if diff:\n",
      "/opt/conda/anaconda/lib/python3.6/site-packages/sklearn/preprocessing/label.py:151: DeprecationWarning: The truth value of an empty array is ambiguous. Returning False, but in future this will result in an error. Use `array.size > 0` to check that an array is not empty.\n",
      "  if diff:\n",
      "/opt/conda/anaconda/lib/python3.6/site-packages/sklearn/preprocessing/label.py:151: DeprecationWarning: The truth value of an empty array is ambiguous. Returning False, but in future this will result in an error. Use `array.size > 0` to check that an array is not empty.\n",
      "  if diff:\n",
      "/opt/conda/anaconda/lib/python3.6/site-packages/sklearn/preprocessing/label.py:151: DeprecationWarning: The truth value of an empty array is ambiguous. Returning False, but in future this will result in an error. Use `array.size > 0` to check that an array is not empty.\n",
      "  if diff:\n"
     ]
    },
    {
     "name": "stdout",
     "output_type": "stream",
     "text": [
      "[CV]  boosting_type=gbdt, learning_rate=0.08, num_leaves=64, objective=binary, total=   5.9s\n"
     ]
    },
    {
     "name": "stderr",
     "output_type": "stream",
     "text": [
      "/opt/conda/anaconda/lib/python3.6/site-packages/sklearn/preprocessing/label.py:151: DeprecationWarning: The truth value of an empty array is ambiguous. Returning False, but in future this will result in an error. Use `array.size > 0` to check that an array is not empty.\n",
      "  if diff:\n",
      "/opt/conda/anaconda/lib/python3.6/site-packages/sklearn/preprocessing/label.py:151: DeprecationWarning: The truth value of an empty array is ambiguous. Returning False, but in future this will result in an error. Use `array.size > 0` to check that an array is not empty.\n",
      "  if diff:\n"
     ]
    },
    {
     "name": "stdout",
     "output_type": "stream",
     "text": [
      "[CV]  boosting_type=gbdt, learning_rate=0.08, num_leaves=64, objective=binary, total=   5.8s\n",
      "[CV]  boosting_type=gbdt, learning_rate=0.08, num_leaves=64, objective=binary, total=   6.0s\n"
     ]
    },
    {
     "name": "stderr",
     "output_type": "stream",
     "text": [
      "[Parallel(n_jobs=-1)]: Done  20 out of  20 | elapsed:   12.7s finished\n"
     ]
    },
    {
     "name": "stdout",
     "output_type": "stream",
     "text": [
      "{'boosting_type': 'gbdt', 'learning_rate': 0.08, 'num_leaves': 64, 'objective': 'binary'}\n",
      "0.8880211566335359\n",
      "Fitting with params: \n",
      "{'boosting_type': 'gbdt', 'max_depth': -1, 'objective': 'binary', 'nthread': 5, 'is_unbalance': True, 'num_leaves': 64, 'learning_rate': 0.08, 'max_bin': 300, 'metric': {'binary_logloss'}, 'reg_alpha': 0.5, 'reg_lambda': 1.5}\n",
      "[LightGBM] [Info] Number of positive: 15572, number of negative: 22962\n",
      "[LightGBM] [Warning] Auto-choosing row-wise multi-threading, the overhead of testing was 0.001739 seconds.\n",
      "You can set `force_row_wise=true` to remove the overhead.\n",
      "And if memory is not enough, you can set `force_col_wise=true`.\n",
      "[LightGBM] [Info] Total Bins 3888\n",
      "[LightGBM] [Info] Number of data points in the train set: 38534, number of used features: 24\n",
      "[LightGBM] [Info] [binary:BoostFromScore]: pavg=0.404111 -> initscore=-0.388366\n",
      "[LightGBM] [Info] Start training from score -0.388366\n",
      "Training until validation scores don't improve for 40 rounds\n",
      "[10]\ttraining's binary_logloss: 0.394086\tvalid_0's binary_logloss: 0.378005\n",
      "[20]\ttraining's binary_logloss: 0.300296\tvalid_0's binary_logloss: 0.252459\n",
      "[30]\ttraining's binary_logloss: 0.259417\tvalid_0's binary_logloss: 0.192942\n",
      "[40]\ttraining's binary_logloss: 0.236896\tvalid_0's binary_logloss: 0.167876\n",
      "[50]\ttraining's binary_logloss: 0.223118\tvalid_0's binary_logloss: 0.146568\n",
      "[60]\ttraining's binary_logloss: 0.214023\tvalid_0's binary_logloss: 0.134728\n",
      "[70]\ttraining's binary_logloss: 0.207599\tvalid_0's binary_logloss: 0.128276\n",
      "[80]\ttraining's binary_logloss: 0.201785\tvalid_0's binary_logloss: 0.123641\n",
      "[90]\ttraining's binary_logloss: 0.19691\tvalid_0's binary_logloss: 0.121601\n",
      "[100]\ttraining's binary_logloss: 0.191651\tvalid_0's binary_logloss: 0.120932\n",
      "Did not meet early stopping. Best iteration is:\n",
      "[100]\ttraining's binary_logloss: 0.191651\tvalid_0's binary_logloss: 0.120932\n",
      "Overall Light GBM model accuracy: 0.9610209261121486\n"
     ]
    },
    {
     "data": {
      "image/png": "[encoded data removed]",
      "text/plain": [
       "<Figure size 432x288 with 1 Axes>"
      ]
     },
     "metadata": {
      "needs_background": "light"
     },
     "output_type": "display_data"
    },
    {
     "data": {
      "image/png": "[encoded data removed]",
      "text/plain": [
       "<Figure size 432x288 with 1 Axes>"
      ]
     },
     "metadata": {
      "needs_background": "light"
     },
     "output_type": "display_data"
    },
    {
     "name": "stdout",
     "output_type": "stream",
     "text": [
      "AUC score: 0.9836667003215416\n"
     ]
    },
    {
     "data": {
      "text/plain": [
       "<Figure size 432x288 with 0 Axes>"
      ]
     },
     "metadata": {},
     "output_type": "display_data"
    },
    {
     "data": {
      "image/png": "[encoded data removed]",
      "text/plain": [
       "<Figure size 576x432 with 2 Axes>"
      ]
     },
     "metadata": {
      "needs_background": "light"
     },
     "output_type": "display_data"
    }
   ],
   "source": [
    "import numpy as np\n",
    "train_data=lgb.Dataset(x_train_mod, label=y_train_mod)#, categorical_feature=categorical_features)\n",
    "test_data = lgb.Dataset(x_test_mod, label=y_test)#, categorical_feature=categorical_features)\n",
    "\n",
    "# to record eval results for plotting\n",
    "evals_result = {} \n",
    "\n",
    "#Select Hyper-Parameters\n",
    "params = {'boosting_type': 'gbdt',\n",
    "          'max_depth' : -1,\n",
    "          'objective': 'binary',\n",
    "          'nthread': 5,\n",
    "          'is_unbalance': True,\n",
    "          'num_leaves': 64,\n",
    "          'learning_rate': 0.07,\n",
    "          'max_bin': 300,#512\n",
    "          'metric' : {'binary_logloss'},\n",
    "          'reg_alpha': .5,\n",
    "          'reg_lambda': 1.5,\n",
    "         \n",
    "        }\n",
    "\n",
    "# Create parameters to search\n",
    "gridParams = {\n",
    "    'learning_rate': [0.01,0.08],\n",
    "   # 'n_estimators': [8,25],\n",
    "    'num_leaves': [30,64],\n",
    "    'boosting_type' : ['gbdt'],\n",
    "    'objective' : ['binary']#,\n",
    "    #'reg_alpha' : [.1,.99,1.1],\n",
    "    #'reg_lambda' : [.99,1.2]\n",
    "    }\n",
    "\n",
    "# Create the LGBM Classifier to use in the hyperparameter optimization.\n",
    "mdl = lgb.LGBMClassifier(boosting_type= 'gbdt',\n",
    "          objective = 'binary',\n",
    "          n_jobs = 5, \n",
    "          silent = True,\n",
    "          max_depth = params['max_depth'],\n",
    "          max_bin = params['max_bin'])#,\n",
    "          #reg_alpha = params['reg_alpha'],\n",
    "          #reg_lambda = params['reg_lambda'])\n",
    " \n",
    "\n",
    "# Show default model params:\n",
    "mdl.get_params().keys()\n",
    "\n",
    "# Create the grid\n",
    "grid = GridSearchCV(mdl, gridParams, verbose=2, cv=5, n_jobs=-1,scoring='f1')\n",
    "\n",
    "# Run the grid\n",
    "grid_result = grid.fit(x_train_mod, y_train_mod)\n",
    "\n",
    "# Print the best parameters found\n",
    "print(grid.best_params_)\n",
    "print(grid.best_score_)\n",
    "\n",
    "# Choose grid search CV best hyperparameter values\n",
    "#params['n_estimators'] = grid.best_params_['n_estimators']\n",
    "params['learning_rate'] = grid.best_params_['learning_rate']\n",
    "params['num_leaves'] = grid.best_params_['num_leaves']\n",
    "#params['reg_alpha'] = grid.best_params_['reg_alpha']\n",
    "#params['reg_lambda'] = grid.best_params_['reg_lambda']\n",
    "\n",
    "\n",
    "print('Fitting with params: ')\n",
    "print(params)\n",
    "\n",
    "#Train model on selected parameters and number of iterations\n",
    "lgbm = lgb.train(params,\n",
    "                 train_data,\n",
    "                 100,\n",
    "                 early_stopping_rounds= 40,\n",
    "                 verbose_eval= 10,\n",
    "                 \n",
    "                 valid_sets = [test_data, train_data],\n",
    "                 evals_result = evals_result)\n",
    "                 \n",
    "\n",
    "#Predict on test set\n",
    "predictions_lgbm_prob = lgbm.predict(x_test_mod)\n",
    "\n",
    "#Choose optimal threshold that optimizes F1 scores \n",
    "f1_score_sweep = [f1_score(y_test, np.where(predictions_lgbm_prob > (thresh*.01), 1, 0)) for thresh in range(100)]\n",
    "optimal_cutoff = f1_score_sweep.index(max(f1_score_sweep))/100 \n",
    "\n",
    "predictions_lgbm_01 = np.where(predictions_lgbm_prob > optimal_cutoff, 1, 0) #Turn probability to 0-1 binary output\n",
    "\n",
    "#--------------------------Output Model Evaluation Metrics----------------------\n",
    "#Plot Variable Importances\n",
    "lgb.plot_importance(lgbm, max_num_features=20, importance_type='split')\n",
    "\n",
    "#Print accuracy\n",
    "acc_lgbm = accuracy_score(y_test,predictions_lgbm_01)\n",
    "print('Overall Light GBM model accuracy:', acc_lgbm)\n",
    "\n",
    "#Plotting Area Under Curve\n",
    "plt.figure()\n",
    "false_positive_rate, recall, thresholds = roc_curve(y_test, predictions_lgbm_prob)\n",
    "roc_auc = auc(false_positive_rate, recall)\n",
    "plt.title('Receiver Operating Characteristic (ROC)')\n",
    "plt.plot(false_positive_rate, recall, 'b', label = 'AUC = %0.3f' %roc_auc)\n",
    "plt.legend(loc='lower right')\n",
    "plt.plot([0,1], [0,1], 'r--')\n",
    "plt.xlim([0.0,1.0])\n",
    "plt.ylim([0.0,1.0])\n",
    "plt.ylabel('Recall')\n",
    "plt.xlabel('Fall-out (1-Specificity)')\n",
    "plt.show()\n",
    "\n",
    "print('AUC score:', roc_auc)\n",
    "\n",
    "#Showing Confusion Matrix\n",
    "plt.figure()\n",
    "cm = confusion_matrix(y_test, predictions_lgbm_01)\n",
    "labels = ['Not Illicit', 'Illicit']\n",
    "plt.figure(figsize=(8,6))\n",
    "sns.heatmap(cm, xticklabels = labels, yticklabels = labels, annot = True, fmt='d', cmap=\"Blues\", vmin = 0.2);\n",
    "plt.title('Confusion Matrix')\n",
    "plt.ylabel('True Class')\n",
    "plt.xlabel('Predicted Class')\n",
    "plt.show()"
   ]
  },
  {
   "cell_type": "code",
   "execution_count": 44,
   "metadata": {},
   "outputs": [
    {
     "name": "stdout",
     "output_type": "stream",
     "text": [
      "Model performance estimate on 5 CV Folds: 0.87 accuracy with a standard deviation of 0.004\n"
     ]
    }
   ],
   "source": [
    "mean_scores = grid_result.cv_results_['mean_test_score'].mean()\n",
    "std_scores = grid_result.cv_results_['std_test_score'].mean()\n",
    "print(\"Model performance estimate on 5 CV Folds: %0.2f accuracy with a standard deviation of %0.3f\" % (mean_scores, std_scores))"
   ]
  },
  {
   "cell_type": "code",
   "execution_count": 45,
   "metadata": {},
   "outputs": [
    {
     "name": "stdout",
     "output_type": "stream",
     "text": [
      "Optimal Threshold: 59%\n",
      "Optimal F1 Score: 0.9387509405568095\n"
     ]
    },
    {
     "data": {
      "image/png": "[encoded data removed]",
      "text/plain": [
       "<Figure size 432x288 with 1 Axes>"
      ]
     },
     "metadata": {
      "needs_background": "light"
     },
     "output_type": "display_data"
    }
   ],
   "source": [
    "f1_score_sweep = [f1_score(y_test, np.where(predictions_lgbm_prob > (thresh*.01), 1, 0)) for thresh in range(100)]\n",
    "opt =f1_score_sweep.index(max(f1_score_sweep))\n",
    "print(\"Optimal Threshold: {}%\".format(f1_score_sweep.index(max(f1_score_sweep))))\n",
    "print(\"Optimal F1 Score: {}\".format(f1_score(y_test,predictions_lgbm_01)))\n",
    "plt.plot(f1_score_sweep)\n",
    "plt.plot([opt,opt], [0,f1_score(y_test,predictions_lgbm_01)], 'r--')\n",
    "plt.title('F1 Score vs Threshold')\n",
    "plt.ylabel('F1')\n",
    "plt.xlabel('Threshold(%)')\n",
    "plt.show()"
   ]
  },
  {
   "cell_type": "code",
   "execution_count": 46,
   "metadata": {},
   "outputs": [
    {
     "data": {
      "image/png": "[encoded data removed]",
      "text/plain": [
       "<Figure size 432x288 with 1 Axes>"
      ]
     },
     "metadata": {
      "needs_background": "light"
     },
     "output_type": "display_data"
    }
   ],
   "source": [
    "lgb.plot_metric(evals_result, metric='binary_logloss')\n",
    "plt.show()"
   ]
  },
  {
   "cell_type": "code",
   "execution_count": 47,
   "metadata": {},
   "outputs": [
    {
     "name": "stdout",
     "output_type": "stream",
     "text": [
      "             precision    recall  f1-score   support\n",
      "\n",
      "      False       0.95      1.00      0.97     13900\n",
      "       True       0.99      0.89      0.94      6983\n",
      "\n",
      "avg / total       0.96      0.96      0.96     20883\n",
      "\n"
     ]
    }
   ],
   "source": [
    "from sklearn.metrics import classification_report\n",
    "print(classification_report(y_test, predictions_lgbm_01))"
   ]
  },
  {
   "cell_type": "code",
   "execution_count": 9,
   "metadata": {},
   "outputs": [
    {
     "name": "stdout",
     "output_type": "stream",
     "text": [
      "Name: lightgbm\r\n",
      "Version: 3.3.3\r\n",
      "Summary: LightGBM Python Package\r\n",
      "Home-page: https://github.com/microsoft/LightGBM\r\n",
      "Author: \r\n",
      "Author-email: \r\n",
      "License: The MIT License (Microsoft)\r\n",
      "Location: /Users/cmasunda/opt/anaconda3/lib/python3.9/site-packages\r\n",
      "Requires: numpy, scikit-learn, scipy, wheel\r\n",
      "Required-by: \r\n"
     ]
    }
   ],
   "source": [
    "!pip show lightgbm"
   ]
  },
  {
   "cell_type": "code",
   "execution_count": 49,
   "metadata": {},
   "outputs": [
    {
     "data": {
      "text/plain": [
       "<lightgbm.basic.Booster at 0x7f53cd542828>"
      ]
     },
     "execution_count": 49,
     "metadata": {},
     "output_type": "execute_result"
    }
   ],
   "source": [
    "lgbm.save_model('Chainalysis_lgb_classifier.txt', num_iteration=lgbm.best_iteration) "
   ]
  },
  {
   "cell_type": "code",
   "execution_count": null,
   "metadata": {},
   "outputs": [],
   "source": [
    "import platform\n",
    "print(platform.python_version()) "
   ]
  },
  {
   "cell_type": "code",
   "execution_count": 51,
   "metadata": {},
   "outputs": [],
   "source": [
    "model = lgb.Booster(model_file='Chainalysis_lgb_classifier.txt')"
   ]
  },
  {
   "cell_type": "code",
   "execution_count": 52,
   "metadata": {},
   "outputs": [
    {
     "data": {
      "text/plain": [
       "<AxesSubplot:title={'center':'Feature importance'}, xlabel='Feature importance', ylabel='Features'>"
      ]
     },
     "execution_count": 52,
     "metadata": {},
     "output_type": "execute_result"
    },
    {
     "data": {
      "image/png": "[encoded data removed]",
      "text/plain": [
       "<Figure size 432x288 with 1 Axes>"
      ]
     },
     "metadata": {
      "needs_background": "light"
     },
     "output_type": "display_data"
    }
   ],
   "source": [
    "lgb.plot_importance(model, max_num_features=20, importance_type='split')"
   ]
  },
  {
   "cell_type": "code",
   "execution_count": null,
   "metadata": {},
   "outputs": [],
   "source": []
  }
 ],
 "metadata": {
  "kernelspec": {
   "display_name": "Python 3 (ipykernel)",
   "language": "python",
   "name": "python3"
  },
  "language_info": {
   "codemirror_mode": {
    "name": "ipython",
    "version": 3
   },
   "file_extension": ".py",
   "mimetype": "text/x-python",
   "name": "python",
   "nbconvert_exporter": "python",
   "pygments_lexer": "ipython3",
   "version": "3.9.12"
  }
 },
 "nbformat": 4,
 "nbformat_minor": 2
}
