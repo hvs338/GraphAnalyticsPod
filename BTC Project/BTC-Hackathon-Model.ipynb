{
 "cells": [
  {
   "cell_type": "markdown",
   "metadata": {},
   "source": [
    "# Trouble Shooting this Notebook/Pyspark/Graphframes"
   ]
  },
  {
   "cell_type": "markdown",
   "metadata": {},
   "source": [
    "- Main thing is to make sure that you are using the same pyspark and spark\n",
    "- to check the versions of python packages that you are using run this command on windows command prompt or apple terminal:\n",
    "- pip freeze\n",
    "- Check the version of Python that you are using: Spark 3 and below will not work with python 3.6+\n",
    "- When you pip install graphframes it will install with 0.60 of graph frames\n",
    "- Go to this github and download spark 0.82 if you are using python 3.6+ / spark 3+\n",
    "- https://github.com/graphframes/graphframes/releases/tag/v0.8.2\n",
    "- Download the source files and then copy and paste the files from this file witin the files that you just downloaded\n",
    "- C:\\Users\\deloitte_user_name\\Downloads\\graphframes-0.8.2\\python\\graphframes\n",
    "- paste this files into where python stores its external packages. \n",
    "- if you are using jupyter notebooks/anaconda it will be here\n",
    "- C:\\Users\\deloitte_user_name\\Anaconda3\\Lib\\site-packages\n",
    "- lastly download the correspond JAR file to the version of spark and graphframes that you are using at the site below\n",
    "- https://spark-packages.org/package/graphframes/graphframes\n",
    "- you are going to need to move this file into where you store the JAR files for spark\n",
    "- for me this is : C:\\Spark\\spark\\spark-3.1.1-bin-hadoop2.7\\jars\n",
    "- if you are still runnning into problems be sure to check you have your enviroment variables configured right/ have installed spark correctly\n",
    "- I used this guide and it was useful: https://www.youtube.com/watch?v=cYL42BBL3Fo&t=147s\n"
   ]
  },
  {
   "cell_type": "code",
   "execution_count": 1,
   "metadata": {},
   "outputs": [],
   "source": [
    "from pyspark.sql.functions import col, explode, year, month\n",
    "from pyspark.sql import SparkSession\n",
    "import findspark"
   ]
  },
  {
   "cell_type": "code",
   "execution_count": 2,
   "metadata": {},
   "outputs": [],
   "source": [
    "findspark.init()"
   ]
  },
  {
   "cell_type": "code",
   "execution_count": 3,
   "metadata": {
    "scrolled": true
   },
   "outputs": [],
   "source": [
    "\n",
    " #.config('spark.jars', 'gs://spark-lib/bigquery/spark-bigquery-latest.jar') \\\n",
    "    #.config('spark.executor.cores', '3') \\\n",
    "    #.config('spark.executor.memory', '5g') \\\n",
    "    #.config(\"spark.sql.broadcastTimeout\", \"36000\")\\\n",
    "    \n",
    "#spark = SparkSession.builder.master('yarn').appName('ChainAnalysis_v0').getOrCreate()\n",
    "#sc = spark.sparkContext"
   ]
  },
  {
   "cell_type": "code",
   "execution_count": 4,
   "metadata": {},
   "outputs": [],
   "source": [
    "spark = spark = SparkSession.builder.master(\"local\").appName(\"Test Spark\").getOrCreate()\n",
    "sc= spark.sparkContext"
   ]
  },
  {
   "cell_type": "markdown",
   "metadata": {},
   "source": [
    "# Fraud Detection ML Section"
   ]
  },
  {
   "cell_type": "code",
   "execution_count": 5,
   "metadata": {},
   "outputs": [
    {
     "data": {
      "text/html": [
       "<div>\n",
       "<style scoped>\n",
       "    .dataframe tbody tr th:only-of-type {\n",
       "        vertical-align: middle;\n",
       "    }\n",
       "\n",
       "    .dataframe tbody tr th {\n",
       "        vertical-align: top;\n",
       "    }\n",
       "\n",
       "    .dataframe thead th {\n",
       "        text-align: right;\n",
       "    }\n",
       "</style>\n",
       "<table border=\"1\" class=\"dataframe\">\n",
       "  <thead>\n",
       "    <tr style=\"text-align: right;\">\n",
       "      <th></th>\n",
       "      <th>Month</th>\n",
       "      <th>Day</th>\n",
       "      <th>Time</th>\n",
       "      <th>DayOfWeek</th>\n",
       "      <th>TransactionID</th>\n",
       "      <th>InputAddress</th>\n",
       "      <th>OutputAddress</th>\n",
       "      <th>BTC</th>\n",
       "      <th>Illicit</th>\n",
       "    </tr>\n",
       "  </thead>\n",
       "  <tbody>\n",
       "    <tr>\n",
       "      <th>0</th>\n",
       "      <td>4</td>\n",
       "      <td>27</td>\n",
       "      <td>12:38:19</td>\n",
       "      <td>6</td>\n",
       "      <td>4b585ab8815f189d18922b1866cb4f86743f3d305f0316...</td>\n",
       "      <td>19WNHovTv17jAihMuj9wvmLzpKv6s9gHad</td>\n",
       "      <td>1VayNert3x1KzbpzMGt2qdqrAThiRovi8</td>\n",
       "      <td>50.000000</td>\n",
       "      <td>0</td>\n",
       "    </tr>\n",
       "    <tr>\n",
       "      <th>1</th>\n",
       "      <td>12</td>\n",
       "      <td>5</td>\n",
       "      <td>20:35:41</td>\n",
       "      <td>5</td>\n",
       "      <td>081c88ecc74eab23318b7bddec8db4c78429573d4acd57...</td>\n",
       "      <td>3BXMABa8Yxcq9JvPEdizBdbZCvqbMMp6ao</td>\n",
       "      <td>3Qg6fRqQZuH8e2RRwcf6cMHrtkyEBEpfUX</td>\n",
       "      <td>0.002116</td>\n",
       "      <td>1</td>\n",
       "    </tr>\n",
       "    <tr>\n",
       "      <th>2</th>\n",
       "      <td>12</td>\n",
       "      <td>13</td>\n",
       "      <td>2:30:22</td>\n",
       "      <td>6</td>\n",
       "      <td>1835eb794ef4e3909f25d3f11f794a93ff5e2db84004b8...</td>\n",
       "      <td>1PZtVNDMzH4GjDjvzzJ6xNkMVshdqf6rbc</td>\n",
       "      <td>19iVyH1qUxgywY8LJSbpV4VavjZmyuEyxV</td>\n",
       "      <td>29.653250</td>\n",
       "      <td>1</td>\n",
       "    </tr>\n",
       "    <tr>\n",
       "      <th>3</th>\n",
       "      <td>12</td>\n",
       "      <td>5</td>\n",
       "      <td>14:55:39</td>\n",
       "      <td>5</td>\n",
       "      <td>cfa2d9e29726f0a0940204aab2ecd0e920d75867a73dc1...</td>\n",
       "      <td>1NzfRfu5Pc1PHBP13iFNkq8FEiSPCA1Dk6</td>\n",
       "      <td>15VkKWoCNqxnNAUFZzfSuhjkvw1L7CqgtA</td>\n",
       "      <td>0.000137</td>\n",
       "      <td>1</td>\n",
       "    </tr>\n",
       "    <tr>\n",
       "      <th>4</th>\n",
       "      <td>11</td>\n",
       "      <td>19</td>\n",
       "      <td>5:46:16</td>\n",
       "      <td>3</td>\n",
       "      <td>30098ef68574c7e727dab520e9623ee91e90625b937fca...</td>\n",
       "      <td>1Gw1CxCosujMQv8fgDfahctrtdcMmkyXZh</td>\n",
       "      <td>16oShVdj75jxmmEj66yGqYQNmTJhoCYQMw</td>\n",
       "      <td>2.426779</td>\n",
       "      <td>1</td>\n",
       "    </tr>\n",
       "    <tr>\n",
       "      <th>...</th>\n",
       "      <td>...</td>\n",
       "      <td>...</td>\n",
       "      <td>...</td>\n",
       "      <td>...</td>\n",
       "      <td>...</td>\n",
       "      <td>...</td>\n",
       "      <td>...</td>\n",
       "      <td>...</td>\n",
       "      <td>...</td>\n",
       "    </tr>\n",
       "    <tr>\n",
       "      <th>40820</th>\n",
       "      <td>11</td>\n",
       "      <td>25</td>\n",
       "      <td>11:43:19</td>\n",
       "      <td>1</td>\n",
       "      <td>8e530147a819941f715ebde2d4ce2fc3f89c411c9a18c7...</td>\n",
       "      <td>1BmMiNjbHgiahBrtcMjNwg8Urxv2VbrEvf</td>\n",
       "      <td>1VayNert3x1KzbpzMGt2qdqrAThiRovi8</td>\n",
       "      <td>50.277000</td>\n",
       "      <td>0</td>\n",
       "    </tr>\n",
       "    <tr>\n",
       "      <th>40821</th>\n",
       "      <td>4</td>\n",
       "      <td>13</td>\n",
       "      <td>3:28:56</td>\n",
       "      <td>6</td>\n",
       "      <td>92e5192b5c34df327f4805999f4fa254a8fc93e6319c30...</td>\n",
       "      <td>1CYniGNxPuec1w9KCmRtZaDmaLCBWWYPD1</td>\n",
       "      <td>133K4dfRXbp2gpjBszm7U2y3sWMJa3xpAu</td>\n",
       "      <td>50.000000</td>\n",
       "      <td>0</td>\n",
       "    </tr>\n",
       "    <tr>\n",
       "      <th>40822</th>\n",
       "      <td>6</td>\n",
       "      <td>20</td>\n",
       "      <td>22:46:51</td>\n",
       "      <td>4</td>\n",
       "      <td>5bab77e462190c224fcda02348145d89187d7e52cc0213...</td>\n",
       "      <td>1Fnra5i6xBFmWVH5RXahat8TDtsk8Y6fpk</td>\n",
       "      <td>1NNEFF5HYW8tZAXNLoj298mLVR8qXJAjC3</td>\n",
       "      <td>0.472150</td>\n",
       "      <td>0</td>\n",
       "    </tr>\n",
       "    <tr>\n",
       "      <th>40823</th>\n",
       "      <td>7</td>\n",
       "      <td>30</td>\n",
       "      <td>3:52:38</td>\n",
       "      <td>2</td>\n",
       "      <td>8e0827a0c7039058be9870f4f28e8b24f22fe58eab64fc...</td>\n",
       "      <td>1B968tmP1VgKLueXhwTgiAg2AEEPwyHExz</td>\n",
       "      <td>13seCEjLFzDbnZxxH9KfFNHs5ETqdhfUYU</td>\n",
       "      <td>50.000000</td>\n",
       "      <td>0</td>\n",
       "    </tr>\n",
       "    <tr>\n",
       "      <th>40824</th>\n",
       "      <td>11</td>\n",
       "      <td>14</td>\n",
       "      <td>5:21:47</td>\n",
       "      <td>5</td>\n",
       "      <td>016c1c6ad48b18b3521b0b69050f4feea592d934a1d83f...</td>\n",
       "      <td>115md8GZ5S8CmvUj8a8cW58YcKvv2SekYf</td>\n",
       "      <td>Unable to decode output address</td>\n",
       "      <td>0.000000</td>\n",
       "      <td>1</td>\n",
       "    </tr>\n",
       "  </tbody>\n",
       "</table>\n",
       "<p>40825 rows × 9 columns</p>\n",
       "</div>"
      ],
      "text/plain": [
       "       Month  Day      Time  DayOfWeek  \\\n",
       "0          4   27  12:38:19          6   \n",
       "1         12    5  20:35:41          5   \n",
       "2         12   13   2:30:22          6   \n",
       "3         12    5  14:55:39          5   \n",
       "4         11   19   5:46:16          3   \n",
       "...      ...  ...       ...        ...   \n",
       "40820     11   25  11:43:19          1   \n",
       "40821      4   13   3:28:56          6   \n",
       "40822      6   20  22:46:51          4   \n",
       "40823      7   30   3:52:38          2   \n",
       "40824     11   14   5:21:47          5   \n",
       "\n",
       "                                           TransactionID  \\\n",
       "0      4b585ab8815f189d18922b1866cb4f86743f3d305f0316...   \n",
       "1      081c88ecc74eab23318b7bddec8db4c78429573d4acd57...   \n",
       "2      1835eb794ef4e3909f25d3f11f794a93ff5e2db84004b8...   \n",
       "3      cfa2d9e29726f0a0940204aab2ecd0e920d75867a73dc1...   \n",
       "4      30098ef68574c7e727dab520e9623ee91e90625b937fca...   \n",
       "...                                                  ...   \n",
       "40820  8e530147a819941f715ebde2d4ce2fc3f89c411c9a18c7...   \n",
       "40821  92e5192b5c34df327f4805999f4fa254a8fc93e6319c30...   \n",
       "40822  5bab77e462190c224fcda02348145d89187d7e52cc0213...   \n",
       "40823  8e0827a0c7039058be9870f4f28e8b24f22fe58eab64fc...   \n",
       "40824  016c1c6ad48b18b3521b0b69050f4feea592d934a1d83f...   \n",
       "\n",
       "                             InputAddress                       OutputAddress  \\\n",
       "0      19WNHovTv17jAihMuj9wvmLzpKv6s9gHad   1VayNert3x1KzbpzMGt2qdqrAThiRovi8   \n",
       "1      3BXMABa8Yxcq9JvPEdizBdbZCvqbMMp6ao  3Qg6fRqQZuH8e2RRwcf6cMHrtkyEBEpfUX   \n",
       "2      1PZtVNDMzH4GjDjvzzJ6xNkMVshdqf6rbc  19iVyH1qUxgywY8LJSbpV4VavjZmyuEyxV   \n",
       "3      1NzfRfu5Pc1PHBP13iFNkq8FEiSPCA1Dk6  15VkKWoCNqxnNAUFZzfSuhjkvw1L7CqgtA   \n",
       "4      1Gw1CxCosujMQv8fgDfahctrtdcMmkyXZh  16oShVdj75jxmmEj66yGqYQNmTJhoCYQMw   \n",
       "...                                   ...                                 ...   \n",
       "40820  1BmMiNjbHgiahBrtcMjNwg8Urxv2VbrEvf   1VayNert3x1KzbpzMGt2qdqrAThiRovi8   \n",
       "40821  1CYniGNxPuec1w9KCmRtZaDmaLCBWWYPD1  133K4dfRXbp2gpjBszm7U2y3sWMJa3xpAu   \n",
       "40822  1Fnra5i6xBFmWVH5RXahat8TDtsk8Y6fpk  1NNEFF5HYW8tZAXNLoj298mLVR8qXJAjC3   \n",
       "40823  1B968tmP1VgKLueXhwTgiAg2AEEPwyHExz  13seCEjLFzDbnZxxH9KfFNHs5ETqdhfUYU   \n",
       "40824  115md8GZ5S8CmvUj8a8cW58YcKvv2SekYf     Unable to decode output address   \n",
       "\n",
       "             BTC  Illicit  \n",
       "0      50.000000        0  \n",
       "1       0.002116        1  \n",
       "2      29.653250        1  \n",
       "3       0.000137        1  \n",
       "4       2.426779        1  \n",
       "...          ...      ...  \n",
       "40820  50.277000        0  \n",
       "40821  50.000000        0  \n",
       "40822   0.472150        0  \n",
       "40823  50.000000        0  \n",
       "40824   0.000000        1  \n",
       "\n",
       "[40825 rows x 9 columns]"
      ]
     },
     "execution_count": 5,
     "metadata": {},
     "output_type": "execute_result"
    }
   ],
   "source": [
    "import lightgbm as lgb\n",
    "import optuna as op\n",
    "import seaborn as sns\n",
    "import matplotlib.pyplot as plt\n",
    "from sklearn.model_selection import train_test_split, GridSearchCV\n",
    "from sklearn.metrics import confusion_matrix,accuracy_score, roc_curve, auc\n",
    "from sklearn.preprocessing import StandardScaler as stdsc\n",
    "from sklearn.preprocessing import binarize\n",
    "from sklearn.preprocessing import LabelEncoder\n",
    "from sklearn.metrics import f1_score\n",
    "import numpy as np\n",
    "import pandas as pd\n",
    "\n",
    "df = pd.read_csv('Blockchain Competition Data.csv')\n",
    "df"
   ]
  },
  {
   "cell_type": "code",
   "execution_count": null,
   "metadata": {},
   "outputs": [],
   "source": []
  },
  {
   "cell_type": "code",
   "execution_count": null,
   "metadata": {},
   "outputs": [],
   "source": []
  },
  {
   "cell_type": "code",
   "execution_count": 6,
   "metadata": {},
   "outputs": [
    {
     "data": {
      "text/plain": [
       "0    27825\n",
       "1    13000\n",
       "Name: Illicit, dtype: int64"
      ]
     },
     "execution_count": 6,
     "metadata": {},
     "output_type": "execute_result"
    }
   ],
   "source": [
    "df['Illicit'].value_counts()"
   ]
  },
  {
   "cell_type": "code",
   "execution_count": 7,
   "metadata": {},
   "outputs": [],
   "source": [
    "####Feature Engineering"
   ]
  },
  {
   "cell_type": "markdown",
   "metadata": {},
   "source": [
    "#### Graph Features"
   ]
  },
  {
   "cell_type": "code",
   "execution_count": 8,
   "metadata": {},
   "outputs": [],
   "source": [
    "import pandas as pd\n",
    "kdf = df"
   ]
  },
  {
   "cell_type": "code",
   "execution_count": 9,
   "metadata": {},
   "outputs": [
    {
     "name": "stdout",
     "output_type": "stream",
     "text": [
      "CPU times: total: 9.16 s\n",
      "Wall time: 9.03 s\n"
     ]
    }
   ],
   "source": [
    "%%time\n",
    "unique_ids_list = kdf[\"InputAddress\"].to_list() + kdf[\"OutputAddress\"].to_list()\n",
    "unique_ids_list = list(dict.fromkeys(unique_ids_list))\n",
    "kdf[\"src\"] = kdf['InputAddress'].apply(lambda x: unique_ids_list.index(x))\n",
    "kdf[\"dst\"] = kdf['OutputAddress'].apply(lambda x: unique_ids_list.index(x))"
   ]
  },
  {
   "cell_type": "code",
   "execution_count": 10,
   "metadata": {},
   "outputs": [
    {
     "data": {
      "text/html": [
       "<div>\n",
       "<style scoped>\n",
       "    .dataframe tbody tr th:only-of-type {\n",
       "        vertical-align: middle;\n",
       "    }\n",
       "\n",
       "    .dataframe tbody tr th {\n",
       "        vertical-align: top;\n",
       "    }\n",
       "\n",
       "    .dataframe thead th {\n",
       "        text-align: right;\n",
       "    }\n",
       "</style>\n",
       "<table border=\"1\" class=\"dataframe\">\n",
       "  <thead>\n",
       "    <tr style=\"text-align: right;\">\n",
       "      <th></th>\n",
       "      <th>Unique_ID</th>\n",
       "      <th>id</th>\n",
       "    </tr>\n",
       "  </thead>\n",
       "  <tbody>\n",
       "    <tr>\n",
       "      <th>0</th>\n",
       "      <td>19WNHovTv17jAihMuj9wvmLzpKv6s9gHad</td>\n",
       "      <td>0</td>\n",
       "    </tr>\n",
       "    <tr>\n",
       "      <th>1</th>\n",
       "      <td>3BXMABa8Yxcq9JvPEdizBdbZCvqbMMp6ao</td>\n",
       "      <td>1</td>\n",
       "    </tr>\n",
       "    <tr>\n",
       "      <th>2</th>\n",
       "      <td>1PZtVNDMzH4GjDjvzzJ6xNkMVshdqf6rbc</td>\n",
       "      <td>2</td>\n",
       "    </tr>\n",
       "    <tr>\n",
       "      <th>3</th>\n",
       "      <td>1NzfRfu5Pc1PHBP13iFNkq8FEiSPCA1Dk6</td>\n",
       "      <td>3</td>\n",
       "    </tr>\n",
       "    <tr>\n",
       "      <th>4</th>\n",
       "      <td>1Gw1CxCosujMQv8fgDfahctrtdcMmkyXZh</td>\n",
       "      <td>4</td>\n",
       "    </tr>\n",
       "    <tr>\n",
       "      <th>...</th>\n",
       "      <td>...</td>\n",
       "      <td>...</td>\n",
       "    </tr>\n",
       "    <tr>\n",
       "      <th>35234</th>\n",
       "      <td>161o3vQg6wWmnb8LeEkqhuxtte5uFdjmQy</td>\n",
       "      <td>35234</td>\n",
       "    </tr>\n",
       "    <tr>\n",
       "      <th>35235</th>\n",
       "      <td>3AqBUd57txxxdf1ocsjnfNeUjNYaNYmmPm</td>\n",
       "      <td>35235</td>\n",
       "    </tr>\n",
       "    <tr>\n",
       "      <th>35236</th>\n",
       "      <td>16gypkSY2f3t3QzMZqLm8uEtFEP3k5eQwB</td>\n",
       "      <td>35236</td>\n",
       "    </tr>\n",
       "    <tr>\n",
       "      <th>35237</th>\n",
       "      <td>3LHbo7N2bCZPXNcwc8JvaBwgTznGkUeB3d</td>\n",
       "      <td>35237</td>\n",
       "    </tr>\n",
       "    <tr>\n",
       "      <th>35238</th>\n",
       "      <td>1NNEFF5HYW8tZAXNLoj298mLVR8qXJAjC3</td>\n",
       "      <td>35238</td>\n",
       "    </tr>\n",
       "  </tbody>\n",
       "</table>\n",
       "<p>35239 rows × 2 columns</p>\n",
       "</div>"
      ],
      "text/plain": [
       "                                Unique_ID     id\n",
       "0      19WNHovTv17jAihMuj9wvmLzpKv6s9gHad      0\n",
       "1      3BXMABa8Yxcq9JvPEdizBdbZCvqbMMp6ao      1\n",
       "2      1PZtVNDMzH4GjDjvzzJ6xNkMVshdqf6rbc      2\n",
       "3      1NzfRfu5Pc1PHBP13iFNkq8FEiSPCA1Dk6      3\n",
       "4      1Gw1CxCosujMQv8fgDfahctrtdcMmkyXZh      4\n",
       "...                                   ...    ...\n",
       "35234  161o3vQg6wWmnb8LeEkqhuxtte5uFdjmQy  35234\n",
       "35235  3AqBUd57txxxdf1ocsjnfNeUjNYaNYmmPm  35235\n",
       "35236  16gypkSY2f3t3QzMZqLm8uEtFEP3k5eQwB  35236\n",
       "35237  3LHbo7N2bCZPXNcwc8JvaBwgTznGkUeB3d  35237\n",
       "35238  1NNEFF5HYW8tZAXNLoj298mLVR8qXJAjC3  35238\n",
       "\n",
       "[35239 rows x 2 columns]"
      ]
     },
     "execution_count": 10,
     "metadata": {},
     "output_type": "execute_result"
    }
   ],
   "source": [
    "vertices = pd.DataFrame(unique_ids_list, columns = ['Unique_ID'])\n",
    "vertices['id'] = vertices['Unique_ID'].index\n",
    "vertices"
   ]
  },
  {
   "cell_type": "code",
   "execution_count": 11,
   "metadata": {
    "scrolled": true
   },
   "outputs": [],
   "source": [
    "# kdf"
   ]
  },
  {
   "cell_type": "code",
   "execution_count": 12,
   "metadata": {},
   "outputs": [],
   "source": [
    "#Load data into graphframes for spark feature engineering using graph created\n",
    "from graphframes import *\n",
    "vertices_sdf = spark.createDataFrame(vertices)\n",
    "edges_sdf = spark.createDataFrame(kdf[['src','dst']])\n",
    "g = GraphFrame(vertices_sdf, edges_sdf)"
   ]
  },
  {
   "cell_type": "code",
   "execution_count": 13,
   "metadata": {
    "scrolled": true
   },
   "outputs": [
    {
     "name": "stdout",
     "output_type": "stream",
     "text": [
      "+--------------------+---+\n",
      "|           Unique_ID| id|\n",
      "+--------------------+---+\n",
      "|19WNHovTv17jAihMu...|  0|\n",
      "|3BXMABa8Yxcq9JvPE...|  1|\n",
      "|1PZtVNDMzH4GjDjvz...|  2|\n",
      "|1NzfRfu5Pc1PHBP13...|  3|\n",
      "|1Gw1CxCosujMQv8fg...|  4|\n",
      "|14zKfi2gc77Aswr1E...|  5|\n",
      "|15h6wBZbQv1Nv3peY...|  6|\n",
      "|1NtJj5tMLqdhzWV6S...|  7|\n",
      "|1AuJBLYtsQxUeiuG3...|  8|\n",
      "|1HktqScAwkTPpmtyJ...|  9|\n",
      "|14JJG9HH75YrybPf5...| 10|\n",
      "|1BoqXQsg5pdVX3xSs...| 11|\n",
      "|1EoAmuLBeLC2YpRAF...| 12|\n",
      "|1HXTkmCMS9qYSHxmz...| 13|\n",
      "|33vfdbfzbqiUAbH4k...| 14|\n",
      "|1yW1yFH2GMoTFv7ZV...| 15|\n",
      "|1ExzXxfkxfDbYJ5L9...| 16|\n",
      "|1DgDJSsX5fPWEdzu1...| 17|\n",
      "|1GkHhmaYmwHXYWnKG...| 18|\n",
      "|3Bj2jVXAdkdCiPgnG...| 19|\n",
      "+--------------------+---+\n",
      "only showing top 20 rows\n",
      "\n",
      "+---+-----+\n",
      "|src|  dst|\n",
      "+---+-----+\n",
      "|  0|  234|\n",
      "|  1| 3197|\n",
      "|  2|  353|\n",
      "|  3|23216|\n",
      "|  4|17267|\n",
      "|  5|  234|\n",
      "|  6|  234|\n",
      "|  7|  234|\n",
      "|  8|  674|\n",
      "|  9|23217|\n",
      "| 10|23218|\n",
      "| 11|  234|\n",
      "| 12|23219|\n",
      "| 13|23220|\n",
      "| 14|23221|\n",
      "| 15|  234|\n",
      "| 16|23222|\n",
      "| 17|  234|\n",
      "| 18|  674|\n",
      "| 19| 5085|\n",
      "+---+-----+\n",
      "only showing top 20 rows\n",
      "\n"
     ]
    }
   ],
   "source": [
    "g.vertices.show()\n",
    "g.edges.show()"
   ]
  },
  {
   "cell_type": "code",
   "execution_count": 14,
   "metadata": {},
   "outputs": [
    {
     "data": {
      "text/plain": [
       "DataFrame[Unique_ID: string, id: bigint]"
      ]
     },
     "execution_count": 14,
     "metadata": {},
     "output_type": "execute_result"
    }
   ],
   "source": [
    "g.vertices"
   ]
  },
  {
   "cell_type": "code",
   "execution_count": 15,
   "metadata": {},
   "outputs": [
    {
     "name": "stdout",
     "output_type": "stream",
     "text": [
      "+----+--------------------+------+--------+---------+-------------------+-----+-----+\n",
      "|  id|           Unique_ID|degree|inDegree|outDegree|           pagerank|count|label|\n",
      "+----+--------------------+------+--------+---------+-------------------+-----+-----+\n",
      "| 429|35c9y89b3QiY48sfs...|     1|    null|        1|0.45061549784683985|    0|23399|\n",
      "|1271|1PyMTMjV3KTn7wFMz...|     1|    null|        1|0.45061549784683985|    0|  234|\n",
      "|1650|16RBExMKpEpTFWKZS...|     2|    null|        2|0.45061549784683985|    0|24007|\n",
      "|2130|15UG9rBZSNJGKWrJv...|     2|    null|        2|0.45061549784683985|    0|24252|\n",
      "|2183|1NdppVU8tHqYXBBHB...|     1|    null|        1|0.45061549784683985|    0|  234|\n",
      "|2335|1MT4C2E245mXP2qnJ...|     1|    null|        1|0.45061549784683985|    0|  234|\n",
      "|2535|1LsT4tLFHfLzsRNKj...|    20|      12|        8|  4.280847229544977|    0|  782|\n",
      "|2757|1M7axpvX9M8Gz6N12...|     2|    null|        2|0.45061549784683985|    0|24576|\n",
      "|2893|3KQrqzPBSJrfS99Yb...|     1|    null|        1|0.45061549784683985|    0| 8221|\n",
      "|2994|1GoXZxPFPL5CGFzAw...|     1|    null|        1|0.45061549784683985|    0| 3151|\n",
      "|3184|1NayR7d4UqBv7dic2...|     1|    null|        1|0.45061549784683985|    0|11977|\n",
      "|3419|1JbGih5QVsKdxnHrV...|     2|    null|        2|0.45061549784683985|    0|  674|\n",
      "|3730|18wXh4iAPgHG4PvBv...|     1|    null|        1|0.45061549784683985|    0|  234|\n",
      "|3898|1LugHvWVQ7XwDsGer...|     2|    null|        2|0.45061549784683985|    0|25123|\n",
      "|4602|1LuDahALdwSQSaSL5...|     1|    null|        1|0.45061549784683985|    0|  234|\n",
      "|4662|1CMZhHkfnMRfyj3DB...|     1|    null|        1|0.45061549784683985|    0|  234|\n",
      "|4671|3Mia5FhayDEEYaXAV...|     1|    null|        1|0.45061549784683985|    0| 1132|\n",
      "|4850|15jzQmGzstURkgXVS...|     8|       2|        6| 0.6331030532177757|    1| 4850|\n",
      "|4918|15z3UjbtknXKG1v4r...|     1|    null|        1|0.45061549784683985|    0| 9629|\n",
      "|5161|1BUQmtkfkkrLtfhQi...|     2|    null|        2|0.45061549784683985|    0|23220|\n",
      "+----+--------------------+------+--------+---------+-------------------+-----+-----+\n",
      "only showing top 20 rows\n",
      "\n"
     ]
    }
   ],
   "source": [
    "vertices_df = g.vertices\n",
    "\n",
    "def features(input_graph,vdf):\n",
    "    results_pr = input_graph.pageRank(resetProbability=0.15, maxIter= 5)#, tol=0.01)\n",
    "    df_pr = results_pr.vertices\n",
    "    df_g = input_graph.degrees\n",
    "    df_in = input_graph.inDegrees\n",
    "    df_out = input_graph.outDegrees\n",
    "    df_tr = input_graph.triangleCount()\n",
    "    communities = input_graph.labelPropagation(maxIter=5)\n",
    "    \n",
    "    data = vdf.join(df_g, on=['id'],how='left')\n",
    "    data = data.join(df_in, on=['id'],how='left')\n",
    "    data = data.join(df_out, on=['id'],how='left')\n",
    "    data = data.join(df_pr, on=['id','Unique_ID'],how='left')\n",
    "    data = data.join(df_tr, on=['id', 'Unique_ID'],how='left')\n",
    "    data = data.join(communities, on=['id', 'Unique_ID'],how='left')\n",
    "\n",
    "    return data\n",
    "\n",
    "features(g,vertices_df).show()"
   ]
  },
  {
   "cell_type": "code",
   "execution_count": 16,
   "metadata": {},
   "outputs": [
    {
     "data": {
      "text/plain": [
       "35239"
      ]
     },
     "execution_count": 16,
     "metadata": {},
     "output_type": "execute_result"
    }
   ],
   "source": [
    "g.vertices.count()"
   ]
  },
  {
   "cell_type": "markdown",
   "metadata": {},
   "source": [
    "#### Temporal Features"
   ]
  },
  {
   "cell_type": "code",
   "execution_count": 17,
   "metadata": {},
   "outputs": [],
   "source": [
    "df_features = df "
   ]
  },
  {
   "cell_type": "code",
   "execution_count": 18,
   "metadata": {},
   "outputs": [
    {
     "data": {
      "text/html": [
       "<div>\n",
       "<style scoped>\n",
       "    .dataframe tbody tr th:only-of-type {\n",
       "        vertical-align: middle;\n",
       "    }\n",
       "\n",
       "    .dataframe tbody tr th {\n",
       "        vertical-align: top;\n",
       "    }\n",
       "\n",
       "    .dataframe thead th {\n",
       "        text-align: right;\n",
       "    }\n",
       "</style>\n",
       "<table border=\"1\" class=\"dataframe\">\n",
       "  <thead>\n",
       "    <tr style=\"text-align: right;\">\n",
       "      <th></th>\n",
       "      <th>Month</th>\n",
       "      <th>Day</th>\n",
       "      <th>Time</th>\n",
       "      <th>DayOfWeek</th>\n",
       "      <th>TransactionID</th>\n",
       "      <th>InputAddress</th>\n",
       "      <th>OutputAddress</th>\n",
       "      <th>BTC</th>\n",
       "      <th>Illicit</th>\n",
       "      <th>src</th>\n",
       "      <th>dst</th>\n",
       "    </tr>\n",
       "  </thead>\n",
       "  <tbody>\n",
       "    <tr>\n",
       "      <th>0</th>\n",
       "      <td>4</td>\n",
       "      <td>27</td>\n",
       "      <td>12:38:19</td>\n",
       "      <td>6</td>\n",
       "      <td>4b585ab8815f189d18922b1866cb4f86743f3d305f0316...</td>\n",
       "      <td>19WNHovTv17jAihMuj9wvmLzpKv6s9gHad</td>\n",
       "      <td>1VayNert3x1KzbpzMGt2qdqrAThiRovi8</td>\n",
       "      <td>50.000000</td>\n",
       "      <td>0</td>\n",
       "      <td>0</td>\n",
       "      <td>234</td>\n",
       "    </tr>\n",
       "    <tr>\n",
       "      <th>1</th>\n",
       "      <td>12</td>\n",
       "      <td>5</td>\n",
       "      <td>20:35:41</td>\n",
       "      <td>5</td>\n",
       "      <td>081c88ecc74eab23318b7bddec8db4c78429573d4acd57...</td>\n",
       "      <td>3BXMABa8Yxcq9JvPEdizBdbZCvqbMMp6ao</td>\n",
       "      <td>3Qg6fRqQZuH8e2RRwcf6cMHrtkyEBEpfUX</td>\n",
       "      <td>0.002116</td>\n",
       "      <td>1</td>\n",
       "      <td>1</td>\n",
       "      <td>3197</td>\n",
       "    </tr>\n",
       "    <tr>\n",
       "      <th>2</th>\n",
       "      <td>12</td>\n",
       "      <td>13</td>\n",
       "      <td>2:30:22</td>\n",
       "      <td>6</td>\n",
       "      <td>1835eb794ef4e3909f25d3f11f794a93ff5e2db84004b8...</td>\n",
       "      <td>1PZtVNDMzH4GjDjvzzJ6xNkMVshdqf6rbc</td>\n",
       "      <td>19iVyH1qUxgywY8LJSbpV4VavjZmyuEyxV</td>\n",
       "      <td>29.653250</td>\n",
       "      <td>1</td>\n",
       "      <td>2</td>\n",
       "      <td>353</td>\n",
       "    </tr>\n",
       "    <tr>\n",
       "      <th>3</th>\n",
       "      <td>12</td>\n",
       "      <td>5</td>\n",
       "      <td>14:55:39</td>\n",
       "      <td>5</td>\n",
       "      <td>cfa2d9e29726f0a0940204aab2ecd0e920d75867a73dc1...</td>\n",
       "      <td>1NzfRfu5Pc1PHBP13iFNkq8FEiSPCA1Dk6</td>\n",
       "      <td>15VkKWoCNqxnNAUFZzfSuhjkvw1L7CqgtA</td>\n",
       "      <td>0.000137</td>\n",
       "      <td>1</td>\n",
       "      <td>3</td>\n",
       "      <td>23216</td>\n",
       "    </tr>\n",
       "    <tr>\n",
       "      <th>4</th>\n",
       "      <td>11</td>\n",
       "      <td>19</td>\n",
       "      <td>5:46:16</td>\n",
       "      <td>3</td>\n",
       "      <td>30098ef68574c7e727dab520e9623ee91e90625b937fca...</td>\n",
       "      <td>1Gw1CxCosujMQv8fgDfahctrtdcMmkyXZh</td>\n",
       "      <td>16oShVdj75jxmmEj66yGqYQNmTJhoCYQMw</td>\n",
       "      <td>2.426779</td>\n",
       "      <td>1</td>\n",
       "      <td>4</td>\n",
       "      <td>17267</td>\n",
       "    </tr>\n",
       "    <tr>\n",
       "      <th>...</th>\n",
       "      <td>...</td>\n",
       "      <td>...</td>\n",
       "      <td>...</td>\n",
       "      <td>...</td>\n",
       "      <td>...</td>\n",
       "      <td>...</td>\n",
       "      <td>...</td>\n",
       "      <td>...</td>\n",
       "      <td>...</td>\n",
       "      <td>...</td>\n",
       "      <td>...</td>\n",
       "    </tr>\n",
       "    <tr>\n",
       "      <th>40820</th>\n",
       "      <td>11</td>\n",
       "      <td>25</td>\n",
       "      <td>11:43:19</td>\n",
       "      <td>1</td>\n",
       "      <td>8e530147a819941f715ebde2d4ce2fc3f89c411c9a18c7...</td>\n",
       "      <td>1BmMiNjbHgiahBrtcMjNwg8Urxv2VbrEvf</td>\n",
       "      <td>1VayNert3x1KzbpzMGt2qdqrAThiRovi8</td>\n",
       "      <td>50.277000</td>\n",
       "      <td>0</td>\n",
       "      <td>23215</td>\n",
       "      <td>234</td>\n",
       "    </tr>\n",
       "    <tr>\n",
       "      <th>40821</th>\n",
       "      <td>4</td>\n",
       "      <td>13</td>\n",
       "      <td>3:28:56</td>\n",
       "      <td>6</td>\n",
       "      <td>92e5192b5c34df327f4805999f4fa254a8fc93e6319c30...</td>\n",
       "      <td>1CYniGNxPuec1w9KCmRtZaDmaLCBWWYPD1</td>\n",
       "      <td>133K4dfRXbp2gpjBszm7U2y3sWMJa3xpAu</td>\n",
       "      <td>50.000000</td>\n",
       "      <td>0</td>\n",
       "      <td>19454</td>\n",
       "      <td>23236</td>\n",
       "    </tr>\n",
       "    <tr>\n",
       "      <th>40822</th>\n",
       "      <td>6</td>\n",
       "      <td>20</td>\n",
       "      <td>22:46:51</td>\n",
       "      <td>4</td>\n",
       "      <td>5bab77e462190c224fcda02348145d89187d7e52cc0213...</td>\n",
       "      <td>1Fnra5i6xBFmWVH5RXahat8TDtsk8Y6fpk</td>\n",
       "      <td>1NNEFF5HYW8tZAXNLoj298mLVR8qXJAjC3</td>\n",
       "      <td>0.472150</td>\n",
       "      <td>0</td>\n",
       "      <td>13182</td>\n",
       "      <td>35238</td>\n",
       "    </tr>\n",
       "    <tr>\n",
       "      <th>40823</th>\n",
       "      <td>7</td>\n",
       "      <td>30</td>\n",
       "      <td>3:52:38</td>\n",
       "      <td>2</td>\n",
       "      <td>8e0827a0c7039058be9870f4f28e8b24f22fe58eab64fc...</td>\n",
       "      <td>1B968tmP1VgKLueXhwTgiAg2AEEPwyHExz</td>\n",
       "      <td>13seCEjLFzDbnZxxH9KfFNHs5ETqdhfUYU</td>\n",
       "      <td>50.000000</td>\n",
       "      <td>0</td>\n",
       "      <td>12421</td>\n",
       "      <td>23220</td>\n",
       "    </tr>\n",
       "    <tr>\n",
       "      <th>40824</th>\n",
       "      <td>11</td>\n",
       "      <td>14</td>\n",
       "      <td>5:21:47</td>\n",
       "      <td>5</td>\n",
       "      <td>016c1c6ad48b18b3521b0b69050f4feea592d934a1d83f...</td>\n",
       "      <td>115md8GZ5S8CmvUj8a8cW58YcKvv2SekYf</td>\n",
       "      <td>Unable to decode output address</td>\n",
       "      <td>0.000000</td>\n",
       "      <td>1</td>\n",
       "      <td>193</td>\n",
       "      <td>23308</td>\n",
       "    </tr>\n",
       "  </tbody>\n",
       "</table>\n",
       "<p>40825 rows × 11 columns</p>\n",
       "</div>"
      ],
      "text/plain": [
       "       Month  Day      Time  DayOfWeek  \\\n",
       "0          4   27  12:38:19          6   \n",
       "1         12    5  20:35:41          5   \n",
       "2         12   13   2:30:22          6   \n",
       "3         12    5  14:55:39          5   \n",
       "4         11   19   5:46:16          3   \n",
       "...      ...  ...       ...        ...   \n",
       "40820     11   25  11:43:19          1   \n",
       "40821      4   13   3:28:56          6   \n",
       "40822      6   20  22:46:51          4   \n",
       "40823      7   30   3:52:38          2   \n",
       "40824     11   14   5:21:47          5   \n",
       "\n",
       "                                           TransactionID  \\\n",
       "0      4b585ab8815f189d18922b1866cb4f86743f3d305f0316...   \n",
       "1      081c88ecc74eab23318b7bddec8db4c78429573d4acd57...   \n",
       "2      1835eb794ef4e3909f25d3f11f794a93ff5e2db84004b8...   \n",
       "3      cfa2d9e29726f0a0940204aab2ecd0e920d75867a73dc1...   \n",
       "4      30098ef68574c7e727dab520e9623ee91e90625b937fca...   \n",
       "...                                                  ...   \n",
       "40820  8e530147a819941f715ebde2d4ce2fc3f89c411c9a18c7...   \n",
       "40821  92e5192b5c34df327f4805999f4fa254a8fc93e6319c30...   \n",
       "40822  5bab77e462190c224fcda02348145d89187d7e52cc0213...   \n",
       "40823  8e0827a0c7039058be9870f4f28e8b24f22fe58eab64fc...   \n",
       "40824  016c1c6ad48b18b3521b0b69050f4feea592d934a1d83f...   \n",
       "\n",
       "                             InputAddress                       OutputAddress  \\\n",
       "0      19WNHovTv17jAihMuj9wvmLzpKv6s9gHad   1VayNert3x1KzbpzMGt2qdqrAThiRovi8   \n",
       "1      3BXMABa8Yxcq9JvPEdizBdbZCvqbMMp6ao  3Qg6fRqQZuH8e2RRwcf6cMHrtkyEBEpfUX   \n",
       "2      1PZtVNDMzH4GjDjvzzJ6xNkMVshdqf6rbc  19iVyH1qUxgywY8LJSbpV4VavjZmyuEyxV   \n",
       "3      1NzfRfu5Pc1PHBP13iFNkq8FEiSPCA1Dk6  15VkKWoCNqxnNAUFZzfSuhjkvw1L7CqgtA   \n",
       "4      1Gw1CxCosujMQv8fgDfahctrtdcMmkyXZh  16oShVdj75jxmmEj66yGqYQNmTJhoCYQMw   \n",
       "...                                   ...                                 ...   \n",
       "40820  1BmMiNjbHgiahBrtcMjNwg8Urxv2VbrEvf   1VayNert3x1KzbpzMGt2qdqrAThiRovi8   \n",
       "40821  1CYniGNxPuec1w9KCmRtZaDmaLCBWWYPD1  133K4dfRXbp2gpjBszm7U2y3sWMJa3xpAu   \n",
       "40822  1Fnra5i6xBFmWVH5RXahat8TDtsk8Y6fpk  1NNEFF5HYW8tZAXNLoj298mLVR8qXJAjC3   \n",
       "40823  1B968tmP1VgKLueXhwTgiAg2AEEPwyHExz  13seCEjLFzDbnZxxH9KfFNHs5ETqdhfUYU   \n",
       "40824  115md8GZ5S8CmvUj8a8cW58YcKvv2SekYf     Unable to decode output address   \n",
       "\n",
       "             BTC  Illicit    src    dst  \n",
       "0      50.000000        0      0    234  \n",
       "1       0.002116        1      1   3197  \n",
       "2      29.653250        1      2    353  \n",
       "3       0.000137        1      3  23216  \n",
       "4       2.426779        1      4  17267  \n",
       "...          ...      ...    ...    ...  \n",
       "40820  50.277000        0  23215    234  \n",
       "40821  50.000000        0  19454  23236  \n",
       "40822   0.472150        0  13182  35238  \n",
       "40823  50.000000        0  12421  23220  \n",
       "40824   0.000000        1    193  23308  \n",
       "\n",
       "[40825 rows x 11 columns]"
      ]
     },
     "execution_count": 18,
     "metadata": {},
     "output_type": "execute_result"
    }
   ],
   "source": [
    "df_features"
   ]
  },
  {
   "cell_type": "code",
   "execution_count": 19,
   "metadata": {},
   "outputs": [],
   "source": [
    "#df_features['transactionDateTime'] = pd.to_datetime(df_features['time'])\n",
    "#df_features['transactionMonth'] = pd.to_datetime(df_features['transactionDateTime']).dt.month\n",
    "#df_features['transactionDayOfWeek'] = pd.to_datetime(df_features['transactionDateTime']).dt.dayofweek\n",
    "#df_features['transactionYear'] = pd.to_datetime(df_features['transactionDateTime']).dt.year\n",
    "#df_features['transactionHour'] = pd.to_datetime(df_features['transactionDateTime']).dt.hour"
   ]
  },
  {
   "cell_type": "code",
   "execution_count": 20,
   "metadata": {},
   "outputs": [],
   "source": [
    "df_features.sort_values(['InputAddress', 'Month','Day', 'Time'], inplace=True)\n",
    "df_features.reset_index(inplace=True,drop=True)\n",
    "df_features['inputMax'] = df_features.groupby('InputAddress')['BTC'].cummax()\n",
    "df_features['inputMin'] = df_features.groupby('InputAddress')['BTC'].cummin()\n",
    "df_features['inputSum'] = df_features.groupby('InputAddress')['BTC'].cumsum()\n",
    "df_features.sort_values(['OutputAddress', 'Month','Day', 'Time'], inplace=True)\n",
    "df_features.reset_index(inplace=True,drop=True)\n",
    "df_features['outputMax'] = df_features.groupby('OutputAddress')['BTC'].cummax()\n",
    "df_features['outputMin'] = df_features.groupby('OutputAddress')['BTC'].cummin()\n",
    "df_features['outputSum'] = df_features.groupby('OutputAddress')['BTC'].cumsum()"
   ]
  },
  {
   "cell_type": "code",
   "execution_count": 21,
   "metadata": {},
   "outputs": [],
   "source": [
    "#df_features.sort_values(['InputAddress', 'Month','Day', 'Time'], inplace=True)\n",
    "#df_features.reset_index(inplace=True,drop=True)\n",
    "#df_features['Duration_Inputs'] = (df_features['transactionDateTime'] - df_features.groupby('input_address')['transactionDateTime'].cummin()).dt.days\n",
    "\n",
    "#df_features.sort_values(['output_address', 'transactionDateTime'], inplace=True)\n",
    "#df_features.reset_index(inplace=True,drop=True)\n",
    "#df_features['Duration_Outputs'] = (df_features['transactionDateTime'] - df_features.groupby('output_address')['transactionDateTime'].cummin()).dt.days\n"
   ]
  },
  {
   "cell_type": "code",
   "execution_count": 22,
   "metadata": {},
   "outputs": [
    {
     "data": {
      "text/html": [
       "<div>\n",
       "<style scoped>\n",
       "    .dataframe tbody tr th:only-of-type {\n",
       "        vertical-align: middle;\n",
       "    }\n",
       "\n",
       "    .dataframe tbody tr th {\n",
       "        vertical-align: top;\n",
       "    }\n",
       "\n",
       "    .dataframe thead th {\n",
       "        text-align: right;\n",
       "    }\n",
       "</style>\n",
       "<table border=\"1\" class=\"dataframe\">\n",
       "  <thead>\n",
       "    <tr style=\"text-align: right;\">\n",
       "      <th></th>\n",
       "      <th>Month</th>\n",
       "      <th>Day</th>\n",
       "      <th>Time</th>\n",
       "      <th>DayOfWeek</th>\n",
       "      <th>TransactionID</th>\n",
       "      <th>InputAddress</th>\n",
       "      <th>OutputAddress</th>\n",
       "      <th>BTC</th>\n",
       "      <th>Illicit</th>\n",
       "      <th>src</th>\n",
       "      <th>dst</th>\n",
       "      <th>inputMax</th>\n",
       "      <th>inputMin</th>\n",
       "      <th>inputSum</th>\n",
       "      <th>outputMax</th>\n",
       "      <th>outputMin</th>\n",
       "      <th>outputSum</th>\n",
       "    </tr>\n",
       "  </thead>\n",
       "  <tbody>\n",
       "    <tr>\n",
       "      <th>0</th>\n",
       "      <td>7</td>\n",
       "      <td>4</td>\n",
       "      <td>12:04:48</td>\n",
       "      <td>4</td>\n",
       "      <td>0db73422520423519b152bc44824c61faf84088e0bf385...</td>\n",
       "      <td>17Su3J2RWnm2WLqf8pfpgj4hFUf6MFH9SZ</td>\n",
       "      <td>111mamKazi1ofZ854rKTcAxhTVuGDPhhL</td>\n",
       "      <td>0.100000</td>\n",
       "      <td>0</td>\n",
       "      <td>263</td>\n",
       "      <td>24076</td>\n",
       "      <td>200.000000</td>\n",
       "      <td>0.100000</td>\n",
       "      <td>1237.246977</td>\n",
       "      <td>0.100000</td>\n",
       "      <td>0.100000</td>\n",
       "      <td>0.100000</td>\n",
       "    </tr>\n",
       "    <tr>\n",
       "      <th>1</th>\n",
       "      <td>7</td>\n",
       "      <td>4</td>\n",
       "      <td>12:04:48</td>\n",
       "      <td>4</td>\n",
       "      <td>0db73422520423519b152bc44824c61faf84088e0bf385...</td>\n",
       "      <td>1K4jCTyKSkATCXB6sXAwN3nkyvQveRMqPZ</td>\n",
       "      <td>111mamKazi1ofZ854rKTcAxhTVuGDPhhL</td>\n",
       "      <td>0.100000</td>\n",
       "      <td>0</td>\n",
       "      <td>741</td>\n",
       "      <td>24076</td>\n",
       "      <td>84.705376</td>\n",
       "      <td>0.100000</td>\n",
       "      <td>694.136401</td>\n",
       "      <td>0.100000</td>\n",
       "      <td>0.100000</td>\n",
       "      <td>0.200000</td>\n",
       "    </tr>\n",
       "    <tr>\n",
       "      <th>2</th>\n",
       "      <td>4</td>\n",
       "      <td>16</td>\n",
       "      <td>8:25:51</td>\n",
       "      <td>2</td>\n",
       "      <td>c802582a0acb3c66caa06ce4e767413086a713c732c893...</td>\n",
       "      <td>14aydKbSbRacakgoYzwFkdbLeirJHruiNc</td>\n",
       "      <td>112AYM2ubn4hEdJjb5NGguuEEo6Snp7oBK</td>\n",
       "      <td>0.015600</td>\n",
       "      <td>0</td>\n",
       "      <td>16319</td>\n",
       "      <td>31397</td>\n",
       "      <td>0.015600</td>\n",
       "      <td>0.015600</td>\n",
       "      <td>0.015600</td>\n",
       "      <td>0.015600</td>\n",
       "      <td>0.015600</td>\n",
       "      <td>0.015600</td>\n",
       "    </tr>\n",
       "    <tr>\n",
       "      <th>3</th>\n",
       "      <td>11</td>\n",
       "      <td>17</td>\n",
       "      <td>14:24:11</td>\n",
       "      <td>1</td>\n",
       "      <td>6ce024cf19da1ea2d07be757ac87f1edb9e926bd1e76fa...</td>\n",
       "      <td>12szbegicLBGAKaYKDEkxm4WHSV9v1jp5J</td>\n",
       "      <td>112JKu613am7FqJyxycpvcyKbAHgmVugx9</td>\n",
       "      <td>0.004104</td>\n",
       "      <td>1</td>\n",
       "      <td>4102</td>\n",
       "      <td>31732</td>\n",
       "      <td>0.004104</td>\n",
       "      <td>0.004104</td>\n",
       "      <td>0.004104</td>\n",
       "      <td>0.004104</td>\n",
       "      <td>0.004104</td>\n",
       "      <td>0.004104</td>\n",
       "    </tr>\n",
       "    <tr>\n",
       "      <th>4</th>\n",
       "      <td>12</td>\n",
       "      <td>9</td>\n",
       "      <td>21:58:17</td>\n",
       "      <td>2</td>\n",
       "      <td>18551dcb848afa5f76ae196074da3b8226674613079827...</td>\n",
       "      <td>1BQ41qwps4v2hJQs9CTLvFs8ZKzf4JqH1B</td>\n",
       "      <td>112Q1Q11rZvbQdo2YCErQMQbLQQ6HJ21jY</td>\n",
       "      <td>0.010276</td>\n",
       "      <td>0</td>\n",
       "      <td>5753</td>\n",
       "      <td>29452</td>\n",
       "      <td>0.188391</td>\n",
       "      <td>0.004923</td>\n",
       "      <td>0.714888</td>\n",
       "      <td>0.010276</td>\n",
       "      <td>0.010276</td>\n",
       "      <td>0.010276</td>\n",
       "    </tr>\n",
       "  </tbody>\n",
       "</table>\n",
       "</div>"
      ],
      "text/plain": [
       "   Month  Day      Time  DayOfWeek  \\\n",
       "0      7    4  12:04:48          4   \n",
       "1      7    4  12:04:48          4   \n",
       "2      4   16   8:25:51          2   \n",
       "3     11   17  14:24:11          1   \n",
       "4     12    9  21:58:17          2   \n",
       "\n",
       "                                       TransactionID  \\\n",
       "0  0db73422520423519b152bc44824c61faf84088e0bf385...   \n",
       "1  0db73422520423519b152bc44824c61faf84088e0bf385...   \n",
       "2  c802582a0acb3c66caa06ce4e767413086a713c732c893...   \n",
       "3  6ce024cf19da1ea2d07be757ac87f1edb9e926bd1e76fa...   \n",
       "4  18551dcb848afa5f76ae196074da3b8226674613079827...   \n",
       "\n",
       "                         InputAddress                       OutputAddress  \\\n",
       "0  17Su3J2RWnm2WLqf8pfpgj4hFUf6MFH9SZ   111mamKazi1ofZ854rKTcAxhTVuGDPhhL   \n",
       "1  1K4jCTyKSkATCXB6sXAwN3nkyvQveRMqPZ   111mamKazi1ofZ854rKTcAxhTVuGDPhhL   \n",
       "2  14aydKbSbRacakgoYzwFkdbLeirJHruiNc  112AYM2ubn4hEdJjb5NGguuEEo6Snp7oBK   \n",
       "3  12szbegicLBGAKaYKDEkxm4WHSV9v1jp5J  112JKu613am7FqJyxycpvcyKbAHgmVugx9   \n",
       "4  1BQ41qwps4v2hJQs9CTLvFs8ZKzf4JqH1B  112Q1Q11rZvbQdo2YCErQMQbLQQ6HJ21jY   \n",
       "\n",
       "        BTC  Illicit    src    dst    inputMax  inputMin     inputSum  \\\n",
       "0  0.100000        0    263  24076  200.000000  0.100000  1237.246977   \n",
       "1  0.100000        0    741  24076   84.705376  0.100000   694.136401   \n",
       "2  0.015600        0  16319  31397    0.015600  0.015600     0.015600   \n",
       "3  0.004104        1   4102  31732    0.004104  0.004104     0.004104   \n",
       "4  0.010276        0   5753  29452    0.188391  0.004923     0.714888   \n",
       "\n",
       "   outputMax  outputMin  outputSum  \n",
       "0   0.100000   0.100000   0.100000  \n",
       "1   0.100000   0.100000   0.200000  \n",
       "2   0.015600   0.015600   0.015600  \n",
       "3   0.004104   0.004104   0.004104  \n",
       "4   0.010276   0.010276   0.010276  "
      ]
     },
     "execution_count": 22,
     "metadata": {},
     "output_type": "execute_result"
    }
   ],
   "source": [
    "df_final = df_features\n",
    "df_final.head(5)"
   ]
  },
  {
   "cell_type": "code",
   "execution_count": 23,
   "metadata": {},
   "outputs": [
    {
     "data": {
      "text/plain": [
       "Index(['Month', 'Day', 'Time', 'DayOfWeek', 'TransactionID', 'InputAddress',\n",
       "       'OutputAddress', 'BTC', 'Illicit', 'src', 'dst', 'inputMax', 'inputMin',\n",
       "       'inputSum', 'outputMax', 'outputMin', 'outputSum'],\n",
       "      dtype='object')"
      ]
     },
     "execution_count": 23,
     "metadata": {},
     "output_type": "execute_result"
    }
   ],
   "source": [
    "df_final.columns"
   ]
  },
  {
   "cell_type": "code",
   "execution_count": 24,
   "metadata": {},
   "outputs": [],
   "source": [
    "features_pandas = features(g,vertices_df).toPandas()"
   ]
  },
  {
   "cell_type": "code",
   "execution_count": 25,
   "metadata": {
    "scrolled": true
   },
   "outputs": [
    {
     "data": {
      "text/html": [
       "<div>\n",
       "<style scoped>\n",
       "    .dataframe tbody tr th:only-of-type {\n",
       "        vertical-align: middle;\n",
       "    }\n",
       "\n",
       "    .dataframe tbody tr th {\n",
       "        vertical-align: top;\n",
       "    }\n",
       "\n",
       "    .dataframe thead th {\n",
       "        text-align: right;\n",
       "    }\n",
       "</style>\n",
       "<table border=\"1\" class=\"dataframe\">\n",
       "  <thead>\n",
       "    <tr style=\"text-align: right;\">\n",
       "      <th></th>\n",
       "      <th>id</th>\n",
       "      <th>Unique_ID</th>\n",
       "      <th>degree</th>\n",
       "      <th>inDegree</th>\n",
       "      <th>outDegree</th>\n",
       "      <th>pagerank</th>\n",
       "      <th>count</th>\n",
       "      <th>label</th>\n",
       "    </tr>\n",
       "  </thead>\n",
       "  <tbody>\n",
       "    <tr>\n",
       "      <th>0</th>\n",
       "      <td>429</td>\n",
       "      <td>35c9y89b3QiY48sfsZ5a3DAkgTcxtgSuWE</td>\n",
       "      <td>1</td>\n",
       "      <td>NaN</td>\n",
       "      <td>1.0</td>\n",
       "      <td>0.450615</td>\n",
       "      <td>0</td>\n",
       "      <td>23399</td>\n",
       "    </tr>\n",
       "    <tr>\n",
       "      <th>1</th>\n",
       "      <td>1271</td>\n",
       "      <td>1PyMTMjV3KTn7wFMzSpeztLJSsNF7a4gK5</td>\n",
       "      <td>1</td>\n",
       "      <td>NaN</td>\n",
       "      <td>1.0</td>\n",
       "      <td>0.450615</td>\n",
       "      <td>0</td>\n",
       "      <td>234</td>\n",
       "    </tr>\n",
       "    <tr>\n",
       "      <th>2</th>\n",
       "      <td>1650</td>\n",
       "      <td>16RBExMKpEpTFWKZSK6ukFvrceZTRcZ6YG</td>\n",
       "      <td>2</td>\n",
       "      <td>NaN</td>\n",
       "      <td>2.0</td>\n",
       "      <td>0.450615</td>\n",
       "      <td>0</td>\n",
       "      <td>24007</td>\n",
       "    </tr>\n",
       "    <tr>\n",
       "      <th>3</th>\n",
       "      <td>2130</td>\n",
       "      <td>15UG9rBZSNJGKWrJvrxYtoLEeLV1b7sy6g</td>\n",
       "      <td>2</td>\n",
       "      <td>NaN</td>\n",
       "      <td>2.0</td>\n",
       "      <td>0.450615</td>\n",
       "      <td>0</td>\n",
       "      <td>24252</td>\n",
       "    </tr>\n",
       "    <tr>\n",
       "      <th>4</th>\n",
       "      <td>2183</td>\n",
       "      <td>1NdppVU8tHqYXBBHBwDjdpSMjRh2Uia8uQ</td>\n",
       "      <td>1</td>\n",
       "      <td>NaN</td>\n",
       "      <td>1.0</td>\n",
       "      <td>0.450615</td>\n",
       "      <td>0</td>\n",
       "      <td>234</td>\n",
       "    </tr>\n",
       "    <tr>\n",
       "      <th>...</th>\n",
       "      <td>...</td>\n",
       "      <td>...</td>\n",
       "      <td>...</td>\n",
       "      <td>...</td>\n",
       "      <td>...</td>\n",
       "      <td>...</td>\n",
       "      <td>...</td>\n",
       "      <td>...</td>\n",
       "    </tr>\n",
       "    <tr>\n",
       "      <th>35234</th>\n",
       "      <td>34297</td>\n",
       "      <td>3D5dnA2YVmvQvNwWgdt4zR1easrjnezEfy</td>\n",
       "      <td>1</td>\n",
       "      <td>1.0</td>\n",
       "      <td>NaN</td>\n",
       "      <td>0.581626</td>\n",
       "      <td>0</td>\n",
       "      <td>440</td>\n",
       "    </tr>\n",
       "    <tr>\n",
       "      <th>35235</th>\n",
       "      <td>34447</td>\n",
       "      <td>18QcwvVeT1EkW9omhUWQ5LztzUtNzWASGX</td>\n",
       "      <td>1</td>\n",
       "      <td>1.0</td>\n",
       "      <td>NaN</td>\n",
       "      <td>0.454334</td>\n",
       "      <td>0</td>\n",
       "      <td>29</td>\n",
       "    </tr>\n",
       "    <tr>\n",
       "      <th>35236</th>\n",
       "      <td>34675</td>\n",
       "      <td>32dcvtfqTGJ92joYrDEvwnnYfKEnWiXcpn</td>\n",
       "      <td>1</td>\n",
       "      <td>1.0</td>\n",
       "      <td>NaN</td>\n",
       "      <td>1.159208</td>\n",
       "      <td>0</td>\n",
       "      <td>22263</td>\n",
       "    </tr>\n",
       "    <tr>\n",
       "      <th>35237</th>\n",
       "      <td>34720</td>\n",
       "      <td>18kSRiLS5hEcsnkJQ8ramgKhJdD3EZn6w8</td>\n",
       "      <td>1</td>\n",
       "      <td>1.0</td>\n",
       "      <td>NaN</td>\n",
       "      <td>0.661223</td>\n",
       "      <td>0</td>\n",
       "      <td>457</td>\n",
       "    </tr>\n",
       "    <tr>\n",
       "      <th>35238</th>\n",
       "      <td>34935</td>\n",
       "      <td>112n6hnWXTGtNcbYTv6H9JRFWfmLPeSo67</td>\n",
       "      <td>1</td>\n",
       "      <td>1.0</td>\n",
       "      <td>NaN</td>\n",
       "      <td>0.519348</td>\n",
       "      <td>0</td>\n",
       "      <td>62</td>\n",
       "    </tr>\n",
       "  </tbody>\n",
       "</table>\n",
       "<p>35239 rows × 8 columns</p>\n",
       "</div>"
      ],
      "text/plain": [
       "          id                           Unique_ID  degree  inDegree  outDegree  \\\n",
       "0        429  35c9y89b3QiY48sfsZ5a3DAkgTcxtgSuWE       1       NaN        1.0   \n",
       "1       1271  1PyMTMjV3KTn7wFMzSpeztLJSsNF7a4gK5       1       NaN        1.0   \n",
       "2       1650  16RBExMKpEpTFWKZSK6ukFvrceZTRcZ6YG       2       NaN        2.0   \n",
       "3       2130  15UG9rBZSNJGKWrJvrxYtoLEeLV1b7sy6g       2       NaN        2.0   \n",
       "4       2183  1NdppVU8tHqYXBBHBwDjdpSMjRh2Uia8uQ       1       NaN        1.0   \n",
       "...      ...                                 ...     ...       ...        ...   \n",
       "35234  34297  3D5dnA2YVmvQvNwWgdt4zR1easrjnezEfy       1       1.0        NaN   \n",
       "35235  34447  18QcwvVeT1EkW9omhUWQ5LztzUtNzWASGX       1       1.0        NaN   \n",
       "35236  34675  32dcvtfqTGJ92joYrDEvwnnYfKEnWiXcpn       1       1.0        NaN   \n",
       "35237  34720  18kSRiLS5hEcsnkJQ8ramgKhJdD3EZn6w8       1       1.0        NaN   \n",
       "35238  34935  112n6hnWXTGtNcbYTv6H9JRFWfmLPeSo67       1       1.0        NaN   \n",
       "\n",
       "       pagerank  count  label  \n",
       "0      0.450615      0  23399  \n",
       "1      0.450615      0    234  \n",
       "2      0.450615      0  24007  \n",
       "3      0.450615      0  24252  \n",
       "4      0.450615      0    234  \n",
       "...         ...    ...    ...  \n",
       "35234  0.581626      0    440  \n",
       "35235  0.454334      0     29  \n",
       "35236  1.159208      0  22263  \n",
       "35237  0.661223      0    457  \n",
       "35238  0.519348      0     62  \n",
       "\n",
       "[35239 rows x 8 columns]"
      ]
     },
     "execution_count": 25,
     "metadata": {},
     "output_type": "execute_result"
    }
   ],
   "source": [
    "features_pandas"
   ]
  },
  {
   "cell_type": "code",
   "execution_count": 26,
   "metadata": {},
   "outputs": [],
   "source": [
    "ft = features_pandas\n",
    "#ft.columns =new_cols\n",
    "old_cols = ['id','Unique_ID','degree','inDegree','outDegree','pagerank','count','label']\n",
    "new_cols_input = ['id_input','Unique_ID_input','degree_input','inDegree_input','outDegree_input','pagerank_input','tricount_input', 'label_input']\n",
    "new_cols_output = ['id_output','Unique_ID_output','degree_output','inDegree_output','outDegree_output','pagerank_output','tricount_output', 'label_output']\n",
    "ft.columns =new_cols_input\n",
    "df_final_feats = pd.merge(df_final,ft,how='left', left_on='InputAddress', right_on='Unique_ID_input')\n",
    "ft.columns =new_cols_output\n",
    "df_final_feats = pd.merge(df_final_feats,ft,how='left', left_on='OutputAddress', right_on='Unique_ID_output')"
   ]
  },
  {
   "cell_type": "code",
   "execution_count": 27,
   "metadata": {},
   "outputs": [
    {
     "data": {
      "text/html": [
       "<div>\n",
       "<style scoped>\n",
       "    .dataframe tbody tr th:only-of-type {\n",
       "        vertical-align: middle;\n",
       "    }\n",
       "\n",
       "    .dataframe tbody tr th {\n",
       "        vertical-align: top;\n",
       "    }\n",
       "\n",
       "    .dataframe thead th {\n",
       "        text-align: right;\n",
       "    }\n",
       "</style>\n",
       "<table border=\"1\" class=\"dataframe\">\n",
       "  <thead>\n",
       "    <tr style=\"text-align: right;\">\n",
       "      <th></th>\n",
       "      <th>Month</th>\n",
       "      <th>Day</th>\n",
       "      <th>Time</th>\n",
       "      <th>DayOfWeek</th>\n",
       "      <th>TransactionID</th>\n",
       "      <th>InputAddress</th>\n",
       "      <th>OutputAddress</th>\n",
       "      <th>BTC</th>\n",
       "      <th>Illicit</th>\n",
       "      <th>src</th>\n",
       "      <th>...</th>\n",
       "      <th>tricount_input</th>\n",
       "      <th>label_input</th>\n",
       "      <th>id_output</th>\n",
       "      <th>Unique_ID_output</th>\n",
       "      <th>degree_output</th>\n",
       "      <th>inDegree_output</th>\n",
       "      <th>outDegree_output</th>\n",
       "      <th>pagerank_output</th>\n",
       "      <th>tricount_output</th>\n",
       "      <th>label_output</th>\n",
       "    </tr>\n",
       "  </thead>\n",
       "  <tbody>\n",
       "    <tr>\n",
       "      <th>0</th>\n",
       "      <td>7</td>\n",
       "      <td>4</td>\n",
       "      <td>12:04:48</td>\n",
       "      <td>4</td>\n",
       "      <td>0db73422520423519b152bc44824c61faf84088e0bf385...</td>\n",
       "      <td>17Su3J2RWnm2WLqf8pfpgj4hFUf6MFH9SZ</td>\n",
       "      <td>111mamKazi1ofZ854rKTcAxhTVuGDPhhL</td>\n",
       "      <td>0.100000</td>\n",
       "      <td>0</td>\n",
       "      <td>263</td>\n",
       "      <td>...</td>\n",
       "      <td>0</td>\n",
       "      <td>24973</td>\n",
       "      <td>24076</td>\n",
       "      <td>111mamKazi1ofZ854rKTcAxhTVuGDPhhL</td>\n",
       "      <td>2</td>\n",
       "      <td>2.0</td>\n",
       "      <td>NaN</td>\n",
       "      <td>0.458353</td>\n",
       "      <td>0</td>\n",
       "      <td>741</td>\n",
       "    </tr>\n",
       "    <tr>\n",
       "      <th>1</th>\n",
       "      <td>7</td>\n",
       "      <td>4</td>\n",
       "      <td>12:04:48</td>\n",
       "      <td>4</td>\n",
       "      <td>0db73422520423519b152bc44824c61faf84088e0bf385...</td>\n",
       "      <td>1K4jCTyKSkATCXB6sXAwN3nkyvQveRMqPZ</td>\n",
       "      <td>111mamKazi1ofZ854rKTcAxhTVuGDPhhL</td>\n",
       "      <td>0.100000</td>\n",
       "      <td>0</td>\n",
       "      <td>741</td>\n",
       "      <td>...</td>\n",
       "      <td>0</td>\n",
       "      <td>25182</td>\n",
       "      <td>24076</td>\n",
       "      <td>111mamKazi1ofZ854rKTcAxhTVuGDPhhL</td>\n",
       "      <td>2</td>\n",
       "      <td>2.0</td>\n",
       "      <td>NaN</td>\n",
       "      <td>0.458353</td>\n",
       "      <td>0</td>\n",
       "      <td>741</td>\n",
       "    </tr>\n",
       "    <tr>\n",
       "      <th>2</th>\n",
       "      <td>4</td>\n",
       "      <td>16</td>\n",
       "      <td>8:25:51</td>\n",
       "      <td>2</td>\n",
       "      <td>c802582a0acb3c66caa06ce4e767413086a713c732c893...</td>\n",
       "      <td>14aydKbSbRacakgoYzwFkdbLeirJHruiNc</td>\n",
       "      <td>112AYM2ubn4hEdJjb5NGguuEEo6Snp7oBK</td>\n",
       "      <td>0.015600</td>\n",
       "      <td>0</td>\n",
       "      <td>16319</td>\n",
       "      <td>...</td>\n",
       "      <td>0</td>\n",
       "      <td>23236</td>\n",
       "      <td>31397</td>\n",
       "      <td>112AYM2ubn4hEdJjb5NGguuEEo6Snp7oBK</td>\n",
       "      <td>1</td>\n",
       "      <td>1.0</td>\n",
       "      <td>NaN</td>\n",
       "      <td>0.642127</td>\n",
       "      <td>0</td>\n",
       "      <td>3026</td>\n",
       "    </tr>\n",
       "    <tr>\n",
       "      <th>3</th>\n",
       "      <td>11</td>\n",
       "      <td>17</td>\n",
       "      <td>14:24:11</td>\n",
       "      <td>1</td>\n",
       "      <td>6ce024cf19da1ea2d07be757ac87f1edb9e926bd1e76fa...</td>\n",
       "      <td>12szbegicLBGAKaYKDEkxm4WHSV9v1jp5J</td>\n",
       "      <td>112JKu613am7FqJyxycpvcyKbAHgmVugx9</td>\n",
       "      <td>0.004104</td>\n",
       "      <td>1</td>\n",
       "      <td>4102</td>\n",
       "      <td>...</td>\n",
       "      <td>0</td>\n",
       "      <td>19250</td>\n",
       "      <td>31732</td>\n",
       "      <td>112JKu613am7FqJyxycpvcyKbAHgmVugx9</td>\n",
       "      <td>1</td>\n",
       "      <td>1.0</td>\n",
       "      <td>NaN</td>\n",
       "      <td>0.903860</td>\n",
       "      <td>0</td>\n",
       "      <td>4102</td>\n",
       "    </tr>\n",
       "    <tr>\n",
       "      <th>4</th>\n",
       "      <td>12</td>\n",
       "      <td>9</td>\n",
       "      <td>21:58:17</td>\n",
       "      <td>2</td>\n",
       "      <td>18551dcb848afa5f76ae196074da3b8226674613079827...</td>\n",
       "      <td>1BQ41qwps4v2hJQs9CTLvFs8ZKzf4JqH1B</td>\n",
       "      <td>112Q1Q11rZvbQdo2YCErQMQbLQQ6HJ21jY</td>\n",
       "      <td>0.010276</td>\n",
       "      <td>0</td>\n",
       "      <td>5753</td>\n",
       "      <td>...</td>\n",
       "      <td>0</td>\n",
       "      <td>26577</td>\n",
       "      <td>29452</td>\n",
       "      <td>112Q1Q11rZvbQdo2YCErQMQbLQQ6HJ21jY</td>\n",
       "      <td>1</td>\n",
       "      <td>1.0</td>\n",
       "      <td>NaN</td>\n",
       "      <td>0.637339</td>\n",
       "      <td>0</td>\n",
       "      <td>5753</td>\n",
       "    </tr>\n",
       "    <tr>\n",
       "      <th>...</th>\n",
       "      <td>...</td>\n",
       "      <td>...</td>\n",
       "      <td>...</td>\n",
       "      <td>...</td>\n",
       "      <td>...</td>\n",
       "      <td>...</td>\n",
       "      <td>...</td>\n",
       "      <td>...</td>\n",
       "      <td>...</td>\n",
       "      <td>...</td>\n",
       "      <td>...</td>\n",
       "      <td>...</td>\n",
       "      <td>...</td>\n",
       "      <td>...</td>\n",
       "      <td>...</td>\n",
       "      <td>...</td>\n",
       "      <td>...</td>\n",
       "      <td>...</td>\n",
       "      <td>...</td>\n",
       "      <td>...</td>\n",
       "      <td>...</td>\n",
       "    </tr>\n",
       "    <tr>\n",
       "      <th>40820</th>\n",
       "      <td>12</td>\n",
       "      <td>19</td>\n",
       "      <td>9:07:59</td>\n",
       "      <td>5</td>\n",
       "      <td>ac91b2407010f3299ba2d8402dae55626628ce2f3c5824...</td>\n",
       "      <td>bc1q2p55hccg33g6v645nspwnayzpcl99jaf3gyfpx2g8l...</td>\n",
       "      <td>bc1qzjeg3h996kw24zrg69nge97fw8jc4v7v7yznftzk06...</td>\n",
       "      <td>80.010000</td>\n",
       "      <td>1</td>\n",
       "      <td>2809</td>\n",
       "      <td>...</td>\n",
       "      <td>2</td>\n",
       "      <td>397</td>\n",
       "      <td>1987</td>\n",
       "      <td>bc1qzjeg3h996kw24zrg69nge97fw8jc4v7v7yznftzk06...</td>\n",
       "      <td>26</td>\n",
       "      <td>8.0</td>\n",
       "      <td>18.0</td>\n",
       "      <td>8.174521</td>\n",
       "      <td>1</td>\n",
       "      <td>973</td>\n",
       "    </tr>\n",
       "    <tr>\n",
       "      <th>40821</th>\n",
       "      <td>12</td>\n",
       "      <td>20</td>\n",
       "      <td>5:34:42</td>\n",
       "      <td>6</td>\n",
       "      <td>4996c8a8714cea6d0e1df9ee9fa8e5ffcee3a515fe35d5...</td>\n",
       "      <td>bc1q2p55hccg33g6v645nspwnayzpcl99jaf3gyfpx2g8l...</td>\n",
       "      <td>bc1qzjeg3h996kw24zrg69nge97fw8jc4v7v7yznftzk06...</td>\n",
       "      <td>8.874960</td>\n",
       "      <td>1</td>\n",
       "      <td>2809</td>\n",
       "      <td>...</td>\n",
       "      <td>2</td>\n",
       "      <td>397</td>\n",
       "      <td>1987</td>\n",
       "      <td>bc1qzjeg3h996kw24zrg69nge97fw8jc4v7v7yznftzk06...</td>\n",
       "      <td>26</td>\n",
       "      <td>8.0</td>\n",
       "      <td>18.0</td>\n",
       "      <td>8.174521</td>\n",
       "      <td>1</td>\n",
       "      <td>973</td>\n",
       "    </tr>\n",
       "    <tr>\n",
       "      <th>40822</th>\n",
       "      <td>12</td>\n",
       "      <td>20</td>\n",
       "      <td>5:34:42</td>\n",
       "      <td>6</td>\n",
       "      <td>4996c8a8714cea6d0e1df9ee9fa8e5ffcee3a515fe35d5...</td>\n",
       "      <td>bc1q2p55hccg33g6v645nspwnayzpcl99jaf3gyfpx2g8l...</td>\n",
       "      <td>bc1qzjeg3h996kw24zrg69nge97fw8jc4v7v7yznftzk06...</td>\n",
       "      <td>10.000000</td>\n",
       "      <td>1</td>\n",
       "      <td>2809</td>\n",
       "      <td>...</td>\n",
       "      <td>2</td>\n",
       "      <td>397</td>\n",
       "      <td>1987</td>\n",
       "      <td>bc1qzjeg3h996kw24zrg69nge97fw8jc4v7v7yznftzk06...</td>\n",
       "      <td>26</td>\n",
       "      <td>8.0</td>\n",
       "      <td>18.0</td>\n",
       "      <td>8.174521</td>\n",
       "      <td>1</td>\n",
       "      <td>973</td>\n",
       "    </tr>\n",
       "    <tr>\n",
       "      <th>40823</th>\n",
       "      <td>12</td>\n",
       "      <td>1</td>\n",
       "      <td>14:33:17</td>\n",
       "      <td>1</td>\n",
       "      <td>0628c8ae3b05adbf6ff316d351740c19b65968b22a28bf...</td>\n",
       "      <td>3Ao74WwsMpbhJ7pAwkfUxVYYMZSWd9rdYT</td>\n",
       "      <td>bc1qzwr5unft4fkmv0w3xpgj4rdppx56u6ktgttwq0</td>\n",
       "      <td>0.070545</td>\n",
       "      <td>1</td>\n",
       "      <td>1242</td>\n",
       "      <td>...</td>\n",
       "      <td>0</td>\n",
       "      <td>1242</td>\n",
       "      <td>34764</td>\n",
       "      <td>bc1qzwr5unft4fkmv0w3xpgj4rdppx56u6ktgttwq0</td>\n",
       "      <td>1</td>\n",
       "      <td>1.0</td>\n",
       "      <td>NaN</td>\n",
       "      <td>0.719409</td>\n",
       "      <td>0</td>\n",
       "      <td>1242</td>\n",
       "    </tr>\n",
       "    <tr>\n",
       "      <th>40824</th>\n",
       "      <td>11</td>\n",
       "      <td>22</td>\n",
       "      <td>13:28:45</td>\n",
       "      <td>6</td>\n",
       "      <td>4bb72a4e2164d36907ad67e2d764b7a64ed2c0e6e9e7e2...</td>\n",
       "      <td>1K7rmWyfKQnNuevEgMbCWf8qRVbQ1N84rv</td>\n",
       "      <td>bc1qzxpa9d8adqdut3dfpatmncuda87nfz5tytc89d</td>\n",
       "      <td>0.001149</td>\n",
       "      <td>1</td>\n",
       "      <td>7873</td>\n",
       "      <td>...</td>\n",
       "      <td>0</td>\n",
       "      <td>30719</td>\n",
       "      <td>30937</td>\n",
       "      <td>bc1qzxpa9d8adqdut3dfpatmncuda87nfz5tytc89d</td>\n",
       "      <td>1</td>\n",
       "      <td>1.0</td>\n",
       "      <td>NaN</td>\n",
       "      <td>0.619146</td>\n",
       "      <td>0</td>\n",
       "      <td>7873</td>\n",
       "    </tr>\n",
       "  </tbody>\n",
       "</table>\n",
       "<p>40825 rows × 33 columns</p>\n",
       "</div>"
      ],
      "text/plain": [
       "       Month  Day      Time  DayOfWeek  \\\n",
       "0          7    4  12:04:48          4   \n",
       "1          7    4  12:04:48          4   \n",
       "2          4   16   8:25:51          2   \n",
       "3         11   17  14:24:11          1   \n",
       "4         12    9  21:58:17          2   \n",
       "...      ...  ...       ...        ...   \n",
       "40820     12   19   9:07:59          5   \n",
       "40821     12   20   5:34:42          6   \n",
       "40822     12   20   5:34:42          6   \n",
       "40823     12    1  14:33:17          1   \n",
       "40824     11   22  13:28:45          6   \n",
       "\n",
       "                                           TransactionID  \\\n",
       "0      0db73422520423519b152bc44824c61faf84088e0bf385...   \n",
       "1      0db73422520423519b152bc44824c61faf84088e0bf385...   \n",
       "2      c802582a0acb3c66caa06ce4e767413086a713c732c893...   \n",
       "3      6ce024cf19da1ea2d07be757ac87f1edb9e926bd1e76fa...   \n",
       "4      18551dcb848afa5f76ae196074da3b8226674613079827...   \n",
       "...                                                  ...   \n",
       "40820  ac91b2407010f3299ba2d8402dae55626628ce2f3c5824...   \n",
       "40821  4996c8a8714cea6d0e1df9ee9fa8e5ffcee3a515fe35d5...   \n",
       "40822  4996c8a8714cea6d0e1df9ee9fa8e5ffcee3a515fe35d5...   \n",
       "40823  0628c8ae3b05adbf6ff316d351740c19b65968b22a28bf...   \n",
       "40824  4bb72a4e2164d36907ad67e2d764b7a64ed2c0e6e9e7e2...   \n",
       "\n",
       "                                            InputAddress  \\\n",
       "0                     17Su3J2RWnm2WLqf8pfpgj4hFUf6MFH9SZ   \n",
       "1                     1K4jCTyKSkATCXB6sXAwN3nkyvQveRMqPZ   \n",
       "2                     14aydKbSbRacakgoYzwFkdbLeirJHruiNc   \n",
       "3                     12szbegicLBGAKaYKDEkxm4WHSV9v1jp5J   \n",
       "4                     1BQ41qwps4v2hJQs9CTLvFs8ZKzf4JqH1B   \n",
       "...                                                  ...   \n",
       "40820  bc1q2p55hccg33g6v645nspwnayzpcl99jaf3gyfpx2g8l...   \n",
       "40821  bc1q2p55hccg33g6v645nspwnayzpcl99jaf3gyfpx2g8l...   \n",
       "40822  bc1q2p55hccg33g6v645nspwnayzpcl99jaf3gyfpx2g8l...   \n",
       "40823                 3Ao74WwsMpbhJ7pAwkfUxVYYMZSWd9rdYT   \n",
       "40824                 1K7rmWyfKQnNuevEgMbCWf8qRVbQ1N84rv   \n",
       "\n",
       "                                           OutputAddress        BTC  Illicit  \\\n",
       "0                      111mamKazi1ofZ854rKTcAxhTVuGDPhhL   0.100000        0   \n",
       "1                      111mamKazi1ofZ854rKTcAxhTVuGDPhhL   0.100000        0   \n",
       "2                     112AYM2ubn4hEdJjb5NGguuEEo6Snp7oBK   0.015600        0   \n",
       "3                     112JKu613am7FqJyxycpvcyKbAHgmVugx9   0.004104        1   \n",
       "4                     112Q1Q11rZvbQdo2YCErQMQbLQQ6HJ21jY   0.010276        0   \n",
       "...                                                  ...        ...      ...   \n",
       "40820  bc1qzjeg3h996kw24zrg69nge97fw8jc4v7v7yznftzk06...  80.010000        1   \n",
       "40821  bc1qzjeg3h996kw24zrg69nge97fw8jc4v7v7yznftzk06...   8.874960        1   \n",
       "40822  bc1qzjeg3h996kw24zrg69nge97fw8jc4v7v7yznftzk06...  10.000000        1   \n",
       "40823         bc1qzwr5unft4fkmv0w3xpgj4rdppx56u6ktgttwq0   0.070545        1   \n",
       "40824         bc1qzxpa9d8adqdut3dfpatmncuda87nfz5tytc89d   0.001149        1   \n",
       "\n",
       "         src  ...  tricount_input  label_input  id_output  \\\n",
       "0        263  ...               0        24973      24076   \n",
       "1        741  ...               0        25182      24076   \n",
       "2      16319  ...               0        23236      31397   \n",
       "3       4102  ...               0        19250      31732   \n",
       "4       5753  ...               0        26577      29452   \n",
       "...      ...  ...             ...          ...        ...   \n",
       "40820   2809  ...               2          397       1987   \n",
       "40821   2809  ...               2          397       1987   \n",
       "40822   2809  ...               2          397       1987   \n",
       "40823   1242  ...               0         1242      34764   \n",
       "40824   7873  ...               0        30719      30937   \n",
       "\n",
       "                                        Unique_ID_output  degree_output  \\\n",
       "0                      111mamKazi1ofZ854rKTcAxhTVuGDPhhL              2   \n",
       "1                      111mamKazi1ofZ854rKTcAxhTVuGDPhhL              2   \n",
       "2                     112AYM2ubn4hEdJjb5NGguuEEo6Snp7oBK              1   \n",
       "3                     112JKu613am7FqJyxycpvcyKbAHgmVugx9              1   \n",
       "4                     112Q1Q11rZvbQdo2YCErQMQbLQQ6HJ21jY              1   \n",
       "...                                                  ...            ...   \n",
       "40820  bc1qzjeg3h996kw24zrg69nge97fw8jc4v7v7yznftzk06...             26   \n",
       "40821  bc1qzjeg3h996kw24zrg69nge97fw8jc4v7v7yznftzk06...             26   \n",
       "40822  bc1qzjeg3h996kw24zrg69nge97fw8jc4v7v7yznftzk06...             26   \n",
       "40823         bc1qzwr5unft4fkmv0w3xpgj4rdppx56u6ktgttwq0              1   \n",
       "40824         bc1qzxpa9d8adqdut3dfpatmncuda87nfz5tytc89d              1   \n",
       "\n",
       "       inDegree_output  outDegree_output  pagerank_output tricount_output  \\\n",
       "0                  2.0               NaN         0.458353               0   \n",
       "1                  2.0               NaN         0.458353               0   \n",
       "2                  1.0               NaN         0.642127               0   \n",
       "3                  1.0               NaN         0.903860               0   \n",
       "4                  1.0               NaN         0.637339               0   \n",
       "...                ...               ...              ...             ...   \n",
       "40820              8.0              18.0         8.174521               1   \n",
       "40821              8.0              18.0         8.174521               1   \n",
       "40822              8.0              18.0         8.174521               1   \n",
       "40823              1.0               NaN         0.719409               0   \n",
       "40824              1.0               NaN         0.619146               0   \n",
       "\n",
       "       label_output  \n",
       "0               741  \n",
       "1               741  \n",
       "2              3026  \n",
       "3              4102  \n",
       "4              5753  \n",
       "...             ...  \n",
       "40820           973  \n",
       "40821           973  \n",
       "40822           973  \n",
       "40823          1242  \n",
       "40824          7873  \n",
       "\n",
       "[40825 rows x 33 columns]"
      ]
     },
     "execution_count": 27,
     "metadata": {},
     "output_type": "execute_result"
    }
   ],
   "source": [
    "df_final_feats"
   ]
  },
  {
   "cell_type": "code",
   "execution_count": 28,
   "metadata": {},
   "outputs": [
    {
     "data": {
      "text/plain": [
       "Index(['Month', 'Day', 'Time', 'DayOfWeek', 'TransactionID', 'InputAddress',\n",
       "       'OutputAddress', 'BTC', 'Illicit', 'src', 'dst', 'inputMax', 'inputMin',\n",
       "       'inputSum', 'outputMax', 'outputMin', 'outputSum', 'id_input',\n",
       "       'Unique_ID_input', 'degree_input', 'inDegree_input', 'outDegree_input',\n",
       "       'pagerank_input', 'tricount_input', 'label_input', 'id_output',\n",
       "       'Unique_ID_output', 'degree_output', 'inDegree_output',\n",
       "       'outDegree_output', 'pagerank_output', 'tricount_output',\n",
       "       'label_output'],\n",
       "      dtype='object')"
      ]
     },
     "execution_count": 28,
     "metadata": {},
     "output_type": "execute_result"
    }
   ],
   "source": [
    "df_final_feats.columns"
   ]
  },
  {
   "cell_type": "code",
   "execution_count": 29,
   "metadata": {},
   "outputs": [
    {
     "name": "stdout",
     "output_type": "stream",
     "text": [
      "<class 'pandas.core.frame.DataFrame'>\n",
      "Int64Index: 40825 entries, 0 to 40824\n",
      "Data columns (total 24 columns):\n",
      " #   Column            Non-Null Count  Dtype  \n",
      "---  ------            --------------  -----  \n",
      " 0   InputAddress      40825 non-null  object \n",
      " 1   OutputAddress     40825 non-null  object \n",
      " 2   BTC               40825 non-null  float64\n",
      " 3   Month             40825 non-null  int64  \n",
      " 4   DayOfWeek         40825 non-null  int64  \n",
      " 5   inputMax          40825 non-null  float64\n",
      " 6   inputMin          40825 non-null  float64\n",
      " 7   inputSum          40825 non-null  float64\n",
      " 8   outputMax         40825 non-null  float64\n",
      " 9   outputMin         40825 non-null  float64\n",
      " 10  outputSum         40825 non-null  float64\n",
      " 11  Illicit           40825 non-null  int64  \n",
      " 12  degree_input      40825 non-null  int32  \n",
      " 13  inDegree_input    40825 non-null  float64\n",
      " 14  outDegree_input   40825 non-null  float64\n",
      " 15  pagerank_input    40825 non-null  float64\n",
      " 16  tricount_input    40825 non-null  int64  \n",
      " 17  degree_output     40825 non-null  int32  \n",
      " 18  inDegree_output   40825 non-null  float64\n",
      " 19  outDegree_output  40825 non-null  float64\n",
      " 20  pagerank_output   40825 non-null  float64\n",
      " 21  tricount_output   40825 non-null  int64  \n",
      " 22  label_input       40825 non-null  int64  \n",
      " 23  label_output      40825 non-null  int64  \n",
      "dtypes: float64(13), int32(2), int64(7), object(2)\n",
      "memory usage: 7.5+ MB\n"
     ]
    }
   ],
   "source": [
    "dataset = df_final_feats[['InputAddress','OutputAddress','BTC','Month', 'DayOfWeek', 'inputMax', 'inputMin',\n",
    " 'inputSum', 'outputMax', 'outputMin', 'outputSum', 'Illicit','degree_input', 'inDegree_input', 'outDegree_input', 'pagerank_input','tricount_input','degree_output',\n",
    " 'inDegree_output', 'outDegree_output', 'pagerank_output','tricount_output','label_input', 'label_output']]\n",
    "dataset_clean =dataset.fillna(0)\n",
    "dataset_clean.info()"
   ]
  },
  {
   "cell_type": "code",
   "execution_count": 30,
   "metadata": {},
   "outputs": [],
   "source": [
    "communities = g.labelPropagation(maxIter=5)"
   ]
  },
  {
   "cell_type": "code",
   "execution_count": 31,
   "metadata": {},
   "outputs": [
    {
     "name": "stdout",
     "output_type": "stream",
     "text": [
      "+--------------------+----+-----+\n",
      "|           Unique_ID|  id|label|\n",
      "+--------------------+----+-----+\n",
      "|1NEBbG8bujmEr7Bp2...|  26|  234|\n",
      "|1JVQw1siukrxGFTZy...|  29|  174|\n",
      "|3J7eTNUSKFfLWVnU4...| 474|10311|\n",
      "|16sVyTzQ7AUG2zSaP...| 964|  234|\n",
      "|1B86VJfLwf4DJxYdF...|1677| 7997|\n",
      "|19TMx58nqbmgbydbM...|1697|23236|\n",
      "|3BPavRnkuqMJebApG...|1806|24094|\n",
      "|1D9bqaeXcaNmSXPSY...|1950| 6993|\n",
      "|1DYXJBsh9DfDD9915...|2040|  234|\n",
      "|1H79ZqRFrhvUGkozk...|2214|25353|\n",
      "+--------------------+----+-----+\n",
      "only showing top 10 rows\n",
      "\n"
     ]
    }
   ],
   "source": [
    "communities.persist().show(10)"
   ]
  },
  {
   "cell_type": "code",
   "execution_count": 32,
   "metadata": {},
   "outputs": [
    {
     "data": {
      "text/plain": [
       "Index(['BTC', 'Month', 'DayOfWeek', 'inputMax', 'inputMin', 'inputSum',\n",
       "       'outputMax', 'outputMin', 'outputSum', 'Illicit', 'degree_input',\n",
       "       'inDegree_input', 'outDegree_input', 'pagerank_input', 'tricount_input',\n",
       "       'degree_output', 'inDegree_output', 'outDegree_output',\n",
       "       'pagerank_output', 'tricount_output', 'label_input', 'label_output'],\n",
       "      dtype='object')"
      ]
     },
     "execution_count": 32,
     "metadata": {},
     "output_type": "execute_result"
    }
   ],
   "source": [
    "dataset[(dataset.select_dtypes('number').columns)].columns"
   ]
  },
  {
   "cell_type": "code",
   "execution_count": 33,
   "metadata": {},
   "outputs": [
    {
     "name": "stderr",
     "output_type": "stream",
     "text": [
      "C:\\Users\\harsmith\\AppData\\Local\\Temp\\ipykernel_27620\\72163655.py:2: RuntimeWarning: More than 20 figures have been opened. Figures created through the pyplot interface (`matplotlib.pyplot.figure`) are retained until explicitly closed and may consume too much memory. (To control this warning, see the rcParam `figure.max_open_warning`).\n",
      "  plt.figure(figsize = (3, 3))\n"
     ]
    },
    {
     "data": {
      "image/png": "[encoded data removed]",
      "text/plain": [
       "<Figure size 216x216 with 1 Axes>"
      ]
     },
     "metadata": {
      "needs_background": "light"
     },
     "output_type": "display_data"
    },
    {
     "data": {
      "image/png": "[encoded data removed]",
      "text/plain": [
       "<Figure size 216x216 with 1 Axes>"
      ]
     },
     "metadata": {
      "needs_background": "light"
     },
     "output_type": "display_data"
    },
    {
     "data": {
      "image/png": "[encoded data removed]",
      "text/plain": [
       "<Figure size 216x216 with 1 Axes>"
      ]
     },
     "metadata": {
      "needs_background": "light"
     },
     "output_type": "display_data"
    },
    {
     "data": {
      "image/png": "[encoded data removed]",
      "text/plain": [
       "<Figure size 216x216 with 1 Axes>"
      ]
     },
     "metadata": {
      "needs_background": "light"
     },
     "output_type": "display_data"
    },
    {
     "data": {
      "image/png": "[encoded data removed]",
      "text/plain": [
       "<Figure size 216x216 with 1 Axes>"
      ]
     },
     "metadata": {
      "needs_background": "light"
     },
     "output_type": "display_data"
    },
    {
     "data": {
      "image/png": "[encoded data removed]",
      "text/plain": [
       "<Figure size 216x216 with 1 Axes>"
      ]
     },
     "metadata": {
      "needs_background": "light"
     },
     "output_type": "display_data"
    },
    {
     "data": {
      "image/png": "[encoded data removed]",
      "text/plain": [
       "<Figure size 216x216 with 1 Axes>"
      ]
     },
     "metadata": {
      "needs_background": "light"
     },
     "output_type": "display_data"
    },
    {
     "data": {
      "image/png": "[encoded data removed]",
      "text/plain": [
       "<Figure size 216x216 with 1 Axes>"
      ]
     },
     "metadata": {
      "needs_background": "light"
     },
     "output_type": "display_data"
    },
    {
     "data": {
      "image/png": "[encoded data removed]",
      "text/plain": [
       "<Figure size 216x216 with 1 Axes>"
      ]
     },
     "metadata": {
      "needs_background": "light"
     },
     "output_type": "display_data"
    },
    {
     "data": {
      "image/png": "[encoded data removed]",
      "text/plain": [
       "<Figure size 216x216 with 1 Axes>"
      ]
     },
     "metadata": {
      "needs_background": "light"
     },
     "output_type": "display_data"
    },
    {
     "data": {
      "image/png": "[encoded data removed]",
      "text/plain": [
       "<Figure size 216x216 with 1 Axes>"
      ]
     },
     "metadata": {
      "needs_background": "light"
     },
     "output_type": "display_data"
    },
    {
     "data": {
      "image/png": "[encoded data removed]",
      "text/plain": [
       "<Figure size 216x216 with 1 Axes>"
      ]
     },
     "metadata": {
      "needs_background": "light"
     },
     "output_type": "display_data"
    },
    {
     "data": {
      "image/png": "[encoded data removed]",
      "text/plain": [
       "<Figure size 216x216 with 1 Axes>"
      ]
     },
     "metadata": {
      "needs_background": "light"
     },
     "output_type": "display_data"
    },
    {
     "data": {
      "image/png": "[encoded data removed]",
      "text/plain": [
       "<Figure size 216x216 with 1 Axes>"
      ]
     },
     "metadata": {
      "needs_background": "light"
     },
     "output_type": "display_data"
    },
    {
     "data": {
      "image/png": "[encoded data removed]",
      "text/plain": [
       "<Figure size 216x216 with 1 Axes>"
      ]
     },
     "metadata": {
      "needs_background": "light"
     },
     "output_type": "display_data"
    },
    {
     "data": {
      "image/png": "[encoded data removed]",
      "text/plain": [
       "<Figure size 216x216 with 1 Axes>"
      ]
     },
     "metadata": {
      "needs_background": "light"
     },
     "output_type": "display_data"
    },
    {
     "data": {
      "image/png": "[encoded data removed]",
      "text/plain": [
       "<Figure size 216x216 with 1 Axes>"
      ]
     },
     "metadata": {
      "needs_background": "light"
     },
     "output_type": "display_data"
    },
    {
     "data": {
      "image/png": "[encoded data removed]",
      "text/plain": [
       "<Figure size 216x216 with 1 Axes>"
      ]
     },
     "metadata": {
      "needs_background": "light"
     },
     "output_type": "display_data"
    },
    {
     "data": {
      "image/png": "[encoded data removed]",
      "text/plain": [
       "<Figure size 216x216 with 1 Axes>"
      ]
     },
     "metadata": {
      "needs_background": "light"
     },
     "output_type": "display_data"
    },
    {
     "data": {
      "image/png": "[encoded data removed]",
      "text/plain": [
       "<Figure size 216x216 with 1 Axes>"
      ]
     },
     "metadata": {
      "needs_background": "light"
     },
     "output_type": "display_data"
    },
    {
     "data": {
      "image/png": "[encoded data removed]",
      "text/plain": [
       "<Figure size 216x216 with 1 Axes>"
      ]
     },
     "metadata": {
      "needs_background": "light"
     },
     "output_type": "display_data"
    },
    {
     "data": {
      "image/png": "[encoded data removed]",
      "text/plain": [
       "<Figure size 216x216 with 1 Axes>"
      ]
     },
     "metadata": {
      "needs_background": "light"
     },
     "output_type": "display_data"
    }
   ],
   "source": [
    "for col in dataset_clean[(dataset_clean.select_dtypes('number').columns)]:\n",
    "    plt.figure(figsize = (3, 3))\n",
    "    ax = sns.boxplot(x='Illicit', y=col, data=dataset_clean[(dataset_clean.select_dtypes('number').columns)])\n",
    "    plt.setp(ax.artists, alpha=.5, linewidth=2, edgecolor=\"k\")\n",
    "    plt.xticks(rotation=45)"
   ]
  },
  {
   "cell_type": "code",
   "execution_count": 34,
   "metadata": {},
   "outputs": [
    {
     "data": {
      "text/plain": [
       "False    27825\n",
       "True     13000\n",
       "Name: Illicit, dtype: int64"
      ]
     },
     "execution_count": 34,
     "metadata": {},
     "output_type": "execute_result"
    }
   ],
   "source": [
    "dataset_final = dataset_clean[dataset_clean['Illicit']!= 2]\n",
    "dataset_final['Illicit'] = dataset_final['Illicit'].astype('bool')\n",
    "dataset_final['Illicit'].value_counts()"
   ]
  },
  {
   "cell_type": "code",
   "execution_count": 35,
   "metadata": {},
   "outputs": [
    {
     "name": "stderr",
     "output_type": "stream",
     "text": [
      "C:\\Users\\harsmith\\AppData\\Local\\Temp\\ipykernel_27620\\597184157.py:10: FutureWarning: The series.append method is deprecated and will be removed from pandas in a future version. Use pandas.concat instead.\n",
      "  uniq = x_test['InputAddress'].append(x_test['OutputAddress'])\n"
     ]
    }
   ],
   "source": [
    "#Split data into variables and test & train\n",
    "# Removed the wallets from the train set that were in the test set\n",
    "# stopped data leakage from training set to the test set\n",
    "\n",
    "to_drop = ['Illicit']\n",
    "\n",
    "y, x = dataset_final['Illicit'], dataset_final.drop(columns = to_drop)\n",
    "x_train, x_test, y_train, y_test = train_test_split(x, y, test_size=0.1, random_state=0, stratify=y)\n",
    "\n",
    "uniq = x_test['InputAddress'].append(x_test['OutputAddress'])\n",
    "uniq_list = uniq.unique()\n",
    "\n",
    "\n",
    "x_train_mod = x_train[(x_train['InputAddress'].isin(uniq_list) | x_train['OutputAddress'].isin(uniq_list))==False]\n",
    "x_train_mod = x_train_mod.drop(columns=['InputAddress','OutputAddress']) #Just put on new line to see whole statement\n",
    "\n",
    "y_train_mod = y_train[y_train.index.isin(x_train_mod.index)]\n",
    "x_test_mod = x_test.drop(columns=['InputAddress','OutputAddress'] )\n",
    "\n"
   ]
  },
  {
   "cell_type": "code",
   "execution_count": 36,
   "metadata": {},
   "outputs": [
    {
     "data": {
      "text/plain": [
       "(5448, 21)"
      ]
     },
     "execution_count": 36,
     "metadata": {},
     "output_type": "execute_result"
    }
   ],
   "source": [
    "x_train_mod.shape"
   ]
  },
  {
   "cell_type": "code",
   "execution_count": 37,
   "metadata": {},
   "outputs": [
    {
     "data": {
      "text/plain": [
       "(4083, 21)"
      ]
     },
     "execution_count": 37,
     "metadata": {},
     "output_type": "execute_result"
    }
   ],
   "source": [
    "x_test_mod.shape\n",
    "# dont do anythin to do this keep it the same as the output from train_test_split"
   ]
  },
  {
   "cell_type": "markdown",
   "metadata": {},
   "source": [
    "# Light GBM Ensemble Model"
   ]
  },
  {
   "cell_type": "code",
   "execution_count": 38,
   "metadata": {},
   "outputs": [
    {
     "name": "stdout",
     "output_type": "stream",
     "text": [
      "Fitting 5 folds for each of 4096 candidates, totalling 20480 fits\n"
     ]
    },
    {
     "name": "stderr",
     "output_type": "stream",
     "text": [
      "C:\\Users\\harsmith\\Anaconda3\\lib\\site-packages\\lightgbm\\sklearn.py:598: UserWarning: 'silent' argument is deprecated and will be removed in a future release of LightGBM. Pass 'verbose' parameter via keyword arguments instead.\n",
      "  _log_warning(\"'silent' argument is deprecated and will be removed in a future release of LightGBM. \"\n",
      "C:\\Users\\harsmith\\Anaconda3\\lib\\site-packages\\lightgbm\\engine.py:177: UserWarning: Found `n_estimators` in params. Will use it instead of argument\n",
      "  _log_warning(f\"Found `{alias}` in params. Will use it instead of argument\")\n",
      "C:\\Users\\harsmith\\Anaconda3\\lib\\site-packages\\lightgbm\\engine.py:181: UserWarning: 'early_stopping_rounds' argument is deprecated and will be removed in a future release of LightGBM. Pass 'early_stopping()' callback via 'callbacks' argument instead.\n",
      "  _log_warning(\"'early_stopping_rounds' argument is deprecated and will be removed in a future release of LightGBM. \"\n",
      "C:\\Users\\harsmith\\Anaconda3\\lib\\site-packages\\lightgbm\\engine.py:239: UserWarning: 'verbose_eval' argument is deprecated and will be removed in a future release of LightGBM. Pass 'log_evaluation()' callback via 'callbacks' argument instead.\n",
      "  _log_warning(\"'verbose_eval' argument is deprecated and will be removed in a future release of LightGBM. \"\n",
      "C:\\Users\\harsmith\\Anaconda3\\lib\\site-packages\\lightgbm\\engine.py:260: UserWarning: 'evals_result' argument is deprecated and will be removed in a future release of LightGBM. Pass 'record_evaluation()' callback via 'callbacks' argument instead.\n",
      "  _log_warning(\"'evals_result' argument is deprecated and will be removed in a future release of LightGBM. \"\n"
     ]
    },
    {
     "name": "stdout",
     "output_type": "stream",
     "text": [
      "[LightGBM] [Warning] feature_fraction is set=1.0, colsample_bytree=1.0 will be ignored. Current value: feature_fraction=1.0\n",
      "[LightGBM] [Warning] min_gain_to_split is set=0.0, min_split_gain=0.0 will be ignored. Current value: min_gain_to_split=0.0\n",
      "[LightGBM] [Warning] lambda_l1 is set=0.0, reg_alpha=0.0 will be ignored. Current value: lambda_l1=0.0\n",
      "[LightGBM] [Warning] bagging_fraction is set=1.0, subsample=1.0 will be ignored. Current value: bagging_fraction=1.0\n",
      "[LightGBM] [Warning] lambda_l2 is set=0.0, reg_lambda=0.0 will be ignored. Current value: lambda_l2=0.0\n",
      "[LightGBM] [Warning] bagging_freq is set=1, subsample_freq=0 will be ignored. Current value: bagging_freq=1\n",
      "{'bagging_fraction': 1.0, 'bagging_freq': 1, 'boosting_type': 'gbdt', 'feature_fraction': 1.0, 'lambda_l1': 0.0, 'lambda_l2': 0.0, 'learning_rate': 0.08, 'max_bin': 250, 'max_depth': 12, 'metric': 'binary_logloss', 'min_child_samples': 5, 'min_gain_to_split': 0.0, 'n_estimators': 25, 'num_leaves': 64, 'objective': 'binary'}\n",
      "0.9944424698067433\n",
      "Fitting with params: \n",
      "{'boosting_type': 'gbdt', 'max_depth': 12, 'objective': 'binary', 'nthread': 5, 'is_unbalance': True, 'num_leaves': 64, 'learning_rate': 0.08, 'max_bin': 250, 'metric': {'binary_logloss'}, 'reg_alpha': 0.5, 'reg_lambda': 1.5, 'n_estimators': 25, 'min_gain_to_split': 0.0, 'lambda_l1': 0.0, 'lambda_l2': 0.0, 'feature_fraction': 1.0, 'bagging_fraction': 1.0, 'min_child_samples': 5}\n",
      "[LightGBM] [Warning] lambda_l1 is set=0.0, reg_alpha=0.5 will be ignored. Current value: lambda_l1=0.0\n",
      "[LightGBM] [Warning] lambda_l2 is set=0.0, reg_lambda=1.5 will be ignored. Current value: lambda_l2=0.0\n",
      "[LightGBM] [Info] Number of positive: 2513, number of negative: 2935\n",
      "[LightGBM] [Warning] Auto-choosing col-wise multi-threading, the overhead of testing was 0.000507 seconds.\n",
      "You can set `force_col_wise=true` to remove the overhead.\n",
      "[LightGBM] [Info] Total Bins 2696\n",
      "[LightGBM] [Info] Number of data points in the train set: 5448, number of used features: 21\n",
      "[LightGBM] [Warning] lambda_l1 is set=0.0, reg_alpha=0.5 will be ignored. Current value: lambda_l1=0.0\n",
      "[LightGBM] [Warning] lambda_l2 is set=0.0, reg_lambda=1.5 will be ignored. Current value: lambda_l2=0.0\n",
      "[LightGBM] [Info] [binary:BoostFromScore]: pavg=0.461270 -> initscore=-0.155230\n",
      "[LightGBM] [Info] Start training from score -0.155230\n",
      "[LightGBM] [Warning] No further splits with positive gain, best gain: -inf\n",
      "Training until validation scores don't improve for 40 rounds\n",
      "[LightGBM] [Warning] No further splits with positive gain, best gain: -inf\n",
      "[LightGBM] [Warning] No further splits with positive gain, best gain: -inf\n",
      "[LightGBM] [Warning] No further splits with positive gain, best gain: -inf\n",
      "[LightGBM] [Warning] No further splits with positive gain, best gain: -inf\n",
      "[LightGBM] [Warning] No further splits with positive gain, best gain: -inf\n",
      "[LightGBM] [Warning] No further splits with positive gain, best gain: -inf\n",
      "[LightGBM] [Warning] No further splits with positive gain, best gain: -inf\n",
      "[LightGBM] [Warning] No further splits with positive gain, best gain: -inf\n",
      "[LightGBM] [Warning] No further splits with positive gain, best gain: -inf\n",
      "[10]\ttraining's binary_logloss: 0.251132\tvalid_0's binary_logloss: 0.330864\n",
      "[LightGBM] [Warning] No further splits with positive gain, best gain: -inf\n",
      "[LightGBM] [Warning] No further splits with positive gain, best gain: -inf\n",
      "[20]\ttraining's binary_logloss: 0.10692\tvalid_0's binary_logloss: 0.246255\n",
      "Did not meet early stopping. Best iteration is:\n",
      "[25]\ttraining's binary_logloss: 0.071198\tvalid_0's binary_logloss: 0.238452\n",
      "Overall Light GBM model accuracy: 0.9282390399216263\n"
     ]
    },
    {
     "data": {
      "image/png": "[encoded data removed]",
      "text/plain": [
       "<Figure size 432x288 with 1 Axes>"
      ]
     },
     "metadata": {
      "needs_background": "light"
     },
     "output_type": "display_data"
    },
    {
     "data": {
      "image/png": "[encoded data removed]",
      "text/plain": [
       "<Figure size 432x288 with 1 Axes>"
      ]
     },
     "metadata": {
      "needs_background": "light"
     },
     "output_type": "display_data"
    },
    {
     "name": "stdout",
     "output_type": "stream",
     "text": [
      "AUC score: 0.9696980292434838\n"
     ]
    },
    {
     "data": {
      "text/plain": [
       "<Figure size 432x288 with 0 Axes>"
      ]
     },
     "metadata": {},
     "output_type": "display_data"
    },
    {
     "data": {
      "image/png": "[encoded data removed]",
      "text/plain": [
       "<Figure size 576x432 with 2 Axes>"
      ]
     },
     "metadata": {
      "needs_background": "light"
     },
     "output_type": "display_data"
    }
   ],
   "source": [
    "import numpy as np\n",
    "train_data=lgb.Dataset(x_train_mod, label=y_train_mod)#, categorical_feature=categorical_features)\n",
    "test_data = lgb.Dataset(x_test_mod, label=y_test)#, categorical_feature=categorical_features)\n",
    "\n",
    "# to record eval results for plotting\n",
    "evals_result = {} \n",
    "\n",
    "#Select Hyper-Parameters\n",
    "params = {'boosting_type': 'gbdt',\n",
    "          'max_depth' : -1,\n",
    "          'objective': 'binary',\n",
    "          'nthread': 5,\n",
    "          'is_unbalance': True,\n",
    "          'num_leaves': 64,\n",
    "          'learning_rate': 0.07,\n",
    "          'max_bin': 300,#512\n",
    "          'metric' : {'binary_logloss'},\n",
    "          'reg_alpha': .5,\n",
    "          'reg_lambda': 1.5,\n",
    "         \n",
    "        }\n",
    "\n",
    "# Create parameters to search\n",
    "gridParams = {\n",
    "    'learning_rate': [0.01,0.08],\n",
    "    'n_estimators': [8,25],\n",
    "    'num_leaves': [30,64],\n",
    "    'boosting_type' : ['gbdt'],\n",
    "    'objective' : ['binary'],\n",
    "    'num_leaves':[12,64],\n",
    "    'max_bin': [50,250],\n",
    "    \"max_depth\": [3,12],\n",
    "    'metric' : ['binary_logloss'],\n",
    "    \"min_gain_to_split\": [0.0,15.0],\n",
    "    'lambda_l1': [0.0, 10.0],\n",
    "    'lambda_l2': [0.0, 10.0],\n",
    "    'feature_fraction': [0.4, 1.0],\n",
    "    'bagging_fraction': [0.4, 1.0],\n",
    "    'bagging_freq': [1,7],\n",
    "    'min_child_samples': [5,100],\n",
    "    }\n",
    "\n",
    "# Create the LGBM Classifier to use in the hyperparameter optimization.\n",
    "mdl = lgb.LGBMClassifier(boosting_type= 'gbdt',\n",
    "          objective = 'binary',\n",
    "          n_jobs = 5, \n",
    "          silent = True,\n",
    "          max_depth = params['max_depth'],\n",
    "          max_bin = params['max_bin'])#,\n",
    "          #reg_alpha = params['reg_alpha'],\n",
    "          #reg_lambda = params['reg_lambda'])\n",
    " \n",
    "\n",
    "# Show default model params:\n",
    "mdl.get_params().keys()\n",
    "\n",
    "# Create the grid\n",
    "grid = GridSearchCV(mdl, gridParams, verbose=2, cv=5, n_jobs=-1,scoring='f1')\n",
    "\n",
    "# Run the grid\n",
    "grid_result = grid.fit(x_train_mod, y_train_mod)\n",
    "\n",
    "# Print the best parameters found\n",
    "print(grid.best_params_)\n",
    "print(grid.best_score_)\n",
    "\n",
    "# Choose grid search CV best hyperparameter values\n",
    "params['n_estimators'] = grid.best_params_['n_estimators']\n",
    "params['learning_rate'] = grid.best_params_['learning_rate']\n",
    "params['num_leaves'] = grid.best_params_['num_leaves']\n",
    "params['max_bin'] = grid.best_params_['max_bin']\n",
    "params['max_depth'] = grid.best_params_['max_depth']\n",
    "params[\"min_gain_to_split\"] =grid.best_params_['min_gain_to_split']\n",
    "params[\"lambda_l1\"] =grid.best_params_['lambda_l1']\n",
    "params[\"lambda_l2\"] =grid.best_params_['lambda_l2']\n",
    "params[\"feature_fraction\"] =grid.best_params_['feature_fraction']\n",
    "params[\"bagging_fraction\"] =grid.best_params_['bagging_fraction']\n",
    "params[\"min_child_samples\"] =grid.best_params_['min_child_samples']\n",
    "#params[\"min_data_in_leaf\"] =grid.best_params_['min_data_in_leaf']\n",
    "\n",
    "\n",
    "#params['reg_alpha'] = grid.best_params_['reg_alpha']\n",
    "#params['reg_lambda'] = grid.best_params_['reg_lambda']\n",
    "\n",
    "\n",
    "print('Fitting with params: ')\n",
    "print(params)\n",
    "\n",
    "#Train model on selected parameters and number of iterations\n",
    "lgbm = lgb.train(params,\n",
    "                 train_data,\n",
    "                 100,\n",
    "                 early_stopping_rounds= 40,\n",
    "                 verbose_eval= 10,\n",
    "                 \n",
    "                 valid_sets = [test_data, train_data],\n",
    "                 evals_result = evals_result)\n",
    "                 \n",
    "\n",
    "#Predict on test set\n",
    "predictions_lgbm_prob = lgbm.predict(x_test_mod)\n",
    "\n",
    "#Choose optimal threshold that optimizes F1 scores \n",
    "f1_score_sweep = [f1_score(y_test, np.where(predictions_lgbm_prob > (thresh*.01), 1, 0)) for thresh in range(100)]\n",
    "optimal_cutoff = f1_score_sweep.index(max(f1_score_sweep))/100 \n",
    "\n",
    "predictions_lgbm_01 = np.where(predictions_lgbm_prob > optimal_cutoff, 1, 0) #Turn probability to 0-1 binary output\n",
    "\n",
    "#--------------------------Output Model Evaluation Metrics----------------------\n",
    "#Plot Variable Importances\n",
    "lgb.plot_importance(lgbm, max_num_features=20, importance_type='split')\n",
    "\n",
    "#Print accuracy\n",
    "acc_lgbm = accuracy_score(y_test,predictions_lgbm_01)\n",
    "print('Overall Light GBM model accuracy:', acc_lgbm)\n",
    "\n",
    "#Plotting Area Under Curve\n",
    "plt.figure()\n",
    "false_positive_rate, recall, thresholds = roc_curve(y_test, predictions_lgbm_prob)\n",
    "roc_auc = auc(false_positive_rate, recall)\n",
    "plt.title('Receiver Operating Characteristic (ROC)')\n",
    "plt.plot(false_positive_rate, recall, 'b', label = 'AUC = %0.3f' %roc_auc)\n",
    "plt.legend(loc='lower right')\n",
    "plt.plot([0,1], [0,1], 'r--')\n",
    "plt.xlim([0.0,1.0])\n",
    "plt.ylim([0.0,1.0])\n",
    "plt.ylabel('Recall')\n",
    "plt.xlabel('Fall-out (1-Specificity)')\n",
    "plt.show()\n",
    "\n",
    "print('AUC score:', roc_auc)\n",
    "\n",
    "#Showing Confusion Matrix\n",
    "plt.figure()\n",
    "cm = confusion_matrix(y_test, predictions_lgbm_01)\n",
    "labels = ['Not Illicit', 'Illicit']\n",
    "plt.figure(figsize=(8,6))\n",
    "sns.heatmap(cm, xticklabels = labels, yticklabels = labels, annot = True, fmt='d', cmap=\"Blues\", vmin = 0.2);\n",
    "plt.title('Confusion Matrix')\n",
    "plt.ylabel('True Class')\n",
    "plt.xlabel('Predicted Class')\n",
    "plt.show()"
   ]
  },
  {
   "cell_type": "code",
   "execution_count": 39,
   "metadata": {},
   "outputs": [
    {
     "data": {
      "image/png": "[encoded data removed]",
      "text/plain": [
       "<Figure size 432x288 with 1 Axes>"
      ]
     },
     "metadata": {
      "needs_background": "light"
     },
     "output_type": "display_data"
    }
   ],
   "source": [
    "lgb.plot_metric(evals_result, metric='binary_logloss')\n",
    "plt.show()"
   ]
  },
  {
   "cell_type": "code",
   "execution_count": 40,
   "metadata": {},
   "outputs": [
    {
     "name": "stdout",
     "output_type": "stream",
     "text": [
      "              precision    recall  f1-score   support\n",
      "\n",
      "       False       0.99      0.90      0.94      2783\n",
      "        True       0.82      0.99      0.90      1300\n",
      "\n",
      "    accuracy                           0.93      4083\n",
      "   macro avg       0.91      0.94      0.92      4083\n",
      "weighted avg       0.94      0.93      0.93      4083\n",
      "\n"
     ]
    }
   ],
   "source": [
    "from sklearn.metrics import classification_report\n",
    "print(classification_report(y_test, predictions_lgbm_01))"
   ]
  },
  {
   "cell_type": "code",
   "execution_count": 41,
   "metadata": {},
   "outputs": [
    {
     "name": "stdout",
     "output_type": "stream",
     "text": [
      "Name: lightgbm\n",
      "Version: 3.3.3\n",
      "Summary: LightGBM Python Package\n",
      "Home-page: https://github.com/microsoft/LightGBM\n",
      "Author: \n",
      "Author-email: \n",
      "License: The MIT License (Microsoft)\n",
      "Location: c:\\users\\harsmith\\anaconda3\\lib\\site-packages\n",
      "Requires: numpy, scipy, scikit-learn, wheel\n",
      "Required-by: \n"
     ]
    }
   ],
   "source": [
    "!pip show lightgbm"
   ]
  },
  {
   "cell_type": "code",
   "execution_count": 42,
   "metadata": {},
   "outputs": [
    {
     "data": {
      "text/plain": [
       "<lightgbm.basic.Booster at 0x237321c7220>"
      ]
     },
     "execution_count": 42,
     "metadata": {},
     "output_type": "execute_result"
    }
   ],
   "source": [
    "lgbm.save_model('Chainalysis_lgb_classifier.txt', num_iteration=lgbm.best_iteration) "
   ]
  },
  {
   "cell_type": "code",
   "execution_count": 43,
   "metadata": {},
   "outputs": [
    {
     "name": "stdout",
     "output_type": "stream",
     "text": [
      "3.9.12\n"
     ]
    }
   ],
   "source": [
    "import platform\n",
    "print(platform.python_version()) "
   ]
  },
  {
   "cell_type": "code",
   "execution_count": 44,
   "metadata": {},
   "outputs": [],
   "source": [
    "model = lgb.Booster(model_file='Chainalysis_lgb_classifier.txt')"
   ]
  },
  {
   "cell_type": "code",
   "execution_count": 45,
   "metadata": {},
   "outputs": [
    {
     "data": {
      "text/plain": [
       "<AxesSubplot:title={'center':'Feature importance'}, xlabel='Feature importance', ylabel='Features'>"
      ]
     },
     "execution_count": 45,
     "metadata": {},
     "output_type": "execute_result"
    },
    {
     "data": {
      "image/png": "[encoded data removed]",
      "text/plain": [
       "<Figure size 432x288 with 1 Axes>"
      ]
     },
     "metadata": {
      "needs_background": "light"
     },
     "output_type": "display_data"
    }
   ],
   "source": [
    "lgb.plot_importance(model, max_num_features=20, importance_type='split')"
   ]
  },
  {
   "cell_type": "markdown",
   "metadata": {},
   "source": [
    "# Graph Neural Network: Node Classification/Detection Illicit Wallets"
   ]
  },
  {
   "cell_type": "markdown",
   "metadata": {},
   "source": [
    "Classic Problems in graph NN. \n",
    "- Edge Classification\n",
    "- Node Classification\n",
    "- Graph Classificiation\n",
    "\n",
    "If we are working on Node classfication we should probaly focus our graph structure on the output addresses of the wallets inorder to determine which nodes we can classifify as illicit."
   ]
  },
  {
   "cell_type": "code",
   "execution_count": 46,
   "metadata": {},
   "outputs": [],
   "source": [
    "import os\n",
    "\n",
    "os.environ[\"DGLBACKEND\"] = \"pytorch\"\n",
    "import dgl\n",
    "import dgl.data\n",
    "import torch\n",
    "import torch.nn as nn\n",
    "import torch.nn.functional as F"
   ]
  },
  {
   "cell_type": "code",
   "execution_count": 47,
   "metadata": {},
   "outputs": [
    {
     "data": {
      "text/html": [
       "<div>\n",
       "<style scoped>\n",
       "    .dataframe tbody tr th:only-of-type {\n",
       "        vertical-align: middle;\n",
       "    }\n",
       "\n",
       "    .dataframe tbody tr th {\n",
       "        vertical-align: top;\n",
       "    }\n",
       "\n",
       "    .dataframe thead th {\n",
       "        text-align: right;\n",
       "    }\n",
       "</style>\n",
       "<table border=\"1\" class=\"dataframe\">\n",
       "  <thead>\n",
       "    <tr style=\"text-align: right;\">\n",
       "      <th></th>\n",
       "      <th>Month</th>\n",
       "      <th>Day</th>\n",
       "      <th>Time</th>\n",
       "      <th>DayOfWeek</th>\n",
       "      <th>TransactionID</th>\n",
       "      <th>InputAddress</th>\n",
       "      <th>OutputAddress</th>\n",
       "      <th>BTC</th>\n",
       "      <th>Illicit</th>\n",
       "      <th>src</th>\n",
       "      <th>dst</th>\n",
       "      <th>inputMax</th>\n",
       "      <th>inputMin</th>\n",
       "      <th>inputSum</th>\n",
       "      <th>outputMax</th>\n",
       "      <th>outputMin</th>\n",
       "      <th>outputSum</th>\n",
       "    </tr>\n",
       "  </thead>\n",
       "  <tbody>\n",
       "    <tr>\n",
       "      <th>0</th>\n",
       "      <td>7</td>\n",
       "      <td>4</td>\n",
       "      <td>12:04:48</td>\n",
       "      <td>4</td>\n",
       "      <td>0db73422520423519b152bc44824c61faf84088e0bf385...</td>\n",
       "      <td>17Su3J2RWnm2WLqf8pfpgj4hFUf6MFH9SZ</td>\n",
       "      <td>111mamKazi1ofZ854rKTcAxhTVuGDPhhL</td>\n",
       "      <td>0.100000</td>\n",
       "      <td>0</td>\n",
       "      <td>263</td>\n",
       "      <td>24076</td>\n",
       "      <td>200.000000</td>\n",
       "      <td>0.100000</td>\n",
       "      <td>1237.246977</td>\n",
       "      <td>0.100000</td>\n",
       "      <td>0.100000</td>\n",
       "      <td>0.100000</td>\n",
       "    </tr>\n",
       "    <tr>\n",
       "      <th>1</th>\n",
       "      <td>7</td>\n",
       "      <td>4</td>\n",
       "      <td>12:04:48</td>\n",
       "      <td>4</td>\n",
       "      <td>0db73422520423519b152bc44824c61faf84088e0bf385...</td>\n",
       "      <td>1K4jCTyKSkATCXB6sXAwN3nkyvQveRMqPZ</td>\n",
       "      <td>111mamKazi1ofZ854rKTcAxhTVuGDPhhL</td>\n",
       "      <td>0.100000</td>\n",
       "      <td>0</td>\n",
       "      <td>741</td>\n",
       "      <td>24076</td>\n",
       "      <td>84.705376</td>\n",
       "      <td>0.100000</td>\n",
       "      <td>694.136401</td>\n",
       "      <td>0.100000</td>\n",
       "      <td>0.100000</td>\n",
       "      <td>0.200000</td>\n",
       "    </tr>\n",
       "    <tr>\n",
       "      <th>2</th>\n",
       "      <td>4</td>\n",
       "      <td>16</td>\n",
       "      <td>8:25:51</td>\n",
       "      <td>2</td>\n",
       "      <td>c802582a0acb3c66caa06ce4e767413086a713c732c893...</td>\n",
       "      <td>14aydKbSbRacakgoYzwFkdbLeirJHruiNc</td>\n",
       "      <td>112AYM2ubn4hEdJjb5NGguuEEo6Snp7oBK</td>\n",
       "      <td>0.015600</td>\n",
       "      <td>0</td>\n",
       "      <td>16319</td>\n",
       "      <td>31397</td>\n",
       "      <td>0.015600</td>\n",
       "      <td>0.015600</td>\n",
       "      <td>0.015600</td>\n",
       "      <td>0.015600</td>\n",
       "      <td>0.015600</td>\n",
       "      <td>0.015600</td>\n",
       "    </tr>\n",
       "    <tr>\n",
       "      <th>3</th>\n",
       "      <td>11</td>\n",
       "      <td>17</td>\n",
       "      <td>14:24:11</td>\n",
       "      <td>1</td>\n",
       "      <td>6ce024cf19da1ea2d07be757ac87f1edb9e926bd1e76fa...</td>\n",
       "      <td>12szbegicLBGAKaYKDEkxm4WHSV9v1jp5J</td>\n",
       "      <td>112JKu613am7FqJyxycpvcyKbAHgmVugx9</td>\n",
       "      <td>0.004104</td>\n",
       "      <td>1</td>\n",
       "      <td>4102</td>\n",
       "      <td>31732</td>\n",
       "      <td>0.004104</td>\n",
       "      <td>0.004104</td>\n",
       "      <td>0.004104</td>\n",
       "      <td>0.004104</td>\n",
       "      <td>0.004104</td>\n",
       "      <td>0.004104</td>\n",
       "    </tr>\n",
       "    <tr>\n",
       "      <th>4</th>\n",
       "      <td>12</td>\n",
       "      <td>9</td>\n",
       "      <td>21:58:17</td>\n",
       "      <td>2</td>\n",
       "      <td>18551dcb848afa5f76ae196074da3b8226674613079827...</td>\n",
       "      <td>1BQ41qwps4v2hJQs9CTLvFs8ZKzf4JqH1B</td>\n",
       "      <td>112Q1Q11rZvbQdo2YCErQMQbLQQ6HJ21jY</td>\n",
       "      <td>0.010276</td>\n",
       "      <td>0</td>\n",
       "      <td>5753</td>\n",
       "      <td>29452</td>\n",
       "      <td>0.188391</td>\n",
       "      <td>0.004923</td>\n",
       "      <td>0.714888</td>\n",
       "      <td>0.010276</td>\n",
       "      <td>0.010276</td>\n",
       "      <td>0.010276</td>\n",
       "    </tr>\n",
       "    <tr>\n",
       "      <th>...</th>\n",
       "      <td>...</td>\n",
       "      <td>...</td>\n",
       "      <td>...</td>\n",
       "      <td>...</td>\n",
       "      <td>...</td>\n",
       "      <td>...</td>\n",
       "      <td>...</td>\n",
       "      <td>...</td>\n",
       "      <td>...</td>\n",
       "      <td>...</td>\n",
       "      <td>...</td>\n",
       "      <td>...</td>\n",
       "      <td>...</td>\n",
       "      <td>...</td>\n",
       "      <td>...</td>\n",
       "      <td>...</td>\n",
       "      <td>...</td>\n",
       "    </tr>\n",
       "    <tr>\n",
       "      <th>40820</th>\n",
       "      <td>12</td>\n",
       "      <td>19</td>\n",
       "      <td>9:07:59</td>\n",
       "      <td>5</td>\n",
       "      <td>ac91b2407010f3299ba2d8402dae55626628ce2f3c5824...</td>\n",
       "      <td>bc1q2p55hccg33g6v645nspwnayzpcl99jaf3gyfpx2g8l...</td>\n",
       "      <td>bc1qzjeg3h996kw24zrg69nge97fw8jc4v7v7yznftzk06...</td>\n",
       "      <td>80.010000</td>\n",
       "      <td>1</td>\n",
       "      <td>2809</td>\n",
       "      <td>1987</td>\n",
       "      <td>80.010000</td>\n",
       "      <td>10.000000</td>\n",
       "      <td>247.241452</td>\n",
       "      <td>80.010000</td>\n",
       "      <td>7.032970</td>\n",
       "      <td>164.856990</td>\n",
       "    </tr>\n",
       "    <tr>\n",
       "      <th>40821</th>\n",
       "      <td>12</td>\n",
       "      <td>20</td>\n",
       "      <td>5:34:42</td>\n",
       "      <td>6</td>\n",
       "      <td>4996c8a8714cea6d0e1df9ee9fa8e5ffcee3a515fe35d5...</td>\n",
       "      <td>bc1q2p55hccg33g6v645nspwnayzpcl99jaf3gyfpx2g8l...</td>\n",
       "      <td>bc1qzjeg3h996kw24zrg69nge97fw8jc4v7v7yznftzk06...</td>\n",
       "      <td>8.874960</td>\n",
       "      <td>1</td>\n",
       "      <td>2809</td>\n",
       "      <td>1987</td>\n",
       "      <td>80.010000</td>\n",
       "      <td>8.874960</td>\n",
       "      <td>266.116412</td>\n",
       "      <td>80.010000</td>\n",
       "      <td>7.032970</td>\n",
       "      <td>173.731950</td>\n",
       "    </tr>\n",
       "    <tr>\n",
       "      <th>40822</th>\n",
       "      <td>12</td>\n",
       "      <td>20</td>\n",
       "      <td>5:34:42</td>\n",
       "      <td>6</td>\n",
       "      <td>4996c8a8714cea6d0e1df9ee9fa8e5ffcee3a515fe35d5...</td>\n",
       "      <td>bc1q2p55hccg33g6v645nspwnayzpcl99jaf3gyfpx2g8l...</td>\n",
       "      <td>bc1qzjeg3h996kw24zrg69nge97fw8jc4v7v7yznftzk06...</td>\n",
       "      <td>10.000000</td>\n",
       "      <td>1</td>\n",
       "      <td>2809</td>\n",
       "      <td>1987</td>\n",
       "      <td>252.871660</td>\n",
       "      <td>8.874960</td>\n",
       "      <td>538.988072</td>\n",
       "      <td>80.010000</td>\n",
       "      <td>7.032970</td>\n",
       "      <td>183.731950</td>\n",
       "    </tr>\n",
       "    <tr>\n",
       "      <th>40823</th>\n",
       "      <td>12</td>\n",
       "      <td>1</td>\n",
       "      <td>14:33:17</td>\n",
       "      <td>1</td>\n",
       "      <td>0628c8ae3b05adbf6ff316d351740c19b65968b22a28bf...</td>\n",
       "      <td>3Ao74WwsMpbhJ7pAwkfUxVYYMZSWd9rdYT</td>\n",
       "      <td>bc1qzwr5unft4fkmv0w3xpgj4rdppx56u6ktgttwq0</td>\n",
       "      <td>0.070545</td>\n",
       "      <td>1</td>\n",
       "      <td>1242</td>\n",
       "      <td>34764</td>\n",
       "      <td>1.951387</td>\n",
       "      <td>0.048176</td>\n",
       "      <td>5.264227</td>\n",
       "      <td>0.070545</td>\n",
       "      <td>0.070545</td>\n",
       "      <td>0.070545</td>\n",
       "    </tr>\n",
       "    <tr>\n",
       "      <th>40824</th>\n",
       "      <td>11</td>\n",
       "      <td>22</td>\n",
       "      <td>13:28:45</td>\n",
       "      <td>6</td>\n",
       "      <td>4bb72a4e2164d36907ad67e2d764b7a64ed2c0e6e9e7e2...</td>\n",
       "      <td>1K7rmWyfKQnNuevEgMbCWf8qRVbQ1N84rv</td>\n",
       "      <td>bc1qzxpa9d8adqdut3dfpatmncuda87nfz5tytc89d</td>\n",
       "      <td>0.001149</td>\n",
       "      <td>1</td>\n",
       "      <td>7873</td>\n",
       "      <td>30937</td>\n",
       "      <td>0.013078</td>\n",
       "      <td>0.000807</td>\n",
       "      <td>0.016533</td>\n",
       "      <td>0.001149</td>\n",
       "      <td>0.001149</td>\n",
       "      <td>0.001149</td>\n",
       "    </tr>\n",
       "  </tbody>\n",
       "</table>\n",
       "<p>40825 rows × 17 columns</p>\n",
       "</div>"
      ],
      "text/plain": [
       "       Month  Day      Time  DayOfWeek  \\\n",
       "0          7    4  12:04:48          4   \n",
       "1          7    4  12:04:48          4   \n",
       "2          4   16   8:25:51          2   \n",
       "3         11   17  14:24:11          1   \n",
       "4         12    9  21:58:17          2   \n",
       "...      ...  ...       ...        ...   \n",
       "40820     12   19   9:07:59          5   \n",
       "40821     12   20   5:34:42          6   \n",
       "40822     12   20   5:34:42          6   \n",
       "40823     12    1  14:33:17          1   \n",
       "40824     11   22  13:28:45          6   \n",
       "\n",
       "                                           TransactionID  \\\n",
       "0      0db73422520423519b152bc44824c61faf84088e0bf385...   \n",
       "1      0db73422520423519b152bc44824c61faf84088e0bf385...   \n",
       "2      c802582a0acb3c66caa06ce4e767413086a713c732c893...   \n",
       "3      6ce024cf19da1ea2d07be757ac87f1edb9e926bd1e76fa...   \n",
       "4      18551dcb848afa5f76ae196074da3b8226674613079827...   \n",
       "...                                                  ...   \n",
       "40820  ac91b2407010f3299ba2d8402dae55626628ce2f3c5824...   \n",
       "40821  4996c8a8714cea6d0e1df9ee9fa8e5ffcee3a515fe35d5...   \n",
       "40822  4996c8a8714cea6d0e1df9ee9fa8e5ffcee3a515fe35d5...   \n",
       "40823  0628c8ae3b05adbf6ff316d351740c19b65968b22a28bf...   \n",
       "40824  4bb72a4e2164d36907ad67e2d764b7a64ed2c0e6e9e7e2...   \n",
       "\n",
       "                                            InputAddress  \\\n",
       "0                     17Su3J2RWnm2WLqf8pfpgj4hFUf6MFH9SZ   \n",
       "1                     1K4jCTyKSkATCXB6sXAwN3nkyvQveRMqPZ   \n",
       "2                     14aydKbSbRacakgoYzwFkdbLeirJHruiNc   \n",
       "3                     12szbegicLBGAKaYKDEkxm4WHSV9v1jp5J   \n",
       "4                     1BQ41qwps4v2hJQs9CTLvFs8ZKzf4JqH1B   \n",
       "...                                                  ...   \n",
       "40820  bc1q2p55hccg33g6v645nspwnayzpcl99jaf3gyfpx2g8l...   \n",
       "40821  bc1q2p55hccg33g6v645nspwnayzpcl99jaf3gyfpx2g8l...   \n",
       "40822  bc1q2p55hccg33g6v645nspwnayzpcl99jaf3gyfpx2g8l...   \n",
       "40823                 3Ao74WwsMpbhJ7pAwkfUxVYYMZSWd9rdYT   \n",
       "40824                 1K7rmWyfKQnNuevEgMbCWf8qRVbQ1N84rv   \n",
       "\n",
       "                                           OutputAddress        BTC  Illicit  \\\n",
       "0                      111mamKazi1ofZ854rKTcAxhTVuGDPhhL   0.100000        0   \n",
       "1                      111mamKazi1ofZ854rKTcAxhTVuGDPhhL   0.100000        0   \n",
       "2                     112AYM2ubn4hEdJjb5NGguuEEo6Snp7oBK   0.015600        0   \n",
       "3                     112JKu613am7FqJyxycpvcyKbAHgmVugx9   0.004104        1   \n",
       "4                     112Q1Q11rZvbQdo2YCErQMQbLQQ6HJ21jY   0.010276        0   \n",
       "...                                                  ...        ...      ...   \n",
       "40820  bc1qzjeg3h996kw24zrg69nge97fw8jc4v7v7yznftzk06...  80.010000        1   \n",
       "40821  bc1qzjeg3h996kw24zrg69nge97fw8jc4v7v7yznftzk06...   8.874960        1   \n",
       "40822  bc1qzjeg3h996kw24zrg69nge97fw8jc4v7v7yznftzk06...  10.000000        1   \n",
       "40823         bc1qzwr5unft4fkmv0w3xpgj4rdppx56u6ktgttwq0   0.070545        1   \n",
       "40824         bc1qzxpa9d8adqdut3dfpatmncuda87nfz5tytc89d   0.001149        1   \n",
       "\n",
       "         src    dst    inputMax   inputMin     inputSum  outputMax  outputMin  \\\n",
       "0        263  24076  200.000000   0.100000  1237.246977   0.100000   0.100000   \n",
       "1        741  24076   84.705376   0.100000   694.136401   0.100000   0.100000   \n",
       "2      16319  31397    0.015600   0.015600     0.015600   0.015600   0.015600   \n",
       "3       4102  31732    0.004104   0.004104     0.004104   0.004104   0.004104   \n",
       "4       5753  29452    0.188391   0.004923     0.714888   0.010276   0.010276   \n",
       "...      ...    ...         ...        ...          ...        ...        ...   \n",
       "40820   2809   1987   80.010000  10.000000   247.241452  80.010000   7.032970   \n",
       "40821   2809   1987   80.010000   8.874960   266.116412  80.010000   7.032970   \n",
       "40822   2809   1987  252.871660   8.874960   538.988072  80.010000   7.032970   \n",
       "40823   1242  34764    1.951387   0.048176     5.264227   0.070545   0.070545   \n",
       "40824   7873  30937    0.013078   0.000807     0.016533   0.001149   0.001149   \n",
       "\n",
       "        outputSum  \n",
       "0        0.100000  \n",
       "1        0.200000  \n",
       "2        0.015600  \n",
       "3        0.004104  \n",
       "4        0.010276  \n",
       "...           ...  \n",
       "40820  164.856990  \n",
       "40821  173.731950  \n",
       "40822  183.731950  \n",
       "40823    0.070545  \n",
       "40824    0.001149  \n",
       "\n",
       "[40825 rows x 17 columns]"
      ]
     },
     "execution_count": 47,
     "metadata": {},
     "output_type": "execute_result"
    }
   ],
   "source": [
    "kdf"
   ]
  },
  {
   "cell_type": "code",
   "execution_count": 48,
   "metadata": {},
   "outputs": [
    {
     "data": {
      "text/html": [
       "<div>\n",
       "<style scoped>\n",
       "    .dataframe tbody tr th:only-of-type {\n",
       "        vertical-align: middle;\n",
       "    }\n",
       "\n",
       "    .dataframe tbody tr th {\n",
       "        vertical-align: top;\n",
       "    }\n",
       "\n",
       "    .dataframe thead th {\n",
       "        text-align: right;\n",
       "    }\n",
       "</style>\n",
       "<table border=\"1\" class=\"dataframe\">\n",
       "  <thead>\n",
       "    <tr style=\"text-align: right;\">\n",
       "      <th></th>\n",
       "      <th>Month</th>\n",
       "      <th>Day</th>\n",
       "      <th>Time</th>\n",
       "      <th>DayOfWeek</th>\n",
       "      <th>TransactionID</th>\n",
       "      <th>InputAddress</th>\n",
       "      <th>OutputAddress</th>\n",
       "      <th>BTC</th>\n",
       "      <th>Illicit</th>\n",
       "      <th>src</th>\n",
       "      <th>dst</th>\n",
       "      <th>inputMax</th>\n",
       "      <th>inputMin</th>\n",
       "      <th>inputSum</th>\n",
       "      <th>outputMax</th>\n",
       "      <th>outputMin</th>\n",
       "      <th>outputSum</th>\n",
       "    </tr>\n",
       "  </thead>\n",
       "  <tbody>\n",
       "    <tr>\n",
       "      <th>40321</th>\n",
       "      <td>12</td>\n",
       "      <td>5</td>\n",
       "      <td>20:35:41</td>\n",
       "      <td>5</td>\n",
       "      <td>081c88ecc74eab23318b7bddec8db4c78429573d4acd57...</td>\n",
       "      <td>3BXMABa8Yxcq9JvPEdizBdbZCvqbMMp6ao</td>\n",
       "      <td>3Qg6fRqQZuH8e2RRwcf6cMHrtkyEBEpfUX</td>\n",
       "      <td>0.002116</td>\n",
       "      <td>1</td>\n",
       "      <td>1</td>\n",
       "      <td>3197</td>\n",
       "      <td>0.002116</td>\n",
       "      <td>0.002116</td>\n",
       "      <td>0.002116</td>\n",
       "      <td>0.319457</td>\n",
       "      <td>0.002116</td>\n",
       "      <td>0.435108</td>\n",
       "    </tr>\n",
       "  </tbody>\n",
       "</table>\n",
       "</div>"
      ],
      "text/plain": [
       "       Month  Day      Time  DayOfWeek  \\\n",
       "40321     12    5  20:35:41          5   \n",
       "\n",
       "                                           TransactionID  \\\n",
       "40321  081c88ecc74eab23318b7bddec8db4c78429573d4acd57...   \n",
       "\n",
       "                             InputAddress                       OutputAddress  \\\n",
       "40321  3BXMABa8Yxcq9JvPEdizBdbZCvqbMMp6ao  3Qg6fRqQZuH8e2RRwcf6cMHrtkyEBEpfUX   \n",
       "\n",
       "            BTC  Illicit  src   dst  inputMax  inputMin  inputSum  outputMax  \\\n",
       "40321  0.002116        1    1  3197  0.002116  0.002116  0.002116   0.319457   \n",
       "\n",
       "       outputMin  outputSum  \n",
       "40321   0.002116   0.435108  "
      ]
     },
     "execution_count": 48,
     "metadata": {},
     "output_type": "execute_result"
    }
   ],
   "source": [
    "df.loc[df[\"InputAddress\"]== unique_ids_list[1]]"
   ]
  },
  {
   "cell_type": "code",
   "execution_count": 49,
   "metadata": {},
   "outputs": [],
   "source": [
    "x = pd.Series(df[\"InputAddress\"])"
   ]
  },
  {
   "cell_type": "code",
   "execution_count": 50,
   "metadata": {},
   "outputs": [],
   "source": [
    "y = pd.Series(df[\"OutputAddress\"])"
   ]
  },
  {
   "cell_type": "code",
   "execution_count": 51,
   "metadata": {},
   "outputs": [
    {
     "name": "stderr",
     "output_type": "stream",
     "text": [
      "C:\\Users\\harsmith\\AppData\\Local\\Temp\\ipykernel_27620\\2912760188.py:1: FutureWarning: The series.append method is deprecated and will be removed from pandas in a future version. Use pandas.concat instead.\n",
      "  all_wallets = x.append(y).unique()\n"
     ]
    },
    {
     "data": {
      "text/plain": [
       "array(['17Su3J2RWnm2WLqf8pfpgj4hFUf6MFH9SZ',\n",
       "       '1K4jCTyKSkATCXB6sXAwN3nkyvQveRMqPZ',\n",
       "       '14aydKbSbRacakgoYzwFkdbLeirJHruiNc', ...,\n",
       "       'bc1qzfw6arlu459az7n03qjucg725d3ge5y9ufvvfm',\n",
       "       'bc1qzwr5unft4fkmv0w3xpgj4rdppx56u6ktgttwq0',\n",
       "       'bc1qzxpa9d8adqdut3dfpatmncuda87nfz5tytc89d'], dtype=object)"
      ]
     },
     "execution_count": 51,
     "metadata": {},
     "output_type": "execute_result"
    }
   ],
   "source": [
    "all_wallets = x.append(y).unique()\n",
    "all_wallets"
   ]
  },
  {
   "cell_type": "code",
   "execution_count": 52,
   "metadata": {},
   "outputs": [
    {
     "data": {
      "text/plain": [
       "35239"
      ]
     },
     "execution_count": 52,
     "metadata": {},
     "output_type": "execute_result"
    }
   ],
   "source": [
    "len(all_wallets)\n",
    "# Number of wallets in the dataset"
   ]
  },
  {
   "cell_type": "markdown",
   "metadata": {},
   "source": [
    "So now what I want to do is take the original dataset and for each unique wallet is aggregate the data\n",
    "- number of transactions\n",
    "- amount of bit coin sent\n",
    "- page rank algorithim\n",
    "- number of connections to other wallets\n",
    "- numb incomming\n",
    "- numb outgoing\n",
    "- difference between those two\n",
    "- has had illicit transaction\n",
    "- how many illicit transactions\n",
    "- traingle coutns\n",
    "- is it only sending or reciving bitcoin\n",
    "- largest transaction\n",
    "- Smallest transaction\n"
   ]
  },
  {
   "cell_type": "code",
   "execution_count": 53,
   "metadata": {},
   "outputs": [],
   "source": [
    "wallet_test= kdf.loc[(kdf[\"InputAddress\"] == all_wallets[0]) | (kdf[\"OutputAddress\"] == all_wallets[0])]"
   ]
  },
  {
   "cell_type": "code",
   "execution_count": 54,
   "metadata": {},
   "outputs": [
    {
     "data": {
      "text/html": [
       "<div>\n",
       "<style scoped>\n",
       "    .dataframe tbody tr th:only-of-type {\n",
       "        vertical-align: middle;\n",
       "    }\n",
       "\n",
       "    .dataframe tbody tr th {\n",
       "        vertical-align: top;\n",
       "    }\n",
       "\n",
       "    .dataframe thead th {\n",
       "        text-align: right;\n",
       "    }\n",
       "</style>\n",
       "<table border=\"1\" class=\"dataframe\">\n",
       "  <thead>\n",
       "    <tr style=\"text-align: right;\">\n",
       "      <th></th>\n",
       "      <th>id_output</th>\n",
       "      <th>Unique_ID_output</th>\n",
       "      <th>degree_output</th>\n",
       "      <th>inDegree_output</th>\n",
       "      <th>outDegree_output</th>\n",
       "      <th>pagerank_output</th>\n",
       "      <th>tricount_output</th>\n",
       "      <th>label_output</th>\n",
       "    </tr>\n",
       "  </thead>\n",
       "  <tbody>\n",
       "    <tr>\n",
       "      <th>0</th>\n",
       "      <td>429</td>\n",
       "      <td>35c9y89b3QiY48sfsZ5a3DAkgTcxtgSuWE</td>\n",
       "      <td>1</td>\n",
       "      <td>NaN</td>\n",
       "      <td>1.0</td>\n",
       "      <td>0.450615</td>\n",
       "      <td>0</td>\n",
       "      <td>23399</td>\n",
       "    </tr>\n",
       "    <tr>\n",
       "      <th>1</th>\n",
       "      <td>1271</td>\n",
       "      <td>1PyMTMjV3KTn7wFMzSpeztLJSsNF7a4gK5</td>\n",
       "      <td>1</td>\n",
       "      <td>NaN</td>\n",
       "      <td>1.0</td>\n",
       "      <td>0.450615</td>\n",
       "      <td>0</td>\n",
       "      <td>234</td>\n",
       "    </tr>\n",
       "    <tr>\n",
       "      <th>2</th>\n",
       "      <td>1650</td>\n",
       "      <td>16RBExMKpEpTFWKZSK6ukFvrceZTRcZ6YG</td>\n",
       "      <td>2</td>\n",
       "      <td>NaN</td>\n",
       "      <td>2.0</td>\n",
       "      <td>0.450615</td>\n",
       "      <td>0</td>\n",
       "      <td>24007</td>\n",
       "    </tr>\n",
       "    <tr>\n",
       "      <th>3</th>\n",
       "      <td>2130</td>\n",
       "      <td>15UG9rBZSNJGKWrJvrxYtoLEeLV1b7sy6g</td>\n",
       "      <td>2</td>\n",
       "      <td>NaN</td>\n",
       "      <td>2.0</td>\n",
       "      <td>0.450615</td>\n",
       "      <td>0</td>\n",
       "      <td>24252</td>\n",
       "    </tr>\n",
       "    <tr>\n",
       "      <th>4</th>\n",
       "      <td>2183</td>\n",
       "      <td>1NdppVU8tHqYXBBHBwDjdpSMjRh2Uia8uQ</td>\n",
       "      <td>1</td>\n",
       "      <td>NaN</td>\n",
       "      <td>1.0</td>\n",
       "      <td>0.450615</td>\n",
       "      <td>0</td>\n",
       "      <td>234</td>\n",
       "    </tr>\n",
       "    <tr>\n",
       "      <th>...</th>\n",
       "      <td>...</td>\n",
       "      <td>...</td>\n",
       "      <td>...</td>\n",
       "      <td>...</td>\n",
       "      <td>...</td>\n",
       "      <td>...</td>\n",
       "      <td>...</td>\n",
       "      <td>...</td>\n",
       "    </tr>\n",
       "    <tr>\n",
       "      <th>35234</th>\n",
       "      <td>34297</td>\n",
       "      <td>3D5dnA2YVmvQvNwWgdt4zR1easrjnezEfy</td>\n",
       "      <td>1</td>\n",
       "      <td>1.0</td>\n",
       "      <td>NaN</td>\n",
       "      <td>0.581626</td>\n",
       "      <td>0</td>\n",
       "      <td>440</td>\n",
       "    </tr>\n",
       "    <tr>\n",
       "      <th>35235</th>\n",
       "      <td>34447</td>\n",
       "      <td>18QcwvVeT1EkW9omhUWQ5LztzUtNzWASGX</td>\n",
       "      <td>1</td>\n",
       "      <td>1.0</td>\n",
       "      <td>NaN</td>\n",
       "      <td>0.454334</td>\n",
       "      <td>0</td>\n",
       "      <td>29</td>\n",
       "    </tr>\n",
       "    <tr>\n",
       "      <th>35236</th>\n",
       "      <td>34675</td>\n",
       "      <td>32dcvtfqTGJ92joYrDEvwnnYfKEnWiXcpn</td>\n",
       "      <td>1</td>\n",
       "      <td>1.0</td>\n",
       "      <td>NaN</td>\n",
       "      <td>1.159208</td>\n",
       "      <td>0</td>\n",
       "      <td>22263</td>\n",
       "    </tr>\n",
       "    <tr>\n",
       "      <th>35237</th>\n",
       "      <td>34720</td>\n",
       "      <td>18kSRiLS5hEcsnkJQ8ramgKhJdD3EZn6w8</td>\n",
       "      <td>1</td>\n",
       "      <td>1.0</td>\n",
       "      <td>NaN</td>\n",
       "      <td>0.661223</td>\n",
       "      <td>0</td>\n",
       "      <td>457</td>\n",
       "    </tr>\n",
       "    <tr>\n",
       "      <th>35238</th>\n",
       "      <td>34935</td>\n",
       "      <td>112n6hnWXTGtNcbYTv6H9JRFWfmLPeSo67</td>\n",
       "      <td>1</td>\n",
       "      <td>1.0</td>\n",
       "      <td>NaN</td>\n",
       "      <td>0.519348</td>\n",
       "      <td>0</td>\n",
       "      <td>62</td>\n",
       "    </tr>\n",
       "  </tbody>\n",
       "</table>\n",
       "<p>35239 rows × 8 columns</p>\n",
       "</div>"
      ],
      "text/plain": [
       "       id_output                    Unique_ID_output  degree_output  \\\n",
       "0            429  35c9y89b3QiY48sfsZ5a3DAkgTcxtgSuWE              1   \n",
       "1           1271  1PyMTMjV3KTn7wFMzSpeztLJSsNF7a4gK5              1   \n",
       "2           1650  16RBExMKpEpTFWKZSK6ukFvrceZTRcZ6YG              2   \n",
       "3           2130  15UG9rBZSNJGKWrJvrxYtoLEeLV1b7sy6g              2   \n",
       "4           2183  1NdppVU8tHqYXBBHBwDjdpSMjRh2Uia8uQ              1   \n",
       "...          ...                                 ...            ...   \n",
       "35234      34297  3D5dnA2YVmvQvNwWgdt4zR1easrjnezEfy              1   \n",
       "35235      34447  18QcwvVeT1EkW9omhUWQ5LztzUtNzWASGX              1   \n",
       "35236      34675  32dcvtfqTGJ92joYrDEvwnnYfKEnWiXcpn              1   \n",
       "35237      34720  18kSRiLS5hEcsnkJQ8ramgKhJdD3EZn6w8              1   \n",
       "35238      34935  112n6hnWXTGtNcbYTv6H9JRFWfmLPeSo67              1   \n",
       "\n",
       "       inDegree_output  outDegree_output  pagerank_output  tricount_output  \\\n",
       "0                  NaN               1.0         0.450615                0   \n",
       "1                  NaN               1.0         0.450615                0   \n",
       "2                  NaN               2.0         0.450615                0   \n",
       "3                  NaN               2.0         0.450615                0   \n",
       "4                  NaN               1.0         0.450615                0   \n",
       "...                ...               ...              ...              ...   \n",
       "35234              1.0               NaN         0.581626                0   \n",
       "35235              1.0               NaN         0.454334                0   \n",
       "35236              1.0               NaN         1.159208                0   \n",
       "35237              1.0               NaN         0.661223                0   \n",
       "35238              1.0               NaN         0.519348                0   \n",
       "\n",
       "       label_output  \n",
       "0             23399  \n",
       "1               234  \n",
       "2             24007  \n",
       "3             24252  \n",
       "4               234  \n",
       "...             ...  \n",
       "35234           440  \n",
       "35235            29  \n",
       "35236         22263  \n",
       "35237           457  \n",
       "35238            62  \n",
       "\n",
       "[35239 rows x 8 columns]"
      ]
     },
     "execution_count": 54,
     "metadata": {},
     "output_type": "execute_result"
    }
   ],
   "source": [
    "features_pandas"
   ]
  },
  {
   "cell_type": "code",
   "execution_count": 55,
   "metadata": {},
   "outputs": [],
   "source": [
    "def get_data_for_wallet(df):\n",
    "    \n",
    "    x = pd.Series(df[\"InputAddress\"])\n",
    "    y = pd.Series(df[\"OutputAddress\"])\n",
    "    all_wallets = x.append(y).unique()\n",
    "    \n",
    "    new_dataset = pd.DataFrame(columns=[\"id\",\"Unique_ID\",\"degree\",\"inDegree\",\"outDegree\",\"pagerank\",\"count\",\"label\",\"difference_transactions\"\"has_illicit_trans\",\"number_of_illicit\",\"num_of_BTC\",'only_sending','only_recieving',\n",
    "                               \"min_in\",'min_out','max_in','max_out'])\n",
    "    \n",
    "    print(new_dataset)\n",
    "    difference_transactions = []\n",
    "    has_illicit_trans = []\n",
    "    number_of_illicit = []\n",
    "    num_of_BTC = []\n",
    "    only_sending_list = []\n",
    "    only_recieving_list =[]\n",
    "    min_in_arr = []\n",
    "    min_out_arr = []\n",
    "    max_in_arr = []\n",
    "    max_out_arr = []\n",
    "    for wallet in all_wallets:\n",
    "        wallet_data_sending = kdf.loc[(kdf[\"OutputAddress\"] == wallet)]\n",
    "        wallet_data_recieving = kdf.loc[(kdf[\"InputAddress\"] == wallet)]\n",
    "        \n",
    "        #first is number of transactions involved with \n",
    "        num_transactions_sent = wallet_data_sending.shape[0]\n",
    "        num_transactions_recieved = wallet_data_recieving.shape[0]\n",
    "        difference = abs(num_transactions_sent-num_transactions_recieved)\n",
    "        \n",
    "        #combining data of sent and recieved\n",
    "        wallet_data_full = pd.concat([wallet_data_recieving,wallet_data_sending])\n",
    "        \n",
    "        #if there were any illicit transactions\n",
    "        if(np.count_nonzero(wallet_data_full[\"Illicit\"])):\n",
    "            has_illicit = \"yes\"\n",
    "        else:\n",
    "            has_illicit = \"no\"\n",
    "        \n",
    "        #number of illicit transactions\n",
    "        num_of_illicit = np.count_nonzero(wallet_data_full[\"Illicit\"])\n",
    "        \n",
    "        #amount of bitcoin sent\n",
    "        bit_C_amount = wallet_data_full[\"BTC\"].sum()\n",
    "        \n",
    "        # is only recieving\n",
    "        if num_transactions_sent == 0:\n",
    "            only_sending = 1\n",
    "        else:\n",
    "            only_sending = 0\n",
    "            \n",
    "        if num_transactions_recieved == 0:\n",
    "            only_recieving = 1\n",
    "        else:\n",
    "            only_recieving = 0\n",
    "            \n",
    "        #min and max transactions\n",
    "        if num_transactions_recieved == 0:\n",
    "            min_in = 0\n",
    "            max_in = 0\n",
    "        else:\n",
    "            min_in = min(wallet_data_recieving[\"BTC\"])\n",
    "            max_in = min(wallet_data_recieving[\"BTC\"])\n",
    "            \n",
    "        if num_transactions_sent == 0:\n",
    "            min_out = 0\n",
    "            max_out = 0\n",
    "        else:\n",
    "            min_out = max(wallet_data_sending[\"BTC\"])\n",
    "            max_out = max(wallet_data_sending[\"BTC\"])\n",
    "        \n",
    "        \n",
    "        #pandas features already has this info\n",
    "        #wallet_row = features_pandas.loc[features_pandas[\"Unique_ID\"] == wallet]\n",
    "        \n",
    "        #adding to row\n",
    "        #wallet_row[\"num_transactions_sent\"] = num_transactions_sent\n",
    "        #wallet_row[\"num_transactions_recieved\"] = num_transactions_recieved\n",
    "        difference_transactions.append(difference)\n",
    "        has_illicit_trans.append(has_illicit)\n",
    "        number_of_illicit.append(num_of_illicit)\n",
    "        num_of_BTC.append(bit_C_amount)\n",
    "        only_sending_list.append(only_sending)\n",
    "        only_recieving_list.append(only_recieving)\n",
    "        min_in_arr.append(min_in)\n",
    "        min_out_arr.append(min_out)\n",
    "        max_in_arr.append(max_in)\n",
    "        max_out_arr.append(max_out)\n",
    "        \n",
    "\n",
    "        #new_dataset = pd.concat([new_dataset,wallet_row])\n",
    "    #wallet_data = np.array([all_wallets,difference_transactions,has_illicit_trans,number_of_illicit,num_of_BTC,only_sending_list,only_recieving_list,min_in_arr,min_out_arr,max_in_arr,max_out_arr])\n",
    "    intermitent_data = pd.DataFrame(columns=[\"Unique_ID\",\"difference_transactions\",\"has_illicit_trans\",\"number_of_illicit\",\"num_of_BTC\",'only_sending','only_recieving',\n",
    "                               \"min_in\",'min_out','max_in','max_out'])\n",
    "    intermitent_data[\"Unique_ID\"] = all_wallets\n",
    "    intermitent_data[\"difference_transactions\"] = difference_transactions\n",
    "    intermitent_data[\"has_illicit_trans\"] = has_illicit_trans\n",
    "    intermitent_data[\"number_of_illicit\"] = num_of_illicit\n",
    "    intermitent_data[\"number_of_BTC\"] = num_of_BTC\n",
    "    intermitent_data[\"only_sending\"] = only_sending_list\n",
    "    intermitent_data[\"only_recieving\"] = only_recieving_list\n",
    "    intermitent_data[\"min_in\"] = min_in_arr\n",
    "    intermitent_data[\"min_out\"] = min_out_arr\n",
    "    intermitent_data[\"max_in\"] = max_in_arr\n",
    "    intermitent_data[\"max_out\"] = max_out_arr                \n",
    "                               \n",
    "    new_dataset = features_pandas.merge(intermitent_data,how=\"left\",left_on=\"Unique_ID_output\",right_on = \"Unique_ID\")\n",
    "\n",
    "    return new_dataset.fillna(0)\n",
    "    "
   ]
  },
  {
   "cell_type": "code",
   "execution_count": 56,
   "metadata": {},
   "outputs": [],
   "source": [
    "import warnings\n",
    "warnings.simplefilter(action='ignore', category=FutureWarning)\n"
   ]
  },
  {
   "cell_type": "code",
   "execution_count": 57,
   "metadata": {},
   "outputs": [],
   "source": [
    "import pandas as pd\n",
    "pd.options.mode.chained_assignment = None  # default='war"
   ]
  },
  {
   "cell_type": "code",
   "execution_count": 58,
   "metadata": {},
   "outputs": [],
   "source": [
    "#node_features = get_data_for_wallet(kdf)"
   ]
  },
  {
   "cell_type": "code",
   "execution_count": 59,
   "metadata": {
    "scrolled": false
   },
   "outputs": [
    {
     "ename": "NameError",
     "evalue": "name 'node_features' is not defined",
     "output_type": "error",
     "traceback": [
      "\u001b[1;31m---------------------------------------------------------------------------\u001b[0m",
      "\u001b[1;31mNameError\u001b[0m                                 Traceback (most recent call last)",
      "Input \u001b[1;32mIn [59]\u001b[0m, in \u001b[0;36m<cell line: 1>\u001b[1;34m()\u001b[0m\n\u001b[1;32m----> 1\u001b[0m np\u001b[38;5;241m.\u001b[39munique(\u001b[43mnode_features\u001b[49m[\u001b[38;5;124m\"\u001b[39m\u001b[38;5;124mtricount_output\u001b[39m\u001b[38;5;124m\"\u001b[39m])\n",
      "\u001b[1;31mNameError\u001b[0m: name 'node_features' is not defined"
     ]
    }
   ],
   "source": [
    "np.unique(node_features[\"tricount_output\"])"
   ]
  },
  {
   "cell_type": "code",
   "execution_count": 60,
   "metadata": {},
   "outputs": [
    {
     "ename": "NameError",
     "evalue": "name 'node_features' is not defined",
     "output_type": "error",
     "traceback": [
      "\u001b[1;31m---------------------------------------------------------------------------\u001b[0m",
      "\u001b[1;31mNameError\u001b[0m                                 Traceback (most recent call last)",
      "Input \u001b[1;32mIn [60]\u001b[0m, in \u001b[0;36m<cell line: 1>\u001b[1;34m()\u001b[0m\n\u001b[1;32m----> 1\u001b[0m \u001b[43mnode_features\u001b[49m[\u001b[38;5;124m'\u001b[39m\u001b[38;5;124mhas_illicit_trans\u001b[39m\u001b[38;5;124m'\u001b[39m]\u001b[38;5;241m.\u001b[39mastype(\u001b[38;5;124m'\u001b[39m\u001b[38;5;124mcategory\u001b[39m\u001b[38;5;124m'\u001b[39m)\u001b[38;5;241m.\u001b[39mcat\u001b[38;5;241m.\u001b[39mcodes\u001b[38;5;241m.\u001b[39mto_numpy()\n",
      "\u001b[1;31mNameError\u001b[0m: name 'node_features' is not defined"
     ]
    }
   ],
   "source": [
    "node_features['has_illicit_trans'].astype('category').cat.codes.to_numpy()"
   ]
  },
  {
   "cell_type": "code",
   "execution_count": 72,
   "metadata": {},
   "outputs": [
    {
     "name": "stdout",
     "output_type": "stream",
     "text": [
      "Empty DataFrame\n",
      "Columns: [id, Unique_ID, degree, inDegree, outDegree, pagerank, count, label, difference_transactionshas_illicit_trans, number_of_illicit, num_of_BTC, only_sending, only_recieving, min_in, min_out, max_in, max_out]\n",
      "Index: []\n",
      "torch.Size([35239])\n",
      "torch.Size([35239, 16])\n",
      "Graph(num_nodes=35239, num_edges=76064,\n",
      "      ndata_schemes={'feat': Scheme(shape=(16,), dtype=torch.float64), 'label': Scheme(shape=(), dtype=torch.int8), 'train_mask': Scheme(shape=(), dtype=torch.bool), 'val_mask': Scheme(shape=(), dtype=torch.bool), 'test_mask': Scheme(shape=(), dtype=torch.bool)}\n",
      "      edata_schemes={})\n"
     ]
    }
   ],
   "source": [
    "import dgl\n",
    "from dgl.data import DGLDataset\n",
    "import torch\n",
    "import os\n",
    "\n",
    "class BlockChainNetwork(DGLDataset):\n",
    "    def __init__(self):\n",
    "        super().__init__(name='Bitcoin Tranasactions')\n",
    "\n",
    "    def process(self):\n",
    "        node_features = get_data_for_wallet(kdf)\n",
    "        #node_features = node_features.fillna(0)\n",
    "        #edges_data = pd.read_csv('./interactions.csv')\n",
    "        intermitent = node_features['has_illicit_trans'].astype('category').cat.codes.to_numpy()\n",
    "        node_labels = torch.from_numpy(intermitent)\n",
    "        node_features = torch.from_numpy(node_features[[\"id_output\",\"degree_output\",\"inDegree_output\",\n",
    "                                                          \"outDegree_output\",\"pagerank_output\",\"tricount_output\",\"label_output\",\n",
    "                                                          \"difference_transactions\",\n",
    "                                                          \"number_of_illicit\",\"num_of_BTC\",'only_sending',\n",
    "                                                          'only_recieving',\"min_in\",'min_out','max_in','max_out']].to_numpy())\n",
    "        \n",
    "        \n",
    "\n",
    "        \n",
    "        print(node_labels.shape)\n",
    "        print(node_features.shape)\n",
    "                                                        \n",
    "        #edge_features = torch.from_numpy(edges_data['Weight'].to_numpy())\n",
    "        edges_src = torch.from_numpy(kdf['src'].to_numpy())\n",
    "        edges_dst = torch.from_numpy(kdf['dst'].to_numpy())\n",
    "\n",
    "        self.graph = dgl.graph((edges_src, edges_dst), num_nodes=node_features.shape[0])\n",
    "        self.graph = dgl.add_self_loop(self.graph)\n",
    "        self.graph.ndata['feat'] = node_features\n",
    "        self.graph.ndata['label'] = node_labels\n",
    "        #self.graph.edata['weight'] = edge_features\n",
    "\n",
    "        # If your dataset is a node classification dataset, you will need to assign\n",
    "        # masks indicating whether a node belongs to training, validation, and test set.\n",
    "        n_nodes = node_features.shape[0]\n",
    "        n_train = int(n_nodes * 0.6)\n",
    "        n_val = int(n_nodes * 0.2)\n",
    "        train_mask = torch.zeros(n_nodes, dtype=torch.bool)\n",
    "        val_mask = torch.zeros(n_nodes, dtype=torch.bool)\n",
    "        test_mask = torch.zeros(n_nodes, dtype=torch.bool)\n",
    "        train_mask[:n_train] = True\n",
    "        val_mask[n_train:n_train + n_val] = True\n",
    "        test_mask[n_train + n_val:] = True\n",
    "        self.graph.ndata['train_mask'] = train_mask\n",
    "        self.graph.ndata['val_mask'] = val_mask\n",
    "        self.graph.ndata['test_mask'] = test_mask\n",
    "\n",
    "    def __getitem__(self, i):\n",
    "        return self.graph\n",
    "\n",
    "    def __len__(self):\n",
    "        return 1\n",
    "\n",
    "dataset = BlockChainNetwork()\n",
    "graph = dataset[0]\n",
    "\n",
    "print(graph)"
   ]
  },
  {
   "cell_type": "code",
   "execution_count": 128,
   "metadata": {},
   "outputs": [],
   "source": [
    "\"\"\"class NodeClassifier(tf.keras.Model):\n",
    "    def __init__(self, g, in_feats, h_feats, num_classes):\n",
    "        super(NodeClassifier, self).__init__()\n",
    "        self.g = g\n",
    "        self.conv1 = GraphConv(in_feats, h_feats, activation=tf.nn.relu)\n",
    "        self.conv2 = GraphConv(h_feats, num_classes)\n",
    "        \n",
    "      \n",
    "    def call(self, in_feat):\n",
    "        h = self.conv1(self.g, in_feat)\n",
    "        h = self.conv2(self.g, h)\n",
    "        return h\n",
    "    \n",
    "g = dataset[0]\n",
    "model = NodeClassifier(\n",
    "  g, g.ndata[\"feat\"].shape[1], 16, dataset.num_classes)\n",
    "  \"\"\"\n",
    "from dgl.nn import GraphConv\n",
    "from dgl.nn import SAGEConv\n",
    "\n",
    "class GCN(nn.Module):\n",
    "    def __init__(self, in_feats, h_feats, num_classes):\n",
    "        super(GCN, self).__init__()\n",
    "        self.conv1 = SAGEConv(in_feats, h_feats,\"pool\")\n",
    "        self.conv2 = SAGEConv(h_feats, num_classes,\"pool\")\n",
    "\n",
    "    def forward(self, g, in_feat):\n",
    "        h = self.conv1(g, in_feat)\n",
    "        h = F.relu(h)\n",
    "        h = self.conv2(g, h)\n",
    "        return h\n",
    "\n",
    "\n",
    "# Create the model with given dimensions\n",
    "g = dataset[0]\n",
    "model = GCN(g.ndata[\"feat\"].shape[1], 16, 2)"
   ]
  },
  {
   "cell_type": "code",
   "execution_count": 129,
   "metadata": {},
   "outputs": [
    {
     "data": {
      "text/plain": [
       "tensor([4.2900e+02, 1.0000e+00, 0.0000e+00, 1.0000e+00, 4.5062e-01, 0.0000e+00,\n",
       "        2.3399e+04, 1.0000e+00, 1.0000e+00, 0.0000e+00, 1.0000e+00, 0.0000e+00,\n",
       "        6.0000e-04, 0.0000e+00, 6.0000e-04, 0.0000e+00], dtype=torch.float64)"
      ]
     },
     "execution_count": 129,
     "metadata": {},
     "output_type": "execute_result"
    }
   ],
   "source": [
    "g.ndata[\"feat\"][0]"
   ]
  },
  {
   "cell_type": "code",
   "execution_count": 137,
   "metadata": {},
   "outputs": [
    {
     "ename": "RuntimeError",
     "evalue": "mat1 and mat2 must have the same dtype",
     "output_type": "error",
     "traceback": [
      "\u001b[1;31m---------------------------------------------------------------------------\u001b[0m",
      "\u001b[1;31mRuntimeError\u001b[0m                              Traceback (most recent call last)",
      "Input \u001b[1;32mIn [137]\u001b[0m, in \u001b[0;36m<cell line: 47>\u001b[1;34m()\u001b[0m\n\u001b[0;32m     38\u001b[0m         \u001b[38;5;28;01mif\u001b[39;00m e \u001b[38;5;241m%\u001b[39m \u001b[38;5;241m10\u001b[39m \u001b[38;5;241m==\u001b[39m \u001b[38;5;241m0\u001b[39m:\n\u001b[0;32m     39\u001b[0m             \u001b[38;5;28mprint\u001b[39m(\n\u001b[0;32m     40\u001b[0m                 \u001b[38;5;124m\"\u001b[39m\u001b[38;5;124mIn epoch \u001b[39m\u001b[38;5;132;01m{}\u001b[39;00m\u001b[38;5;124m, loss: \u001b[39m\u001b[38;5;132;01m{:.3f}\u001b[39;00m\u001b[38;5;124m, val acc: \u001b[39m\u001b[38;5;132;01m{:.3f}\u001b[39;00m\u001b[38;5;124m (best \u001b[39m\u001b[38;5;132;01m{:.3f}\u001b[39;00m\u001b[38;5;124m), test acc: \u001b[39m\u001b[38;5;132;01m{:.3f}\u001b[39;00m\u001b[38;5;124m (best \u001b[39m\u001b[38;5;132;01m{:.3f}\u001b[39;00m\u001b[38;5;124m)\u001b[39m\u001b[38;5;124m\"\u001b[39m\u001b[38;5;241m.\u001b[39mformat(\n\u001b[0;32m     41\u001b[0m                     e, loss, val_acc, best_val_acc, test_acc, best_test_acc\n\u001b[0;32m     42\u001b[0m                 )\n\u001b[0;32m     43\u001b[0m             )\n\u001b[1;32m---> 47\u001b[0m \u001b[43mtrain\u001b[49m\u001b[43m(\u001b[49m\u001b[43mg\u001b[49m\u001b[43m,\u001b[49m\u001b[43m \u001b[49m\u001b[43mmodel\u001b[49m\u001b[43m)\u001b[49m\n",
      "Input \u001b[1;32mIn [137]\u001b[0m, in \u001b[0;36mtrain\u001b[1;34m(g, model)\u001b[0m\n\u001b[0;32m     10\u001b[0m test_mask \u001b[38;5;241m=\u001b[39m g\u001b[38;5;241m.\u001b[39mndata[\u001b[38;5;124m\"\u001b[39m\u001b[38;5;124mtest_mask\u001b[39m\u001b[38;5;124m\"\u001b[39m]\n\u001b[0;32m     11\u001b[0m \u001b[38;5;28;01mfor\u001b[39;00m e \u001b[38;5;129;01min\u001b[39;00m \u001b[38;5;28mrange\u001b[39m(\u001b[38;5;241m1000\u001b[39m):\n\u001b[0;32m     12\u001b[0m     \u001b[38;5;66;03m# Forward\u001b[39;00m\n\u001b[1;32m---> 13\u001b[0m     logits \u001b[38;5;241m=\u001b[39m \u001b[43mmodel\u001b[49m\u001b[43m(\u001b[49m\u001b[43mg\u001b[49m\u001b[43m,\u001b[49m\u001b[43m \u001b[49m\u001b[43mfeatures\u001b[49m\u001b[43m)\u001b[49m\n\u001b[0;32m     15\u001b[0m     \u001b[38;5;66;03m# Compute prediction\u001b[39;00m\n\u001b[0;32m     16\u001b[0m     pred \u001b[38;5;241m=\u001b[39m logits\u001b[38;5;241m.\u001b[39margmax(\u001b[38;5;241m1\u001b[39m)\n",
      "File \u001b[1;32m~\\Anaconda3\\lib\\site-packages\\torch\\nn\\modules\\module.py:1190\u001b[0m, in \u001b[0;36mModule._call_impl\u001b[1;34m(self, *input, **kwargs)\u001b[0m\n\u001b[0;32m   1186\u001b[0m \u001b[38;5;66;03m# If we don't have any hooks, we want to skip the rest of the logic in\u001b[39;00m\n\u001b[0;32m   1187\u001b[0m \u001b[38;5;66;03m# this function, and just call forward.\u001b[39;00m\n\u001b[0;32m   1188\u001b[0m \u001b[38;5;28;01mif\u001b[39;00m \u001b[38;5;129;01mnot\u001b[39;00m (\u001b[38;5;28mself\u001b[39m\u001b[38;5;241m.\u001b[39m_backward_hooks \u001b[38;5;129;01mor\u001b[39;00m \u001b[38;5;28mself\u001b[39m\u001b[38;5;241m.\u001b[39m_forward_hooks \u001b[38;5;129;01mor\u001b[39;00m \u001b[38;5;28mself\u001b[39m\u001b[38;5;241m.\u001b[39m_forward_pre_hooks \u001b[38;5;129;01mor\u001b[39;00m _global_backward_hooks\n\u001b[0;32m   1189\u001b[0m         \u001b[38;5;129;01mor\u001b[39;00m _global_forward_hooks \u001b[38;5;129;01mor\u001b[39;00m _global_forward_pre_hooks):\n\u001b[1;32m-> 1190\u001b[0m     \u001b[38;5;28;01mreturn\u001b[39;00m forward_call(\u001b[38;5;241m*\u001b[39m\u001b[38;5;28minput\u001b[39m, \u001b[38;5;241m*\u001b[39m\u001b[38;5;241m*\u001b[39mkwargs)\n\u001b[0;32m   1191\u001b[0m \u001b[38;5;66;03m# Do not call functions when jit is used\u001b[39;00m\n\u001b[0;32m   1192\u001b[0m full_backward_hooks, non_full_backward_hooks \u001b[38;5;241m=\u001b[39m [], []\n",
      "Input \u001b[1;32mIn [128]\u001b[0m, in \u001b[0;36mGCN.forward\u001b[1;34m(self, g, in_feat)\u001b[0m\n\u001b[0;32m     27\u001b[0m \u001b[38;5;28;01mdef\u001b[39;00m \u001b[38;5;21mforward\u001b[39m(\u001b[38;5;28mself\u001b[39m, g, in_feat):\n\u001b[1;32m---> 28\u001b[0m     h \u001b[38;5;241m=\u001b[39m \u001b[38;5;28;43mself\u001b[39;49m\u001b[38;5;241;43m.\u001b[39;49m\u001b[43mconv1\u001b[49m\u001b[43m(\u001b[49m\u001b[43mg\u001b[49m\u001b[43m,\u001b[49m\u001b[43m \u001b[49m\u001b[43min_feat\u001b[49m\u001b[43m)\u001b[49m\n\u001b[0;32m     29\u001b[0m     h \u001b[38;5;241m=\u001b[39m F\u001b[38;5;241m.\u001b[39mrelu(h)\n\u001b[0;32m     30\u001b[0m     h \u001b[38;5;241m=\u001b[39m \u001b[38;5;28mself\u001b[39m\u001b[38;5;241m.\u001b[39mconv2(g, h)\n",
      "File \u001b[1;32m~\\Anaconda3\\lib\\site-packages\\torch\\nn\\modules\\module.py:1190\u001b[0m, in \u001b[0;36mModule._call_impl\u001b[1;34m(self, *input, **kwargs)\u001b[0m\n\u001b[0;32m   1186\u001b[0m \u001b[38;5;66;03m# If we don't have any hooks, we want to skip the rest of the logic in\u001b[39;00m\n\u001b[0;32m   1187\u001b[0m \u001b[38;5;66;03m# this function, and just call forward.\u001b[39;00m\n\u001b[0;32m   1188\u001b[0m \u001b[38;5;28;01mif\u001b[39;00m \u001b[38;5;129;01mnot\u001b[39;00m (\u001b[38;5;28mself\u001b[39m\u001b[38;5;241m.\u001b[39m_backward_hooks \u001b[38;5;129;01mor\u001b[39;00m \u001b[38;5;28mself\u001b[39m\u001b[38;5;241m.\u001b[39m_forward_hooks \u001b[38;5;129;01mor\u001b[39;00m \u001b[38;5;28mself\u001b[39m\u001b[38;5;241m.\u001b[39m_forward_pre_hooks \u001b[38;5;129;01mor\u001b[39;00m _global_backward_hooks\n\u001b[0;32m   1189\u001b[0m         \u001b[38;5;129;01mor\u001b[39;00m _global_forward_hooks \u001b[38;5;129;01mor\u001b[39;00m _global_forward_pre_hooks):\n\u001b[1;32m-> 1190\u001b[0m     \u001b[38;5;28;01mreturn\u001b[39;00m forward_call(\u001b[38;5;241m*\u001b[39m\u001b[38;5;28minput\u001b[39m, \u001b[38;5;241m*\u001b[39m\u001b[38;5;241m*\u001b[39mkwargs)\n\u001b[0;32m   1191\u001b[0m \u001b[38;5;66;03m# Do not call functions when jit is used\u001b[39;00m\n\u001b[0;32m   1192\u001b[0m full_backward_hooks, non_full_backward_hooks \u001b[38;5;241m=\u001b[39m [], []\n",
      "File \u001b[1;32m~\\Anaconda3\\lib\\site-packages\\dgl\\nn\\pytorch\\conv\\sageconv.py:256\u001b[0m, in \u001b[0;36mSAGEConv.forward\u001b[1;34m(self, graph, feat, edge_weight)\u001b[0m\n\u001b[0;32m    254\u001b[0m         h_neigh \u001b[38;5;241m=\u001b[39m \u001b[38;5;28mself\u001b[39m\u001b[38;5;241m.\u001b[39mfc_neigh(h_neigh)\n\u001b[0;32m    255\u001b[0m \u001b[38;5;28;01melif\u001b[39;00m \u001b[38;5;28mself\u001b[39m\u001b[38;5;241m.\u001b[39m_aggre_type \u001b[38;5;241m==\u001b[39m \u001b[38;5;124m'\u001b[39m\u001b[38;5;124mpool\u001b[39m\u001b[38;5;124m'\u001b[39m:\n\u001b[1;32m--> 256\u001b[0m     graph\u001b[38;5;241m.\u001b[39msrcdata[\u001b[38;5;124m'\u001b[39m\u001b[38;5;124mh\u001b[39m\u001b[38;5;124m'\u001b[39m] \u001b[38;5;241m=\u001b[39m F\u001b[38;5;241m.\u001b[39mrelu(\u001b[38;5;28;43mself\u001b[39;49m\u001b[38;5;241;43m.\u001b[39;49m\u001b[43mfc_pool\u001b[49m\u001b[43m(\u001b[49m\u001b[43mfeat_src\u001b[49m\u001b[43m)\u001b[49m)\n\u001b[0;32m    257\u001b[0m     graph\u001b[38;5;241m.\u001b[39mupdate_all(msg_fn, fn\u001b[38;5;241m.\u001b[39mmax(\u001b[38;5;124m'\u001b[39m\u001b[38;5;124mm\u001b[39m\u001b[38;5;124m'\u001b[39m, \u001b[38;5;124m'\u001b[39m\u001b[38;5;124mneigh\u001b[39m\u001b[38;5;124m'\u001b[39m))\n\u001b[0;32m    258\u001b[0m     h_neigh \u001b[38;5;241m=\u001b[39m \u001b[38;5;28mself\u001b[39m\u001b[38;5;241m.\u001b[39mfc_neigh(graph\u001b[38;5;241m.\u001b[39mdstdata[\u001b[38;5;124m'\u001b[39m\u001b[38;5;124mneigh\u001b[39m\u001b[38;5;124m'\u001b[39m])\n",
      "File \u001b[1;32m~\\Anaconda3\\lib\\site-packages\\torch\\nn\\modules\\module.py:1190\u001b[0m, in \u001b[0;36mModule._call_impl\u001b[1;34m(self, *input, **kwargs)\u001b[0m\n\u001b[0;32m   1186\u001b[0m \u001b[38;5;66;03m# If we don't have any hooks, we want to skip the rest of the logic in\u001b[39;00m\n\u001b[0;32m   1187\u001b[0m \u001b[38;5;66;03m# this function, and just call forward.\u001b[39;00m\n\u001b[0;32m   1188\u001b[0m \u001b[38;5;28;01mif\u001b[39;00m \u001b[38;5;129;01mnot\u001b[39;00m (\u001b[38;5;28mself\u001b[39m\u001b[38;5;241m.\u001b[39m_backward_hooks \u001b[38;5;129;01mor\u001b[39;00m \u001b[38;5;28mself\u001b[39m\u001b[38;5;241m.\u001b[39m_forward_hooks \u001b[38;5;129;01mor\u001b[39;00m \u001b[38;5;28mself\u001b[39m\u001b[38;5;241m.\u001b[39m_forward_pre_hooks \u001b[38;5;129;01mor\u001b[39;00m _global_backward_hooks\n\u001b[0;32m   1189\u001b[0m         \u001b[38;5;129;01mor\u001b[39;00m _global_forward_hooks \u001b[38;5;129;01mor\u001b[39;00m _global_forward_pre_hooks):\n\u001b[1;32m-> 1190\u001b[0m     \u001b[38;5;28;01mreturn\u001b[39;00m forward_call(\u001b[38;5;241m*\u001b[39m\u001b[38;5;28minput\u001b[39m, \u001b[38;5;241m*\u001b[39m\u001b[38;5;241m*\u001b[39mkwargs)\n\u001b[0;32m   1191\u001b[0m \u001b[38;5;66;03m# Do not call functions when jit is used\u001b[39;00m\n\u001b[0;32m   1192\u001b[0m full_backward_hooks, non_full_backward_hooks \u001b[38;5;241m=\u001b[39m [], []\n",
      "File \u001b[1;32m~\\Anaconda3\\lib\\site-packages\\torch\\nn\\modules\\linear.py:114\u001b[0m, in \u001b[0;36mLinear.forward\u001b[1;34m(self, input)\u001b[0m\n\u001b[0;32m    113\u001b[0m \u001b[38;5;28;01mdef\u001b[39;00m \u001b[38;5;21mforward\u001b[39m(\u001b[38;5;28mself\u001b[39m, \u001b[38;5;28minput\u001b[39m: Tensor) \u001b[38;5;241m-\u001b[39m\u001b[38;5;241m>\u001b[39m Tensor:\n\u001b[1;32m--> 114\u001b[0m     \u001b[38;5;28;01mreturn\u001b[39;00m \u001b[43mF\u001b[49m\u001b[38;5;241;43m.\u001b[39;49m\u001b[43mlinear\u001b[49m\u001b[43m(\u001b[49m\u001b[38;5;28;43minput\u001b[39;49m\u001b[43m,\u001b[49m\u001b[43m \u001b[49m\u001b[38;5;28;43mself\u001b[39;49m\u001b[38;5;241;43m.\u001b[39;49m\u001b[43mweight\u001b[49m\u001b[43m,\u001b[49m\u001b[43m \u001b[49m\u001b[38;5;28;43mself\u001b[39;49m\u001b[38;5;241;43m.\u001b[39;49m\u001b[43mbias\u001b[49m\u001b[43m)\u001b[49m\n",
      "\u001b[1;31mRuntimeError\u001b[0m: mat1 and mat2 must have the same dtype"
     ]
    }
   ],
   "source": [
    "def train(g, model):\n",
    "    optimizer = torch.optim.Adam(model.parameters(), lr=0.01)\n",
    "    best_val_acc = 0\n",
    "    best_test_acc = 0\n",
    "\n",
    "    features = g.ndata[\"feat\"].long()\n",
    "    labels = g.ndata[\"label\"].long()\n",
    "    train_mask = g.ndata[\"train_mask\"]\n",
    "    val_mask = g.ndata[\"val_mask\"]\n",
    "    test_mask = g.ndata[\"test_mask\"]\n",
    "    for e in range(1000):\n",
    "        # Forward\n",
    "        logits = model(g, features)\n",
    "\n",
    "        # Compute prediction\n",
    "        pred = logits.argmax(1)\n",
    "\n",
    "        # Compute loss\n",
    "        # Note that you should only compute the losses of the nodes in the training set.\n",
    "        print(logits.dtype)\n",
    "        loss = F.cross_entropy(np.squeeze(logits[train_mask]), labels[train_mask])\n",
    "    \n",
    "        # Compute accuracy on training/validation/test\n",
    "        train_acc = (pred[train_mask] == labels[train_mask]).float().mean()\n",
    "        val_acc = (pred[val_mask] == labels[val_mask]).float().mean()\n",
    "        test_acc = (pred[test_mask] == labels[test_mask]).float().mean()\n",
    "\n",
    "        # Save the best validation accuracy and the corresponding test accuracy.\n",
    "        if best_val_acc < val_acc:\n",
    "            best_val_acc = val_acc\n",
    "            best_test_acc = test_acc\n",
    "\n",
    "        # Backward\n",
    "        optimizer.zero_grad()\n",
    "        loss.backward()\n",
    "        optimizer.step()\n",
    "\n",
    "        if e % 10 == 0:\n",
    "            print(\n",
    "                \"In epoch {}, loss: {:.3f}, val acc: {:.3f} (best {:.3f}), test acc: {:.3f} (best {:.3f})\".format(\n",
    "                    e, loss, val_acc, best_val_acc, test_acc, best_test_acc\n",
    "                )\n",
    "            )\n",
    "\n",
    "\n",
    "\n",
    "train(g, model)"
   ]
  },
  {
   "cell_type": "code",
   "execution_count": null,
   "metadata": {},
   "outputs": [],
   "source": []
  },
  {
   "cell_type": "code",
   "execution_count": null,
   "metadata": {},
   "outputs": [],
   "source": []
  },
  {
   "cell_type": "code",
   "execution_count": null,
   "metadata": {},
   "outputs": [],
   "source": []
  },
  {
   "cell_type": "code",
   "execution_count": null,
   "metadata": {},
   "outputs": [],
   "source": []
  },
  {
   "cell_type": "code",
   "execution_count": null,
   "metadata": {},
   "outputs": [],
   "source": []
  },
  {
   "cell_type": "code",
   "execution_count": null,
   "metadata": {},
   "outputs": [],
   "source": []
  },
  {
   "cell_type": "code",
   "execution_count": null,
   "metadata": {},
   "outputs": [],
   "source": []
  },
  {
   "cell_type": "code",
   "execution_count": null,
   "metadata": {},
   "outputs": [],
   "source": []
  }
 ],
 "metadata": {
  "kernelspec": {
   "display_name": "Python 3 (ipykernel)",
   "language": "python",
   "name": "python3"
  },
  "language_info": {
   "codemirror_mode": {
    "name": "ipython",
    "version": 3
   },
   "file_extension": ".py",
   "mimetype": "text/x-python",
   "name": "python",
   "nbconvert_exporter": "python",
   "pygments_lexer": "ipython3",
   "version": "3.9.12"
  },
  "vscode": {
   "interpreter": {
    "hash": "f98d779cd59260a0e41e3b88adb0d0247f656b4ec708b0e1d26872926dffa4b3"
   }
  }
 },
 "nbformat": 4,
 "nbformat_minor": 2
}
