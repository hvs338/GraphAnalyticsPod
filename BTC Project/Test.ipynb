{
 "cells": [
  {
   "cell_type": "code",
   "execution_count": 1,
   "id": "f1446340",
   "metadata": {},
   "outputs": [],
   "source": [
    "from pyspark.sql.functions import col, explode, year, month\n",
    "from pyspark.sql import SparkSession\n",
    "import findspark"
   ]
  },
  {
   "cell_type": "code",
   "execution_count": 2,
   "id": "9518c5cc",
   "metadata": {},
   "outputs": [],
   "source": [
    "findspark.init()"
   ]
  },
  {
   "cell_type": "code",
   "execution_count": 3,
   "id": "b4ea01bf",
   "metadata": {},
   "outputs": [
    {
     "data": {
      "text/plain": [
       "'C:\\\\Java\\\\jdk1.8.0_341'"
      ]
     },
     "execution_count": 3,
     "metadata": {},
     "output_type": "execute_result"
    }
   ],
   "source": [
    "import os\n",
    "\n",
    "os.environ[\"JAVA_HOME\"]"
   ]
  },
  {
   "cell_type": "code",
   "execution_count": null,
   "id": "d91ad86c",
   "metadata": {},
   "outputs": [],
   "source": [
    "spark = SparkSession.builder.master('yarn').appName('ChainAnalysis_v0').getOrCreate()\n",
    "# YARN Causes error Exception: Java gateway process exited before sending the driver its port number, but changining to local\n",
    "# fixes this problem\n",
    "\n",
    "\n",
    "\n",
    "#spark.config('spark.jars', 'gs://spark-lib/bigquery/spark-bigquery-latest.jar')\n",
    "#spark.config('spark.executor.cores', '3')\n",
    "#spark.config('spark.executor.memory', '5g')\n",
    "#spark.config(\"spark.sql.broadcastTimeout\", \"36000\")\n",
    "#spark.config('spark.port.maxRetries', 100)\n",
    "\n",
    "#sc = spark.sparkContext\n"
   ]
  },
  {
   "cell_type": "code",
   "execution_count": 11,
   "id": "c93e95e1",
   "metadata": {},
   "outputs": [],
   "source": [
    "#spark = spark = SparkSession.builder.master(\"local\").appName(\"Test Spark\").getOrCreate()\n",
    "#sc= spark.sparkContext"
   ]
  },
  {
   "cell_type": "code",
   "execution_count": null,
   "id": "b68f402f",
   "metadata": {},
   "outputs": [],
   "source": [
    "spark"
   ]
  },
  {
   "cell_type": "code",
   "execution_count": null,
   "id": "fd064122",
   "metadata": {},
   "outputs": [],
   "source": []
  }
 ],
 "metadata": {
  "kernelspec": {
   "display_name": "Python 3 (ipykernel)",
   "language": "python",
   "name": "python3"
  },
  "language_info": {
   "codemirror_mode": {
    "name": "ipython",
    "version": 3
   },
   "file_extension": ".py",
   "mimetype": "text/x-python",
   "name": "python",
   "nbconvert_exporter": "python",
   "pygments_lexer": "ipython3",
   "version": "3.9.12"
  }
 },
 "nbformat": 4,
 "nbformat_minor": 5
}
